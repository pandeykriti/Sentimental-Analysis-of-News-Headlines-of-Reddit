{
  "nbformat": 4,
  "nbformat_minor": 0,
  "metadata": {
    "colab": {
      "name": "Untitled16.ipynb",
      "provenance": [],
      "authorship_tag": "ABX9TyP9RwQInXj0QbT4ethjbvg2",
      "include_colab_link": true
    },
    "kernelspec": {
      "name": "python3",
      "display_name": "Python 3"
    },
    "language_info": {
      "name": "python"
    }
  },
  "cells": [
    {
      "cell_type": "markdown",
      "metadata": {
        "id": "view-in-github",
        "colab_type": "text"
      },
      "source": [
        "<a href=\"https://colab.research.google.com/github/pandeykriti/Sentimental-Analysis-of-News-Headlines-of-Reddit/blob/main/Untitled16.ipynb\" target=\"_parent\"><img src=\"https://colab.research.google.com/assets/colab-badge.svg\" alt=\"Open In Colab\"/></a>"
      ]
    },
    {
      "cell_type": "code",
      "metadata": {
        "id": "_QDnzFd9jBEy",
        "colab": {
          "base_uri": "https://localhost:8080/"
        },
        "outputId": "ae8b3a0d-6e62-4675-a018-efcee8b2cbf4"
      },
      "source": [
        "!pip install NRCLex\n"
      ],
      "execution_count": 1,
      "outputs": [
        {
          "output_type": "stream",
          "text": [
            "Collecting NRCLex\n",
            "\u001b[?25l  Downloading https://files.pythonhosted.org/packages/41/1c/0097ee39d456c8a92b2eb5dfd59f581a09a6bafede184a058fb0f19bb6ea/NRCLex-3.0.0.tar.gz (396kB)\n",
            "\u001b[K     |████████████████████████████████| 399kB 2.8MB/s \n",
            "\u001b[?25hRequirement already satisfied: textblob in /usr/local/lib/python3.7/dist-packages (from NRCLex) (0.15.3)\n",
            "Requirement already satisfied: nltk>=3.1 in /usr/local/lib/python3.7/dist-packages (from textblob->NRCLex) (3.2.5)\n",
            "Requirement already satisfied: six in /usr/local/lib/python3.7/dist-packages (from nltk>=3.1->textblob->NRCLex) (1.15.0)\n",
            "Building wheels for collected packages: NRCLex\n",
            "  Building wheel for NRCLex (setup.py) ... \u001b[?25l\u001b[?25hdone\n",
            "  Created wheel for NRCLex: filename=NRCLex-3.0.0-cp37-none-any.whl size=43328 sha256=bc2e4cf238673e4ac602d707671b633fc514162d7870be9fec8aa9e58d74b433\n",
            "  Stored in directory: /root/.cache/pip/wheels/17/31/64/035a8d245b4c217aeb8e8a2702d05dc91544b9c2334db72414\n",
            "Successfully built NRCLex\n",
            "Installing collected packages: NRCLex\n",
            "Successfully installed NRCLex-3.0.0\n"
          ],
          "name": "stdout"
        }
      ]
    },
    {
      "cell_type": "code",
      "metadata": {
        "colab": {
          "base_uri": "https://localhost:8080/"
        },
        "id": "WduWfGfiPHpO",
        "outputId": "2684bc56-5de6-4da7-e012-c1c59d35484c"
      },
      "source": [
        "#installing an API wrapper\n",
        "!pip install -q praw\n",
        "import praw\n",
        " \n",
        "reddit = praw.Reddit(client_id='v04FYUyL6rMHFQ',\n",
        "                     client_secret='UrC8OzxU9ZQoO-dJbOIXBJADxHX_rQ',\n",
        "                     user_agent='Kritika Pandey')"
      ],
      "execution_count": 2,
      "outputs": [
        {
          "output_type": "stream",
          "text": [
            "\u001b[K     |████████████████████████████████| 163kB 2.8MB/s \n",
            "\u001b[K     |████████████████████████████████| 71kB 7.6MB/s \n",
            "\u001b[?25h"
          ],
          "name": "stdout"
        }
      ]
    },
    {
      "cell_type": "code",
      "metadata": {
        "id": "oFwf6l0mPN4I"
      },
      "source": [
        "#Importing libraries\n",
        "from IPython import display\n",
        "import math\n",
        "from pprint import pprint\n",
        "import pandas as pd\n",
        "import numpy as np\n",
        "import nltk\n",
        "import matplotlib.pyplot as plt\n",
        "import seaborn as sns\n",
        "sns.set(style='darkgrid', context='talk', palette='Dark2')\n",
        "#iterating over subredit /r/Indian health\n",
        "query = ['Gaming']\n",
        "\n",
        "for item in query:\n",
        "        post_dict = {\n",
        "            \"title\" : [],   #title of the post\n",
        "            \"created\" : [],  #timestamp of the post\n",
        "        }"
      ],
      "execution_count": 42,
      "outputs": []
    },
    {
      "cell_type": "code",
      "metadata": {
        "colab": {
          "base_uri": "https://localhost:8080/"
        },
        "id": "ZySP19egaHnu",
        "outputId": "09be0c33-5b30-462d-af7d-76cfb2fe4c84"
      },
      "source": [
        "from datetime import datetime\n",
        "sub = ['whowouldwin']  # make a list of subreddits you want to scrape the data from\n",
        "\n",
        "for s in sub:\n",
        "    subreddit = reddit.subreddit(s)   # Chosing the subreddit\n",
        "for submission in subreddit.search(query,sort = \"top\",limit = 10):\n",
        "            post_dict[\"title\"].append(submission.title)\n",
        "            post_dict[\"created\"].append(datetime.fromtimestamp(submission.created))"
      ],
      "execution_count": 67,
      "outputs": [
        {
          "output_type": "stream",
          "text": [
            "It appears that you are using PRAW in an asynchronous environment.\n",
            "It is strongly recommended to use Async PRAW: https://asyncpraw.readthedocs.io.\n",
            "See https://praw.readthedocs.io/en/latest/getting_started/multiple_instances.html#discord-bots-and-asynchronous-environments for more info.\n",
            "\n"
          ],
          "name": "stderr"
        }
      ]
    },
    {
      "cell_type": "code",
      "metadata": {
        "id": "f-Jy-2O-PSaP"
      },
      "source": [
        "post_data = pd.DataFrame(post_dict)"
      ],
      "execution_count": 68,
      "outputs": []
    },
    {
      "cell_type": "code",
      "metadata": {
        "colab": {
          "base_uri": "https://localhost:8080/",
          "height": 417
        },
        "id": "igDP3gqaaGh2",
        "outputId": "8f1b9adf-3603-4203-f52c-c9a370c87056"
      },
      "source": [
        "\n",
        "post_data"
      ],
      "execution_count": 69,
      "outputs": [
        {
          "output_type": "execute_result",
          "data": {
            "text/html": [
              "<div>\n",
              "<style scoped>\n",
              "    .dataframe tbody tr th:only-of-type {\n",
              "        vertical-align: middle;\n",
              "    }\n",
              "\n",
              "    .dataframe tbody tr th {\n",
              "        vertical-align: top;\n",
              "    }\n",
              "\n",
              "    .dataframe thead th {\n",
              "        text-align: right;\n",
              "    }\n",
              "</style>\n",
              "<table border=\"1\" class=\"dataframe\">\n",
              "  <thead>\n",
              "    <tr style=\"text-align: right;\">\n",
              "      <th></th>\n",
              "      <th>title</th>\n",
              "      <th>created</th>\n",
              "    </tr>\n",
              "  </thead>\n",
              "  <tbody>\n",
              "    <tr>\n",
              "      <th>0</th>\n",
              "      <td>Now that PBS has announced they'll be televisi...</td>\n",
              "      <td>1.57328e+09</td>\n",
              "    </tr>\n",
              "    <tr>\n",
              "      <th>1</th>\n",
              "      <td>Now that PBS has announced they'll be televisi...</td>\n",
              "      <td>1.57328e+09</td>\n",
              "    </tr>\n",
              "    <tr>\n",
              "      <th>2</th>\n",
              "      <td>In a video game, if you come across an empty r...</td>\n",
              "      <td>1.53747e+09</td>\n",
              "    </tr>\n",
              "    <tr>\n",
              "      <th>3</th>\n",
              "      <td>What old video games do you still play regularly?</td>\n",
              "      <td>1.5983e+09</td>\n",
              "    </tr>\n",
              "    <tr>\n",
              "      <th>4</th>\n",
              "      <td>You get a billion dollars if you can start a m...</td>\n",
              "      <td>1.57379e+09</td>\n",
              "    </tr>\n",
              "    <tr>\n",
              "      <th>...</th>\n",
              "      <td>...</td>\n",
              "      <td>...</td>\n",
              "    </tr>\n",
              "    <tr>\n",
              "      <th>504</th>\n",
              "      <td>normal guy who knows the rules of chess but ne...</td>\n",
              "      <td>2021-03-13 22:57:34</td>\n",
              "    </tr>\n",
              "    <tr>\n",
              "      <th>505</th>\n",
              "      <td>Rick Astley is on an escort mission. Who is th...</td>\n",
              "      <td>2020-10-08 23:18:24</td>\n",
              "    </tr>\n",
              "    <tr>\n",
              "      <th>506</th>\n",
              "      <td>A chess game where one side has fifteen bishop...</td>\n",
              "      <td>2019-03-05 21:42:30</td>\n",
              "    </tr>\n",
              "    <tr>\n",
              "      <th>507</th>\n",
              "      <td>Through an accidental slip of the tongue, Palp...</td>\n",
              "      <td>2021-01-25 02:24:02</td>\n",
              "    </tr>\n",
              "    <tr>\n",
              "      <th>508</th>\n",
              "      <td>Ant man VS the Flash in a game of hide-and-seek.</td>\n",
              "      <td>2016-09-02 21:08:14</td>\n",
              "    </tr>\n",
              "  </tbody>\n",
              "</table>\n",
              "<p>509 rows × 2 columns</p>\n",
              "</div>"
            ],
            "text/plain": [
              "                                                 title              created\n",
              "0    Now that PBS has announced they'll be televisi...          1.57328e+09\n",
              "1    Now that PBS has announced they'll be televisi...          1.57328e+09\n",
              "2    In a video game, if you come across an empty r...          1.53747e+09\n",
              "3    What old video games do you still play regularly?           1.5983e+09\n",
              "4    You get a billion dollars if you can start a m...          1.57379e+09\n",
              "..                                                 ...                  ...\n",
              "504  normal guy who knows the rules of chess but ne...  2021-03-13 22:57:34\n",
              "505  Rick Astley is on an escort mission. Who is th...  2020-10-08 23:18:24\n",
              "506  A chess game where one side has fifteen bishop...  2019-03-05 21:42:30\n",
              "507  Through an accidental slip of the tongue, Palp...  2021-01-25 02:24:02\n",
              "508   Ant man VS the Flash in a game of hide-and-seek.  2016-09-02 21:08:14\n",
              "\n",
              "[509 rows x 2 columns]"
            ]
          },
          "metadata": {
            "tags": []
          },
          "execution_count": 69
        }
      ]
    },
    {
      "cell_type": "code",
      "metadata": {
        "colab": {
          "base_uri": "https://localhost:8080/",
          "height": 203
        },
        "id": "3pA8X-U2QHOt",
        "outputId": "ff0f8e75-dbbb-4b37-88fc-d664c98b8505"
      },
      "source": [
        "df = pd.DataFrame.from_records(results)\n",
        "df.head()\n",
        "df['label'] = 0\n",
        "df.loc[df['compound'] > 0.2, 'label'] = 1\n",
        "df.loc[df['compound'] < -0.2, 'label'] = -1\n",
        "df.head()"
      ],
      "execution_count": 27,
      "outputs": [
        {
          "output_type": "execute_result",
          "data": {
            "text/html": [
              "<div>\n",
              "<style scoped>\n",
              "    .dataframe tbody tr th:only-of-type {\n",
              "        vertical-align: middle;\n",
              "    }\n",
              "\n",
              "    .dataframe tbody tr th {\n",
              "        vertical-align: top;\n",
              "    }\n",
              "\n",
              "    .dataframe thead th {\n",
              "        text-align: right;\n",
              "    }\n",
              "</style>\n",
              "<table border=\"1\" class=\"dataframe\">\n",
              "  <thead>\n",
              "    <tr style=\"text-align: right;\">\n",
              "      <th></th>\n",
              "      <th>neg</th>\n",
              "      <th>neu</th>\n",
              "      <th>pos</th>\n",
              "      <th>compound</th>\n",
              "      <th>headline</th>\n",
              "      <th>label</th>\n",
              "    </tr>\n",
              "  </thead>\n",
              "  <tbody>\n",
              "    <tr>\n",
              "      <th>0</th>\n",
              "      <td>0.185</td>\n",
              "      <td>0.538</td>\n",
              "      <td>0.277</td>\n",
              "      <td>0.2960</td>\n",
              "      <td>Centre’s vaccine policy prima facie arbitrary,...</td>\n",
              "      <td>1</td>\n",
              "    </tr>\n",
              "    <tr>\n",
              "      <th>1</th>\n",
              "      <td>0.000</td>\n",
              "      <td>0.294</td>\n",
              "      <td>0.706</td>\n",
              "      <td>0.3400</td>\n",
              "      <td>Car Enthusiasts</td>\n",
              "      <td>1</td>\n",
              "    </tr>\n",
              "    <tr>\n",
              "      <th>2</th>\n",
              "      <td>0.000</td>\n",
              "      <td>0.899</td>\n",
              "      <td>0.101</td>\n",
              "      <td>0.2023</td>\n",
              "      <td>NITI Aayog SDG index: 'Bihar ranks top from bo...</td>\n",
              "      <td>1</td>\n",
              "    </tr>\n",
              "    <tr>\n",
              "      <th>3</th>\n",
              "      <td>0.058</td>\n",
              "      <td>0.911</td>\n",
              "      <td>0.030</td>\n",
              "      <td>-0.2960</td>\n",
              "      <td>You want facts?Here are facts of at least 20 c...</td>\n",
              "      <td>-1</td>\n",
              "    </tr>\n",
              "    <tr>\n",
              "      <th>4</th>\n",
              "      <td>0.358</td>\n",
              "      <td>0.642</td>\n",
              "      <td>0.000</td>\n",
              "      <td>-0.7717</td>\n",
              "      <td>India orders unapproved COVID shots as it reel...</td>\n",
              "      <td>-1</td>\n",
              "    </tr>\n",
              "  </tbody>\n",
              "</table>\n",
              "</div>"
            ],
            "text/plain": [
              "     neg    neu  ...                                           headline  label\n",
              "0  0.185  0.538  ...  Centre’s vaccine policy prima facie arbitrary,...      1\n",
              "1  0.000  0.294  ...                                    Car Enthusiasts      1\n",
              "2  0.000  0.899  ...  NITI Aayog SDG index: 'Bihar ranks top from bo...      1\n",
              "3  0.058  0.911  ...  You want facts?Here are facts of at least 20 c...     -1\n",
              "4  0.358  0.642  ...  India orders unapproved COVID shots as it reel...     -1\n",
              "\n",
              "[5 rows x 6 columns]"
            ]
          },
          "metadata": {
            "tags": []
          },
          "execution_count": 27
        }
      ]
    },
    {
      "cell_type": "code",
      "metadata": {
        "id": "3p5Yvr39QWpv"
      },
      "source": [
        "df2=df[['headline']]"
      ],
      "execution_count": 30,
      "outputs": []
    },
    {
      "cell_type": "code",
      "metadata": {
        "colab": {
          "base_uri": "https://localhost:8080/",
          "height": 417
        },
        "id": "qkLTWMuOXpC1",
        "outputId": "6a91e5e5-088a-4a3e-9ce3-17abe6bc9fd1"
      },
      "source": [
        "df2"
      ],
      "execution_count": 31,
      "outputs": [
        {
          "output_type": "execute_result",
          "data": {
            "text/html": [
              "<div>\n",
              "<style scoped>\n",
              "    .dataframe tbody tr th:only-of-type {\n",
              "        vertical-align: middle;\n",
              "    }\n",
              "\n",
              "    .dataframe tbody tr th {\n",
              "        vertical-align: top;\n",
              "    }\n",
              "\n",
              "    .dataframe thead th {\n",
              "        text-align: right;\n",
              "    }\n",
              "</style>\n",
              "<table border=\"1\" class=\"dataframe\">\n",
              "  <thead>\n",
              "    <tr style=\"text-align: right;\">\n",
              "      <th></th>\n",
              "      <th>headline</th>\n",
              "    </tr>\n",
              "  </thead>\n",
              "  <tbody>\n",
              "    <tr>\n",
              "      <th>0</th>\n",
              "      <td>Centre’s vaccine policy prima facie arbitrary,...</td>\n",
              "    </tr>\n",
              "    <tr>\n",
              "      <th>1</th>\n",
              "      <td>Car Enthusiasts</td>\n",
              "    </tr>\n",
              "    <tr>\n",
              "      <th>2</th>\n",
              "      <td>NITI Aayog SDG index: 'Bihar ranks top from bo...</td>\n",
              "    </tr>\n",
              "    <tr>\n",
              "      <th>3</th>\n",
              "      <td>You want facts?Here are facts of at least 20 c...</td>\n",
              "    </tr>\n",
              "    <tr>\n",
              "      <th>4</th>\n",
              "      <td>India orders unapproved COVID shots as it reel...</td>\n",
              "    </tr>\n",
              "    <tr>\n",
              "      <th>...</th>\n",
              "      <td>...</td>\n",
              "    </tr>\n",
              "    <tr>\n",
              "      <th>1051</th>\n",
              "      <td>India opposes 'vaccine passport', Harsh Vardha...</td>\n",
              "    </tr>\n",
              "    <tr>\n",
              "      <th>1052</th>\n",
              "      <td>Lust for power amid pandemic will lead to anar...</td>\n",
              "    </tr>\n",
              "    <tr>\n",
              "      <th>1053</th>\n",
              "      <td>Views on Sahara Samay</td>\n",
              "    </tr>\n",
              "    <tr>\n",
              "      <th>1054</th>\n",
              "      <td>(Kolkata) Where and how can I donate used clot...</td>\n",
              "    </tr>\n",
              "    <tr>\n",
              "      <th>1055</th>\n",
              "      <td>Stop the spread | Manjultoons</td>\n",
              "    </tr>\n",
              "  </tbody>\n",
              "</table>\n",
              "<p>1056 rows × 1 columns</p>\n",
              "</div>"
            ],
            "text/plain": [
              "                                               headline\n",
              "0     Centre’s vaccine policy prima facie arbitrary,...\n",
              "1                                       Car Enthusiasts\n",
              "2     NITI Aayog SDG index: 'Bihar ranks top from bo...\n",
              "3     You want facts?Here are facts of at least 20 c...\n",
              "4     India orders unapproved COVID shots as it reel...\n",
              "...                                                 ...\n",
              "1051  India opposes 'vaccine passport', Harsh Vardha...\n",
              "1052  Lust for power amid pandemic will lead to anar...\n",
              "1053                              Views on Sahara Samay\n",
              "1054  (Kolkata) Where and how can I donate used clot...\n",
              "1055                      Stop the spread | Manjultoons\n",
              "\n",
              "[1056 rows x 1 columns]"
            ]
          },
          "metadata": {
            "tags": []
          },
          "execution_count": 31
        }
      ]
    },
    {
      "cell_type": "code",
      "metadata": {
        "colab": {
          "base_uri": "https://localhost:8080/"
        },
        "id": "-2-aQ3jmXvJk",
        "outputId": "4aa2f12c-a8fe-495e-fdee-0db59649d9b2"
      },
      "source": [
        "#function to retrieve nrc affect frequencies\n",
        "from nrclex import NRCLex\n",
        "import nltk\n",
        "nltk.download('punkt')\n",
        "def emotion_freq(headline):\n",
        "    res1 = {'anger': 0.0, 'fear': 0.0, 'sadness': 0.0, 'trust': 0.0, 'anticipation': 0.0, 'joy': 0.0, 'disgust': 0.0, 'surprise': 0.0}\n",
        "    headline = NRCLex(headline)\n",
        "    freq = headline.affect_frequencies\n",
        "    for k, fq in freq.items():\n",
        "      res1[k] = res1.get(k, 0.0) + fq\n",
        "    return res1\n",
        "\n",
        "#function to calculate word count in each headline\n",
        "def word_count(row):\n",
        "    row = nltk.word_tokenize(row)\n",
        "    cnt = len(row)\n",
        "    return cnt\n",
        "\n",
        "#retrieve affect frequencies in each headline\n",
        "df2['emo_freq']=df2['headline'].apply(emotion_freq)"
      ],
      "execution_count": 70,
      "outputs": [
        {
          "output_type": "stream",
          "text": [
            "[nltk_data] Downloading package punkt to /root/nltk_data...\n",
            "[nltk_data]   Package punkt is already up-to-date!\n"
          ],
          "name": "stdout"
        },
        {
          "output_type": "stream",
          "text": [
            "/usr/local/lib/python3.7/dist-packages/ipykernel_launcher.py:20: SettingWithCopyWarning: \n",
            "A value is trying to be set on a copy of a slice from a DataFrame.\n",
            "Try using .loc[row_indexer,col_indexer] = value instead\n",
            "\n",
            "See the caveats in the documentation: https://pandas.pydata.org/pandas-docs/stable/user_guide/indexing.html#returning-a-view-versus-a-copy\n"
          ],
          "name": "stderr"
        }
      ]
    },
    {
      "cell_type": "code",
      "metadata": {
        "colab": {
          "base_uri": "https://localhost:8080/"
        },
        "id": "b70io6xiX8KM",
        "outputId": "ff70175a-14a1-4267-8a16-9626fce42955"
      },
      "source": [
        "df2['emo_freq']"
      ],
      "execution_count": 72,
      "outputs": [
        {
          "output_type": "execute_result",
          "data": {
            "text/plain": [
              "0       {'anger': 0.0, 'fear': 0.2, 'sadness': 0.0, 't...\n",
              "1       {'anger': 0.0, 'fear': 0.0, 'sadness': 0.0, 't...\n",
              "2       {'anger': 0.0, 'fear': 0.0, 'sadness': 0.2, 't...\n",
              "3       {'anger': 0.17391304347826086, 'fear': 0.17391...\n",
              "4       {'anger': 0.14285714285714285, 'fear': 0.14285...\n",
              "                              ...                        \n",
              "1051    {'anger': 0.0, 'fear': 0.0, 'sadness': 0.0, 't...\n",
              "1052    {'anger': 0.14285714285714285, 'fear': 0.28571...\n",
              "1053    {'anger': 0.0, 'fear': 0.0, 'sadness': 0.0, 't...\n",
              "1054    {'anger': 0.0, 'fear': 0.0, 'sadness': 0.0, 't...\n",
              "1055    {'anger': 0.0, 'fear': 0.0, 'sadness': 0.0, 't...\n",
              "Name: emo_freq, Length: 1056, dtype: object"
            ]
          },
          "metadata": {
            "tags": []
          },
          "execution_count": 72
        }
      ]
    },
    {
      "cell_type": "code",
      "metadata": {
        "id": "wzdLmihOYz5f"
      },
      "source": [
        ""
      ],
      "execution_count": null,
      "outputs": []
    }
  ]
}