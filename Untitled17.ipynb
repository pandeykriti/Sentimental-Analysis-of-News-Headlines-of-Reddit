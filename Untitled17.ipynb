{
  "nbformat": 4,
  "nbformat_minor": 0,
  "metadata": {
    "colab": {
      "name": "Untitled17.ipynb",
      "provenance": [],
      "collapsed_sections": []
    },
    "kernelspec": {
      "name": "python3",
      "display_name": "Python 3"
    },
    "language_info": {
      "name": "python"
    }
  },
  "cells": [
    {
      "cell_type": "code",
      "metadata": {
        "id": "iBZguvYpudJw"
      },
      "source": [
        "#Importing libraries\n",
        "from IPython import display\n",
        "import math\n",
        "from pprint import pprint\n",
        "import pandas as pd\n",
        "import numpy as np\n",
        "import nltk\n",
        "import matplotlib.pyplot as plt\n",
        "import seaborn as sns\n",
        "sns.set(style='darkgrid', context='talk', palette='Dark2')"
      ],
      "execution_count": null,
      "outputs": []
    },
    {
      "cell_type": "code",
      "metadata": {
        "id": "UKV386x2utf3",
        "colab": {
          "base_uri": "https://localhost:8080/"
        },
        "outputId": "2e5a6c7e-b117-4367-a1a6-7845300ce266"
      },
      "source": [
        "#installing an API wrapper\n",
        "!pip install -q praw\n",
        "import praw\n",
        " \n",
        "reddit = praw.Reddit(client_id='v04FYUyL6rMHFQ',\n",
        "                     client_secret='UrC8OzxU9ZQoO-dJbOIXBJADxHX_rQ',\n",
        "                     user_agent='Kritika Pandey')"
      ],
      "execution_count": null,
      "outputs": [
        {
          "output_type": "stream",
          "text": [
            "\u001b[K     |████████████████████████████████| 163kB 5.1MB/s \n",
            "\u001b[K     |████████████████████████████████| 71kB 4.3MB/s \n",
            "\u001b[?25h"
          ],
          "name": "stdout"
        }
      ]
    },
    {
      "cell_type": "code",
      "metadata": {
        "colab": {
          "base_uri": "https://localhost:8080/"
        },
        "id": "NdDA4b-1uxHz",
        "outputId": "1baf8a74-339b-43e8-b64e-948dfef2cbf4"
      },
      "source": [
        "#iterating over subredit /r/Indian health\n",
        "headlines = set()\n",
        "for submission in reddit.subreddit('health+india').new(limit=None):\n",
        "    headlines.add(submission.title)\n",
        "    display.clear_output()\n",
        "    print(len(headlines))"
      ],
      "execution_count": null,
      "outputs": [
        {
          "output_type": "stream",
          "text": [
            "918\n"
          ],
          "name": "stdout"
        }
      ]
    },
    {
      "cell_type": "code",
      "metadata": {
        "colab": {
          "base_uri": "https://localhost:8080/"
        },
        "id": "WoEVHBWeu0C4",
        "outputId": "46a5fdc0-88d3-4f1a-81d9-ca760246d4b5"
      },
      "source": [
        "import nltk\n",
        "nltk.downloader.download('vader_lexicon')\n",
        "\n",
        "from nltk.sentiment.vader import SentimentIntensityAnalyzer as SIA\n",
        "\n",
        "sia = SIA()\n",
        "results = []\n",
        "\n",
        "for line in headlines:\n",
        "    pol_score = sia.polarity_scores(line)\n",
        "    pol_score['headline'] = line\n",
        "    results.append(pol_score)\n",
        "\n",
        "pprint(results[:3], width=100)"
      ],
      "execution_count": null,
      "outputs": [
        {
          "output_type": "stream",
          "text": [
            "[nltk_data] Downloading package vader_lexicon to /root/nltk_data...\n",
            "[{'compound': -0.5574,\n",
            "  'headline': 'How many deaths will it take ’til we know too many people have died of Covid?',\n",
            "  'neg': 0.194,\n",
            "  'neu': 0.806,\n",
            "  'pos': 0.0},\n",
            " {'compound': 0.2023,\n",
            "  'headline': 'Don’t worry, be happy, in one voice speak the corpses . O King, in your Ram-Rajya, '\n",
            "              'we see bodies flow in the Ganges',\n",
            "  'neg': 0.113,\n",
            "  'neu': 0.742,\n",
            "  'pos': 0.145},\n",
            " {'compound': 0.25,\n",
            "  'headline': 'Comprehensive list of RW twitter network',\n",
            "  'neg': 0.0,\n",
            "  'neu': 0.714,\n",
            "  'pos': 0.286}]\n"
          ],
          "name": "stdout"
        },
        {
          "output_type": "stream",
          "text": [
            "/usr/local/lib/python3.7/dist-packages/nltk/twitter/__init__.py:20: UserWarning: The twython library has not been installed. Some functionality from the twitter package will not be available.\n",
            "  warnings.warn(\"The twython library has not been installed. \"\n"
          ],
          "name": "stderr"
        }
      ]
    },
    {
      "cell_type": "code",
      "metadata": {
        "colab": {
          "base_uri": "https://localhost:8080/",
          "height": 195
        },
        "id": "o3Gjz-oQu8rS",
        "outputId": "ac492a15-ed91-4116-dbb7-8f71768b1304"
      },
      "source": [
        "df = pd.DataFrame.from_records(results)\n",
        "df.head()"
      ],
      "execution_count": null,
      "outputs": [
        {
          "output_type": "execute_result",
          "data": {
            "text/html": [
              "<div>\n",
              "<style scoped>\n",
              "    .dataframe tbody tr th:only-of-type {\n",
              "        vertical-align: middle;\n",
              "    }\n",
              "\n",
              "    .dataframe tbody tr th {\n",
              "        vertical-align: top;\n",
              "    }\n",
              "\n",
              "    .dataframe thead th {\n",
              "        text-align: right;\n",
              "    }\n",
              "</style>\n",
              "<table border=\"1\" class=\"dataframe\">\n",
              "  <thead>\n",
              "    <tr style=\"text-align: right;\">\n",
              "      <th></th>\n",
              "      <th>neg</th>\n",
              "      <th>neu</th>\n",
              "      <th>pos</th>\n",
              "      <th>compound</th>\n",
              "      <th>headline</th>\n",
              "    </tr>\n",
              "  </thead>\n",
              "  <tbody>\n",
              "    <tr>\n",
              "      <th>0</th>\n",
              "      <td>0.194</td>\n",
              "      <td>0.806</td>\n",
              "      <td>0.000</td>\n",
              "      <td>-0.5574</td>\n",
              "      <td>How many deaths will it take ’til we know too ...</td>\n",
              "    </tr>\n",
              "    <tr>\n",
              "      <th>1</th>\n",
              "      <td>0.113</td>\n",
              "      <td>0.742</td>\n",
              "      <td>0.145</td>\n",
              "      <td>0.2023</td>\n",
              "      <td>Don’t worry, be happy, in one voice speak the ...</td>\n",
              "    </tr>\n",
              "    <tr>\n",
              "      <th>2</th>\n",
              "      <td>0.000</td>\n",
              "      <td>0.714</td>\n",
              "      <td>0.286</td>\n",
              "      <td>0.2500</td>\n",
              "      <td>Comprehensive list of RW twitter network</td>\n",
              "    </tr>\n",
              "    <tr>\n",
              "      <th>3</th>\n",
              "      <td>0.000</td>\n",
              "      <td>1.000</td>\n",
              "      <td>0.000</td>\n",
              "      <td>0.0000</td>\n",
              "      <td>I need advice on how to meet Indian parents.</td>\n",
              "    </tr>\n",
              "    <tr>\n",
              "      <th>4</th>\n",
              "      <td>0.000</td>\n",
              "      <td>1.000</td>\n",
              "      <td>0.000</td>\n",
              "      <td>0.0000</td>\n",
              "      <td>My experience with covid</td>\n",
              "    </tr>\n",
              "  </tbody>\n",
              "</table>\n",
              "</div>"
            ],
            "text/plain": [
              "     neg    neu  ...  compound                                           headline\n",
              "0  0.194  0.806  ...   -0.5574  How many deaths will it take ’til we know too ...\n",
              "1  0.113  0.742  ...    0.2023  Don’t worry, be happy, in one voice speak the ...\n",
              "2  0.000  0.714  ...    0.2500           Comprehensive list of RW twitter network\n",
              "3  0.000  1.000  ...    0.0000       I need advice on how to meet Indian parents.\n",
              "4  0.000  1.000  ...    0.0000                           My experience with covid\n",
              "\n",
              "[5 rows x 5 columns]"
            ]
          },
          "metadata": {
            "tags": []
          },
          "execution_count": 5
        }
      ]
    },
    {
      "cell_type": "code",
      "metadata": {
        "colab": {
          "base_uri": "https://localhost:8080/",
          "height": 195
        },
        "id": "YtF5JMr-wL-8",
        "outputId": "76cbeefd-83c8-48ba-c205-71b42f3b8b78"
      },
      "source": [
        "df['label'] = 0\n",
        "df.loc[df['compound'] > 0.2, 'label'] = 1\n",
        "df.loc[df['compound'] < -0.2, 'label'] = -1\n",
        "df.head()"
      ],
      "execution_count": null,
      "outputs": [
        {
          "output_type": "execute_result",
          "data": {
            "text/html": [
              "<div>\n",
              "<style scoped>\n",
              "    .dataframe tbody tr th:only-of-type {\n",
              "        vertical-align: middle;\n",
              "    }\n",
              "\n",
              "    .dataframe tbody tr th {\n",
              "        vertical-align: top;\n",
              "    }\n",
              "\n",
              "    .dataframe thead th {\n",
              "        text-align: right;\n",
              "    }\n",
              "</style>\n",
              "<table border=\"1\" class=\"dataframe\">\n",
              "  <thead>\n",
              "    <tr style=\"text-align: right;\">\n",
              "      <th></th>\n",
              "      <th>neg</th>\n",
              "      <th>neu</th>\n",
              "      <th>pos</th>\n",
              "      <th>compound</th>\n",
              "      <th>headline</th>\n",
              "      <th>label</th>\n",
              "    </tr>\n",
              "  </thead>\n",
              "  <tbody>\n",
              "    <tr>\n",
              "      <th>0</th>\n",
              "      <td>0.194</td>\n",
              "      <td>0.806</td>\n",
              "      <td>0.000</td>\n",
              "      <td>-0.5574</td>\n",
              "      <td>How many deaths will it take ’til we know too ...</td>\n",
              "      <td>-1</td>\n",
              "    </tr>\n",
              "    <tr>\n",
              "      <th>1</th>\n",
              "      <td>0.113</td>\n",
              "      <td>0.742</td>\n",
              "      <td>0.145</td>\n",
              "      <td>0.2023</td>\n",
              "      <td>Don’t worry, be happy, in one voice speak the ...</td>\n",
              "      <td>1</td>\n",
              "    </tr>\n",
              "    <tr>\n",
              "      <th>2</th>\n",
              "      <td>0.000</td>\n",
              "      <td>0.714</td>\n",
              "      <td>0.286</td>\n",
              "      <td>0.2500</td>\n",
              "      <td>Comprehensive list of RW twitter network</td>\n",
              "      <td>1</td>\n",
              "    </tr>\n",
              "    <tr>\n",
              "      <th>3</th>\n",
              "      <td>0.000</td>\n",
              "      <td>1.000</td>\n",
              "      <td>0.000</td>\n",
              "      <td>0.0000</td>\n",
              "      <td>I need advice on how to meet Indian parents.</td>\n",
              "      <td>0</td>\n",
              "    </tr>\n",
              "    <tr>\n",
              "      <th>4</th>\n",
              "      <td>0.000</td>\n",
              "      <td>1.000</td>\n",
              "      <td>0.000</td>\n",
              "      <td>0.0000</td>\n",
              "      <td>My experience with covid</td>\n",
              "      <td>0</td>\n",
              "    </tr>\n",
              "  </tbody>\n",
              "</table>\n",
              "</div>"
            ],
            "text/plain": [
              "     neg    neu  ...                                           headline  label\n",
              "0  0.194  0.806  ...  How many deaths will it take ’til we know too ...     -1\n",
              "1  0.113  0.742  ...  Don’t worry, be happy, in one voice speak the ...      1\n",
              "2  0.000  0.714  ...           Comprehensive list of RW twitter network      1\n",
              "3  0.000  1.000  ...       I need advice on how to meet Indian parents.      0\n",
              "4  0.000  1.000  ...                           My experience with covid      0\n",
              "\n",
              "[5 rows x 6 columns]"
            ]
          },
          "metadata": {
            "tags": []
          },
          "execution_count": 6
        }
      ]
    },
    {
      "cell_type": "code",
      "metadata": {
        "id": "LE4iIqhKwRGu"
      },
      "source": [
        "df2 = df[['headline', 'label']]\n",
        "df2.to_csv('reddit_headlines_labels.csv', mode='a', encoding='utf-8', index=False)"
      ],
      "execution_count": null,
      "outputs": []
    },
    {
      "cell_type": "code",
      "metadata": {
        "colab": {
          "base_uri": "https://localhost:8080/"
        },
        "id": "azHYHcrzwiQu",
        "outputId": "09ab5bf0-1d97-4e15-e23e-7fca9e081ee4"
      },
      "source": [
        "print(\"Positive headlines:\\n\")\n",
        "pprint(list(df[df['label'] == 1].headline)[:5], width=200)\n",
        "\n",
        "print(\"\\nNegative headlines:\\n\")\n",
        "pprint(list(df[df['label'] == -1].headline)[:5], width=200)"
      ],
      "execution_count": null,
      "outputs": [
        {
          "output_type": "stream",
          "text": [
            "Positive headlines:\n",
            "\n",
            "['Don’t worry, be happy, in one voice speak the corpses . O King, in your Ram-Rajya, we see bodies flow in the Ganges',\n",
            " 'Comprehensive list of RW twitter network',\n",
            " 'Modi releases 8th installment of PM-Kisan scheme; over 7 lakh Bengal farmers benefitted',\n",
            " 'Editorial with Sujit Nair: Accepting Failure, The First Step To Positivity',\n",
            " 'UPDATE: Check for coronavirus slot(s) using protected API (real-time data)']\n",
            "\n",
            "Negative headlines:\n",
            "\n",
            "['How many deaths will it take ’til we know too many people have died of Covid?',\n",
            " 'Bodies of COVID-19 victims among those dumped in India’s Ganges -govt document',\n",
            " \"The Hindu: Over 4.5K 'Missing Deaths' in Delhi.\",\n",
            " 'Not sure if this is Covid - freaking out',\n",
            " 'Report Misogynistic & Islamophobic propaganda (Indian) channels on YouTube']\n"
          ],
          "name": "stdout"
        }
      ]
    },
    {
      "cell_type": "code",
      "metadata": {
        "colab": {
          "base_uri": "https://localhost:8080/"
        },
        "id": "86Cdayliwqbl",
        "outputId": "d2cc5792-9b1c-4b5a-9154-5e39230f355f"
      },
      "source": [
        "print(df.label.value_counts())\n",
        "\n",
        "print(df.label.value_counts(normalize=True) * 100)"
      ],
      "execution_count": null,
      "outputs": [
        {
          "output_type": "stream",
          "text": [
            " 0    435\n",
            "-1    265\n",
            " 1    218\n",
            "Name: label, dtype: int64\n",
            " 0    47.385621\n",
            "-1    28.867102\n",
            " 1    23.747277\n",
            "Name: label, dtype: float64\n"
          ],
          "name": "stdout"
        }
      ]
    },
    {
      "cell_type": "code",
      "metadata": {
        "colab": {
          "base_uri": "https://localhost:8080/",
          "height": 496
        },
        "id": "cUovAOuIyd0G",
        "outputId": "fa423f7b-d504-4801-8daf-cbf9cc88e683"
      },
      "source": [
        "fig, ax = plt.subplots(figsize=(8, 8))\n",
        "\n",
        "counts = df.label.value_counts(normalize=True) * 100\n",
        "\n",
        "sns.barplot(x=counts.index, y=counts, ax=ax)\n",
        "\n",
        "ax.set_xticklabels(['Negative', 'Neutral', 'Positive'])\n",
        "ax.set_ylabel(\"Percentage\")\n",
        "\n",
        "plt.show()"
      ],
      "execution_count": null,
      "outputs": [
        {
          "output_type": "display_data",
          "data": {
            "image/png": "[encoded data removed]",
            "text/plain": [
              "<Figure size 576x576 with 1 Axes>"
            ]
          },
          "metadata": {
            "tags": [],
            "needs_background": "light"
          }
        }
      ]
    },
    {
      "cell_type": "code",
      "metadata": {
        "colab": {
          "base_uri": "https://localhost:8080/"
        },
        "id": "LnqoQk7HyiAf",
        "outputId": "3efcc04b-0fc6-4522-dc74-e07408b916ed"
      },
      "source": [
        "nltk.download('punkt')\n",
        "from nltk.tokenize import word_tokenize, RegexpTokenizer\n",
        "\n",
        "\n",
        "example = \"Just see how tokenizer works\"\n",
        "\n",
        "print(word_tokenize(example, language='english'))"
      ],
      "execution_count": null,
      "outputs": [
        {
          "output_type": "stream",
          "text": [
            "[nltk_data] Downloading package punkt to /root/nltk_data...\n",
            "[nltk_data]   Unzipping tokenizers/punkt.zip.\n",
            "['Just', 'see', 'how', 'tokenizer', 'works']\n"
          ],
          "name": "stdout"
        }
      ]
    },
    {
      "cell_type": "code",
      "metadata": {
        "colab": {
          "base_uri": "https://localhost:8080/"
        },
        "id": "4S0Qx6ap2zo0",
        "outputId": "73351f30-7bea-497a-e8ae-951fa51fd292"
      },
      "source": [
        "nltk.download('stopwords')\n",
        "from nltk.corpus import stopwords\n",
        "\n",
        "stop_words = stopwords.words('english')\n",
        "print(stop_words[:20])"
      ],
      "execution_count": null,
      "outputs": [
        {
          "output_type": "stream",
          "text": [
            "[nltk_data] Downloading package stopwords to /root/nltk_data...\n",
            "[nltk_data]   Unzipping corpora/stopwords.zip.\n",
            "['i', 'me', 'my', 'myself', 'we', 'our', 'ours', 'ourselves', 'you', \"you're\", \"you've\", \"you'll\", \"you'd\", 'your', 'yours', 'yourself', 'yourselves', 'he', 'him', 'his']\n"
          ],
          "name": "stdout"
        }
      ]
    },
    {
      "cell_type": "code",
      "metadata": {
        "id": "yLXYpH_g2_DJ"
      },
      "source": [
        "def process_text(headlines):\n",
        "    tokens = []\n",
        "    for line in headlines:\n",
        "        toks = tokenizer.tokenize(line)\n",
        "        toks = [t.lower() for t in toks if t.lower() not in stop_words]\n",
        "        tokens.extend(toks)\n",
        "    \n",
        "    return tokens"
      ],
      "execution_count": null,
      "outputs": []
    },
    {
      "cell_type": "code",
      "metadata": {
        "colab": {
          "base_uri": "https://localhost:8080/"
        },
        "id": "7ICfgNwQ3IUK",
        "outputId": "32d40438-3960-4ef5-ec87-4ff3f0b45a02"
      },
      "source": [
        "nltk.download('punkt')\n",
        "from nltk.tokenize import word_tokenize, RegexpTokenizer\n",
        "\n",
        "\n",
        "example = \"Let us experiment over this sentence and look into its working\"\n",
        "\n",
        "print(word_tokenize(example, language='english'))\n",
        "\n",
        "tokenizer = RegexpTokenizer(r'\\w+')\n",
        "tokenizer.tokenize(example)\n",
        "pos_lines = list(df[df.label == 1].headline)\n",
        "\n",
        "pos_tokens = process_text(pos_lines)\n",
        "pos_freq = nltk.FreqDist(pos_tokens)\n",
        "\n",
        "pos_freq.most_common(20)"
      ],
      "execution_count": null,
      "outputs": [
        {
          "output_type": "stream",
          "text": [
            "[nltk_data] Downloading package punkt to /root/nltk_data...\n",
            "[nltk_data]   Package punkt is already up-to-date!\n",
            "['Let', 'us', 'experiment', 'over', 'this', 'sentence', 'and', 'look', 'into', 'its', 'working']\n"
          ],
          "name": "stdout"
        },
        {
          "output_type": "execute_result",
          "data": {
            "text/plain": [
              "[('india', 45),\n",
              " ('covid', 37),\n",
              " ('help', 23),\n",
              " ('please', 15),\n",
              " ('people', 14),\n",
              " ('19', 12),\n",
              " ('indian', 12),\n",
              " ('need', 12),\n",
              " ('modi', 10),\n",
              " ('vaccine', 10),\n",
              " ('good', 9),\n",
              " ('treatment', 9),\n",
              " ('like', 9),\n",
              " ('care', 7),\n",
              " ('us', 7),\n",
              " ('relief', 7),\n",
              " ('best', 7),\n",
              " ('support', 7),\n",
              " ('government', 7),\n",
              " ('supreme', 6)]"
            ]
          },
          "metadata": {
            "tags": []
          },
          "execution_count": 19
        }
      ]
    },
    {
      "cell_type": "code",
      "metadata": {
        "colab": {
          "base_uri": "https://localhost:8080/",
          "height": 375
        },
        "id": "SBSNUIzf3Lt1",
        "outputId": "1839a5af-3284-4c25-dd20-301ff0344d5e"
      },
      "source": [
        "y_val = [x[1] for x in pos_freq.most_common()]\n",
        "\n",
        "fig = plt.figure(figsize=(10,5))\n",
        "plt.plot(y_val)\n",
        "\n",
        "plt.xlabel(\"Words\")\n",
        "plt.ylabel(\"Count of words\")\n",
        "plt.title(\"Word Frequency Distribution (Positive)\")\n",
        "plt.show()\n"
      ],
      "execution_count": null,
      "outputs": [
        {
          "output_type": "display_data",
          "data": {
            "image/png": "[encoded data removed]",
            "text/plain": [
              "<Figure size 720x360 with 1 Axes>"
            ]
          },
          "metadata": {
            "tags": [],
            "needs_background": "light"
          }
        }
      ]
    },
    {
      "cell_type": "code",
      "metadata": {
        "colab": {
          "base_uri": "https://localhost:8080/",
          "height": 375
        },
        "id": "o8rH2aKQ3oyZ",
        "outputId": "7291a098-6913-4bbe-9210-c857c63b9fd5"
      },
      "source": [
        "y_final = []\n",
        "for i, k, z, t in zip(y_val[0::4], y_val[1::4], y_val[2::4], y_val[3::4]):\n",
        "    y_final.append(math.log(i + k + z + t))\n",
        "\n",
        "x_val = [math.log(i + 1) for i in range(len(y_final))]\n",
        "\n",
        "fig = plt.figure(figsize=(10,5))\n",
        "\n",
        "plt.xlabel(\"Words (Log)\")\n",
        "plt.ylabel(\"Count (Log)\")\n",
        "plt.title(\"Word Frequency Distribution (Positive)\")\n",
        "plt.plot(x_val, y_final)\n",
        "plt.show()"
      ],
      "execution_count": null,
      "outputs": [
        {
          "output_type": "display_data",
          "data": {
            "image/png": "[encoded data removed]",
            "text/plain": [
              "<Figure size 720x360 with 1 Axes>"
            ]
          },
          "metadata": {
            "tags": [],
            "needs_background": "light"
          }
        }
      ]
    },
    {
      "cell_type": "code",
      "metadata": {
        "colab": {
          "base_uri": "https://localhost:8080/"
        },
        "id": "sBt5PmLP44kF",
        "outputId": "a0fe8b6e-7dc2-452a-9203-e803847306e2"
      },
      "source": [
        "neg_lines = list(df2[df2.label == -1].headline)\n",
        "\n",
        "neg_tokens = process_text(neg_lines)\n",
        "neg_freq = nltk.FreqDist(neg_tokens)\n",
        "\n",
        "neg_freq.most_common(20)"
      ],
      "execution_count": null,
      "outputs": [
        {
          "output_type": "execute_result",
          "data": {
            "text/plain": [
              "[('covid', 73),\n",
              " ('india', 64),\n",
              " ('19', 22),\n",
              " ('modi', 21),\n",
              " ('vaccine', 21),\n",
              " ('crisis', 20),\n",
              " ('delhi', 18),\n",
              " ('pm', 16),\n",
              " ('people', 14),\n",
              " ('dead', 14),\n",
              " ('oxygen', 13),\n",
              " ('us', 12),\n",
              " ('kerala', 10),\n",
              " ('deaths', 9),\n",
              " ('govt', 9),\n",
              " ('death', 9),\n",
              " ('police', 9),\n",
              " ('indian', 8),\n",
              " ('killed', 8),\n",
              " ('government', 8)]"
            ]
          },
          "metadata": {
            "tags": []
          },
          "execution_count": 25
        }
      ]
    },
    {
      "cell_type": "code",
      "metadata": {
        "colab": {
          "base_uri": "https://localhost:8080/",
          "height": 375
        },
        "id": "AC0102jY5UpO",
        "outputId": "8c24ed26-de64-4240-dd01-cfa48106cc36"
      },
      "source": [
        "y_val = [x[1] for x in neg_freq.most_common()]\n",
        "\n",
        "fig = plt.figure(figsize=(10,5))\n",
        "plt.plot(y_val)\n",
        "\n",
        "plt.xlabel(\"Words\")\n",
        "plt.ylabel(\"Count of words\")\n",
        "plt.title(\"Word Frequency Distribution (Negative)\")\n",
        "plt.show()"
      ],
      "execution_count": null,
      "outputs": [
        {
          "output_type": "display_data",
          "data": {
            "image/png": "[encoded data removed]",
            "text/plain": [
              "<Figure size 720x360 with 1 Axes>"
            ]
          },
          "metadata": {
            "tags": [],
            "needs_background": "light"
          }
        }
      ]
    },
    {
      "cell_type": "code",
      "metadata": {
        "colab": {
          "base_uri": "https://localhost:8080/",
          "height": 375
        },
        "id": "exEdJLk75Ypq",
        "outputId": "be910e90-23b7-4ade-dc8e-ca37c11bb0d0"
      },
      "source": [
        "y_final = []\n",
        "for i, k, z in zip(y_val[0::3], y_val[1::3], y_val[2::3]):\n",
        "    if i + k + z == 0:\n",
        "        break\n",
        "    y_final.append(math.log(i + k + z))\n",
        "\n",
        "x_val = [math.log(i+1) for i in range(len(y_final))]\n",
        "\n",
        "fig = plt.figure(figsize=(10,5))\n",
        "\n",
        "plt.xlabel(\"Words (Log)\")\n",
        "plt.ylabel(\"Frequency (Log)\")\n",
        "plt.title(\"Word Frequency Distribution (Negative)\")\n",
        "plt.plot(x_val, y_final)\n",
        "plt.show()"
      ],
      "execution_count": null,
      "outputs": [
        {
          "output_type": "display_data",
          "data": {
            "image/png": "[encoded data removed]",
            "text/plain": [
              "<Figure size 720x360 with 1 Axes>"
            ]
          },
          "metadata": {
            "tags": [],
            "needs_background": "light"
          }
        }
      ]
    },
    {
      "cell_type": "code",
      "metadata": {
        "id": "rrkNilfB5dWF"
      },
      "source": [
        "import math\n",
        "import random\n",
        "from collections import defaultdict\n",
        "from pprint import pprint\n",
        "\n",
        "# Prevent future/deprecation warnings from showing in output\n",
        "import warnings\n",
        "warnings.filterwarnings(action='ignore')\n",
        "\n",
        "import seaborn as sns\n",
        "import matplotlib.pyplot as plt\n",
        "import numpy as np\n",
        "import pandas as pd\n",
        "\n",
        "# Set global styles for plots\n",
        "sns.set_style(style='white')\n",
        "sns.set_context(context='notebook', font_scale=1.5, rc={'figure.figsize': (16,9)})"
      ],
      "execution_count": null,
      "outputs": []
    },
    {
      "cell_type": "code",
      "metadata": {
        "colab": {
          "base_uri": "https://localhost:8080/",
          "height": 195
        },
        "id": "MdKCLhO-6FiV",
        "outputId": "c1b1376c-2619-4e08-e113-4a80e8bc01a1"
      },
      "source": [
        "df = pd.read_csv('reddit_headlines_labels.csv', encoding='utf-8')\n",
        "df.head()"
      ],
      "execution_count": null,
      "outputs": [
        {
          "output_type": "execute_result",
          "data": {
            "text/html": [
              "<div>\n",
              "<style scoped>\n",
              "    .dataframe tbody tr th:only-of-type {\n",
              "        vertical-align: middle;\n",
              "    }\n",
              "\n",
              "    .dataframe tbody tr th {\n",
              "        vertical-align: top;\n",
              "    }\n",
              "\n",
              "    .dataframe thead th {\n",
              "        text-align: right;\n",
              "    }\n",
              "</style>\n",
              "<table border=\"1\" class=\"dataframe\">\n",
              "  <thead>\n",
              "    <tr style=\"text-align: right;\">\n",
              "      <th></th>\n",
              "      <th>headline</th>\n",
              "      <th>label</th>\n",
              "    </tr>\n",
              "  </thead>\n",
              "  <tbody>\n",
              "    <tr>\n",
              "      <th>0</th>\n",
              "      <td>How many deaths will it take ’til we know too ...</td>\n",
              "      <td>-1</td>\n",
              "    </tr>\n",
              "    <tr>\n",
              "      <th>1</th>\n",
              "      <td>Don’t worry, be happy, in one voice speak the ...</td>\n",
              "      <td>1</td>\n",
              "    </tr>\n",
              "    <tr>\n",
              "      <th>2</th>\n",
              "      <td>Comprehensive list of RW twitter network</td>\n",
              "      <td>1</td>\n",
              "    </tr>\n",
              "    <tr>\n",
              "      <th>3</th>\n",
              "      <td>I need advice on how to meet Indian parents.</td>\n",
              "      <td>0</td>\n",
              "    </tr>\n",
              "    <tr>\n",
              "      <th>4</th>\n",
              "      <td>My experience with covid</td>\n",
              "      <td>0</td>\n",
              "    </tr>\n",
              "  </tbody>\n",
              "</table>\n",
              "</div>"
            ],
            "text/plain": [
              "                                            headline  label\n",
              "0  How many deaths will it take ’til we know too ...     -1\n",
              "1  Don’t worry, be happy, in one voice speak the ...      1\n",
              "2           Comprehensive list of RW twitter network      1\n",
              "3       I need advice on how to meet Indian parents.      0\n",
              "4                           My experience with covid      0"
            ]
          },
          "metadata": {
            "tags": []
          },
          "execution_count": 29
        }
      ]
    },
    {
      "cell_type": "code",
      "metadata": {
        "colab": {
          "base_uri": "https://localhost:8080/"
        },
        "id": "p-wIEAx96Ipt",
        "outputId": "e97bff2c-86eb-4fc3-c05f-f4389907ccd0"
      },
      "source": [
        "df = df[df.label != 0]\n",
        "df.label.value_counts()"
      ],
      "execution_count": null,
      "outputs": [
        {
          "output_type": "execute_result",
          "data": {
            "text/plain": [
              "-1    265\n",
              " 1    218\n",
              "Name: label, dtype: int64"
            ]
          },
          "metadata": {
            "tags": []
          },
          "execution_count": 30
        }
      ]
    },
    {
      "cell_type": "code",
      "metadata": {
        "id": "W69R4Obq8Rty"
      },
      "source": [
        "from sklearn.model_selection import train_test_split\n",
        "\n",
        "X = df.headline\n",
        "y = df.label\n",
        "\n",
        "X_train, X_test, y_train, y_test = train_test_split(X, y, test_size=0.2)"
      ],
      "execution_count": null,
      "outputs": []
    },
    {
      "cell_type": "code",
      "metadata": {
        "id": "QlowUEIC8WMi"
      },
      "source": [
        "from sklearn.feature_extraction.text import CountVectorizer\n",
        "\n",
        "vect = CountVectorizer(max_features=1000, binary=True)\n",
        "\n",
        "X_train_vect = vect.fit_transform(X_train)"
      ],
      "execution_count": null,
      "outputs": []
    },
    {
      "cell_type": "code",
      "metadata": {
        "colab": {
          "base_uri": "https://localhost:8080/"
        },
        "id": "xRmk4miw8sRI",
        "outputId": "1bffb5aa-8c33-4b20-8588-5bc6e4bc9632"
      },
      "source": [
        "counts = df.label.value_counts()\n",
        "print(counts)\n",
        "\n",
        "print(\"\\nPredicting only -1 = {:.2f}% accuracy\".format(counts[-1] / sum(counts) * 100))"
      ],
      "execution_count": null,
      "outputs": [
        {
          "output_type": "stream",
          "text": [
            "-1    265\n",
            " 1    218\n",
            "Name: label, dtype: int64\n",
            "\n",
            "Predicting only -1 = 54.87% accuracy\n"
          ],
          "name": "stdout"
        }
      ]
    },
    {
      "cell_type": "code",
      "metadata": {
        "id": "VNuvHu7u8x1L"
      },
      "source": [
        "from imblearn.over_sampling import SMOTE\n",
        "\n",
        "sm = SMOTE()\n",
        "\n",
        "X_train_res, y_train_res = sm.fit_sample(X_train_vect, y_train)"
      ],
      "execution_count": null,
      "outputs": []
    },
    {
      "cell_type": "code",
      "metadata": {
        "colab": {
          "base_uri": "https://localhost:8080/"
        },
        "id": "g55f5A469DNg",
        "outputId": "b3a0a14a-6b48-461e-a9d4-cf82ad2e2220"
      },
      "source": [
        "unique, counts = np.unique(y_train_res, return_counts=True)\n",
        "print(list(zip(unique, counts)))"
      ],
      "execution_count": null,
      "outputs": [
        {
          "output_type": "stream",
          "text": [
            "[(-1, 210), (1, 210)]\n"
          ],
          "name": "stdout"
        }
      ]
    },
    {
      "cell_type": "code",
      "metadata": {
        "colab": {
          "base_uri": "https://localhost:8080/"
        },
        "id": "KoIyxAJC9Fwp",
        "outputId": "b9c0b2ef-5d36-411d-8e25-203d8bc1e299"
      },
      "source": [
        "from sklearn.naive_bayes import MultinomialNB\n",
        "\n",
        "nb = MultinomialNB()\n",
        "\n",
        "nb.fit(X_train_res, y_train_res)\n",
        "\n",
        "nb.score(X_train_res, y_train_res)"
      ],
      "execution_count": null,
      "outputs": [
        {
          "output_type": "execute_result",
          "data": {
            "text/plain": [
              "0.9166666666666666"
            ]
          },
          "metadata": {
            "tags": []
          },
          "execution_count": 36
        }
      ]
    },
    {
      "cell_type": "code",
      "metadata": {
        "colab": {
          "base_uri": "https://localhost:8080/"
        },
        "id": "Z6JBihre9Iup",
        "outputId": "ff2304ae-b902-4943-f9df-b7997c0d8e3d"
      },
      "source": [
        "X_test_vect = vect.transform(X_test)\n",
        "\n",
        "y_pred = nb.predict(X_test_vect)\n",
        "\n",
        "y_pred"
      ],
      "execution_count": null,
      "outputs": [
        {
          "output_type": "execute_result",
          "data": {
            "text/plain": [
              "array([ 1, -1, -1, -1, -1,  1,  1, -1,  1, -1,  1, -1,  1, -1, -1,  1, -1,\n",
              "       -1, -1,  1,  1,  1,  1,  1,  1, -1, -1, -1,  1, -1, -1,  1, -1, -1,\n",
              "       -1, -1, -1, -1, -1,  1,  1,  1,  1, -1, -1, -1, -1, -1,  1, -1,  1,\n",
              "        1,  1, -1, -1,  1, -1,  1,  1,  1, -1,  1,  1, -1,  1, -1,  1, -1,\n",
              "       -1, -1,  1, -1,  1,  1, -1,  1,  1,  1,  1,  1, -1,  1, -1,  1, -1,\n",
              "        1,  1, -1,  1, -1, -1, -1, -1, -1,  1, -1, -1])"
            ]
          },
          "metadata": {
            "tags": []
          },
          "execution_count": 37
        }
      ]
    },
    {
      "cell_type": "code",
      "metadata": {
        "colab": {
          "base_uri": "https://localhost:8080/"
        },
        "id": "EDt2VcRR9LP9",
        "outputId": "232c88c8-b3b5-4cc1-c9e6-53e7b813f0c7"
      },
      "source": [
        "from sklearn.metrics import accuracy_score, f1_score, confusion_matrix\n",
        "\n",
        "print(\"Accuracy: {:.2f}%\".format(accuracy_score(y_test, y_pred) * 100))\n",
        "print(\"\\nF1 Score: {:.2f}\".format(f1_score(y_test, y_pred) * 100))\n",
        "print(\"\\nCOnfusion Matrix:\\n\", confusion_matrix(y_test, y_pred))"
      ],
      "execution_count": null,
      "outputs": [
        {
          "output_type": "stream",
          "text": [
            "Accuracy: 68.04%\n",
            "\n",
            "F1 Score: 64.37\n",
            "\n",
            "COnfusion Matrix:\n",
            " [[38 17]\n",
            " [14 28]]\n"
          ],
          "name": "stdout"
        }
      ]
    },
    {
      "cell_type": "code",
      "metadata": {
        "colab": {
          "base_uri": "https://localhost:8080/"
        },
        "id": "LSZDM9OL9OHx",
        "outputId": "624cb924-d701-41e3-c96a-347d0a1fa69a"
      },
      "source": [
        "from sklearn.model_selection import ShuffleSplit\n",
        "\n",
        "X = df.headline\n",
        "y = df.label\n",
        "\n",
        "ss = ShuffleSplit(n_splits=10, test_size=0.2)\n",
        "sm = SMOTE()\n",
        "\n",
        "accs = []\n",
        "f1s = []\n",
        "cms = []\n",
        "\n",
        "for train_index, test_index in ss.split(X):\n",
        "    \n",
        "    X_train, X_test = X.iloc[train_index], X.iloc[test_index]\n",
        "    y_train, y_test = y.iloc[train_index], y.iloc[test_index]\n",
        "    \n",
        "    # Fit vectorizer and transform X train, then transform X test\n",
        "    X_train_vect = vect.fit_transform(X_train)\n",
        "    X_test_vect = vect.transform(X_test)\n",
        "    \n",
        "    # Oversample\n",
        "    X_train_res, y_train_res = sm.fit_sample(X_train_vect, y_train)\n",
        "    \n",
        "    # Fit Naive Bayes on the vectorized X with y train labels, \n",
        "    # then predict new y labels using X test\n",
        "    nb.fit(X_train_res, y_train_res)\n",
        "    y_pred = nb.predict(X_test_vect)\n",
        "    \n",
        "    # Determine test set accuracy and f1 score on this fold using the true y labels and predicted y labels\n",
        "    accs.append(accuracy_score(y_test, y_pred))\n",
        "    f1s.append(f1_score(y_test, y_pred))\n",
        "    cms.append(confusion_matrix(y_test, y_pred))\n",
        "    \n",
        "print(\"\\nAverage accuracy across folds: {:.2f}%\".format(sum(accs) / len(accs) * 100))\n",
        "print(\"\\nAverage F1 score across folds: {:.2f}%\".format(sum(f1s) / len(f1s) * 100))\n",
        "print(\"\\nAverage Confusion Matrix across folds: \\n {}\".format(sum(cms) / len(cms)))"
      ],
      "execution_count": null,
      "outputs": [
        {
          "output_type": "stream",
          "text": [
            "\n",
            "Average accuracy across folds: 71.86%\n",
            "\n",
            "Average F1 score across folds: 68.67%\n",
            "\n",
            "Average Confusion Matrix across folds: \n",
            " [[39.6 13.1]\n",
            " [14.2 30.1]]\n"
          ],
          "name": "stdout"
        }
      ]
    },
    {
      "cell_type": "code",
      "metadata": {
        "colab": {
          "base_uri": "https://localhost:8080/",
          "height": 590
        },
        "id": "cIFHOUhD-HTo",
        "outputId": "93f64695-6f21-44b3-bae8-e37978475b04"
      },
      "source": [
        "fig, (ax1, ax2) = plt.subplots(2, 1, sharex=True, figsize=(16,9))\n",
        "\n",
        "acc_scores = [round(a * 100, 1) for a in accs]\n",
        "f1_scores = [round(f * 100, 2) for f in f1s]\n",
        "\n",
        "x1 = np.arange(len(acc_scores))\n",
        "x2 = np.arange(len(f1_scores))\n",
        "\n",
        "ax1.bar(x1, acc_scores)\n",
        "ax2.bar(x2, f1_scores, color='#559ebf')\n",
        "\n",
        "# Place values on top of bars\n",
        "for i, v in enumerate(list(zip(acc_scores, f1_scores))):\n",
        "    ax1.text(i - 0.25, v[0] + 2, str(v[0]) + '%')\n",
        "    ax2.text(i - 0.25, v[1] + 2, str(v[1]))\n",
        "\n",
        "ax1.set_ylabel('Accuracy (%)')\n",
        "ax1.set_title('Naive Bayes')\n",
        "ax1.set_ylim([0, 100])\n",
        "\n",
        "ax2.set_ylabel('F1 Score')\n",
        "ax2.set_xlabel('Runs')\n",
        "ax2.set_ylim([0, 100])\n",
        "\n",
        "sns.despine(bottom=True, left=True)  # Remove the ticks on axes for cleaner presentation\n",
        "\n",
        "plt.show()"
      ],
      "execution_count": null,
      "outputs": [
        {
          "output_type": "display_data",
          "data": {
            "image/png": "[encoded data removed]",
            "text/plain": [
              "<Figure size 1152x648 with 2 Axes>"
            ]
          },
          "metadata": {
            "tags": []
          }
        }
      ]
    },
    {
      "cell_type": "code",
      "metadata": {
        "id": "MkwyVU62-PGU"
      },
      "source": [
        "from sklearn.naive_bayes import BernoulliNB\n",
        "from sklearn.linear_model import LogisticRegression, SGDClassifier\n",
        "from sklearn.svm import LinearSVC\n",
        "from sklearn.ensemble import RandomForestClassifier\n",
        "from sklearn.neural_network import MLPClassifier\n",
        "\n",
        "X = df.headline\n",
        "y = df.label\n",
        "\n",
        "cv = ShuffleSplit(n_splits=20, test_size=0.2)\n",
        "\n",
        "models = [\n",
        "    MultinomialNB(),\n",
        "    BernoulliNB(),\n",
        "    LogisticRegression(),\n",
        "    SGDClassifier(),\n",
        "    LinearSVC(),\n",
        "    RandomForestClassifier(),\n",
        "    MLPClassifier()\n",
        "]\n",
        "\n",
        "sm = SMOTE()\n",
        "\n",
        "# Init a dictionary for storing results of each run for each model\n",
        "results = {\n",
        "    model.__class__.__name__: {\n",
        "        'accuracy': [], \n",
        "        'f1_score': [],\n",
        "        'confusion_matrix': []\n",
        "    } for model in models\n",
        "}\n",
        "\n",
        "for train_index, test_index in cv.split(X):\n",
        "    X_train, X_test  = X.iloc[train_index], X.iloc[test_index]\n",
        "    y_train, y_test = y.iloc[train_index], y.iloc[test_index]\n",
        "    \n",
        "    X_train_vect = vect.fit_transform(X_train)    \n",
        "    X_test_vect = vect.transform(X_test)\n",
        "    \n",
        "    X_train_res, y_train_res = sm.fit_sample(X_train_vect, y_train)\n",
        "    \n",
        "    for model in models:\n",
        "        model.fit(X_train_res, y_train_res)\n",
        "        y_pred = model.predict(X_test_vect)\n",
        "        \n",
        "        acc = accuracy_score(y_test, y_pred)\n",
        "        f1 = f1_score(y_test, y_pred)\n",
        "        cm = confusion_matrix(y_test, y_pred)\n",
        "        \n",
        "        results[model.__class__.__name__]['accuracy'].append(acc)\n",
        "        results[model.__class__.__name__]['f1_score'].append(f1)\n",
        "        results[model.__class__.__name__]['confusion_matrix'].append(cm)"
      ],
      "execution_count": null,
      "outputs": []
    },
    {
      "cell_type": "code",
      "metadata": {
        "colab": {
          "base_uri": "https://localhost:8080/"
        },
        "id": "bKjvgPWg-VbT",
        "outputId": "727eb189-d8f2-4324-da8c-0d5b98ff0525"
      },
      "source": [
        "for model, d in results.items():\n",
        "    avg_acc = sum(d['accuracy']) / len(d['accuracy']) * 100\n",
        "    avg_f1 = sum(d['f1_score']) / len(d['f1_score']) * 100\n",
        "    avg_cm = sum(d['confusion_matrix']) / len(d['confusion_matrix'])\n",
        "    \n",
        "    slashes = '-' * 30\n",
        "    \n",
        "    s = f\"\"\"{model}\\n{slashes}\n",
        "        Avg. Accuracy: {avg_acc:.2f}%\n",
        "        Avg. F1 Score: {avg_f1:.2f}\n",
        "        Avg. Confusion Matrix: \n",
        "        \\n{avg_cm}\n",
        "        \"\"\"\n",
        "    print(s)"
      ],
      "execution_count": null,
      "outputs": [
        {
          "output_type": "stream",
          "text": [
            "MultinomialNB\n",
            "------------------------------\n",
            "        Avg. Accuracy: 74.07%\n",
            "        Avg. F1 Score: 70.35\n",
            "        Avg. Confusion Matrix: \n",
            "        \n",
            "[[41.5  12.45]\n",
            " [12.7  30.35]]\n",
            "        \n",
            "BernoulliNB\n",
            "------------------------------\n",
            "        Avg. Accuracy: 69.85%\n",
            "        Avg. F1 Score: 68.18\n",
            "        Avg. Confusion Matrix: \n",
            "        \n",
            "[[35.8  18.15]\n",
            " [11.1  31.95]]\n",
            "        \n",
            "LogisticRegression\n",
            "------------------------------\n",
            "        Avg. Accuracy: 70.21%\n",
            "        Avg. F1 Score: 67.35\n",
            "        Avg. Confusion Matrix: \n",
            "        \n",
            "[[37.7  16.25]\n",
            " [12.65 30.4 ]]\n",
            "        \n",
            "SGDClassifier\n",
            "------------------------------\n",
            "        Avg. Accuracy: 69.54%\n",
            "        Avg. F1 Score: 64.84\n",
            "        Avg. Confusion Matrix: \n",
            "        \n",
            "[[39.5  14.45]\n",
            " [15.1  27.95]]\n",
            "        \n",
            "LinearSVC\n",
            "------------------------------\n",
            "        Avg. Accuracy: 66.96%\n",
            "        Avg. F1 Score: 64.64\n",
            "        Avg. Confusion Matrix: \n",
            "        \n",
            "[[35.1  18.85]\n",
            " [13.2  29.85]]\n",
            "        \n",
            "RandomForestClassifier\n",
            "------------------------------\n",
            "        Avg. Accuracy: 65.77%\n",
            "        Avg. F1 Score: 63.69\n",
            "        Avg. Confusion Matrix: \n",
            "        \n",
            "[[34.2  19.75]\n",
            " [13.45 29.6 ]]\n",
            "        \n",
            "MLPClassifier\n",
            "------------------------------\n",
            "        Avg. Accuracy: 69.74%\n",
            "        Avg. F1 Score: 66.66\n",
            "        Avg. Confusion Matrix: \n",
            "        \n",
            "[[37.75 16.2 ]\n",
            " [13.15 29.9 ]]\n",
            "        \n"
          ],
          "name": "stdout"
        }
      ]
    },
    {
      "cell_type": "code",
      "metadata": {
        "id": "tcxc5nR7-k0L"
      },
      "source": [
        ""
      ],
      "execution_count": null,
      "outputs": []
    }
  ]
}