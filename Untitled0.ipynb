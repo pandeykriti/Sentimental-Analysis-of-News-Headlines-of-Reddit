{
  "nbformat": 4,
  "nbformat_minor": 0,
  "metadata": {
    "colab": {
      "name": "Untitled0.ipynb",
      "provenance": [],
      "mount_file_id": "1ZfphDry-XGT0Tght9bYgKs0GD1u9L8p4",
      "authorship_tag": "ABX9TyMOMt6ifuaOZfX0hQOA22WI",
      "include_colab_link": true
    },
    "kernelspec": {
      "display_name": "Python 3",
      "name": "python3"
    }
  },
  "cells": [
    {
      "cell_type": "markdown",
      "metadata": {
        "id": "view-in-github",
        "colab_type": "text"
      },
      "source": [
        "<a href=\"https://colab.research.google.com/github/pandeykriti/Sentimental-Analysis-of-News-Headlines-of-Reddit/blob/main/Untitled0.ipynb\" target=\"_parent\"><img src=\"https://colab.research.google.com/assets/colab-badge.svg\" alt=\"Open In Colab\"/></a>"
      ]
    },
    {
      "cell_type": "code",
      "metadata": {
        "colab": {
          "base_uri": "https://localhost:8080/"
        },
        "id": "0mKs2a6V0D4m",
        "outputId": "62a45a3f-def1-4e57-967e-b16ab469fb70"
      },
      "source": [
        "# This Python 3 environment comes with many helpful analytics libraries installed\n",
        "# It is defined by the kaggle/python Docker image: https://github.com/kaggle/docker-python\n",
        "!pip install NRCLex"
      ],
      "execution_count": 1,
      "outputs": [
        {
          "output_type": "stream",
          "text": [
            "Collecting NRCLex\n",
            "\u001b[?25l  Downloading https://files.pythonhosted.org/packages/41/1c/0097ee39d456c8a92b2eb5dfd59f581a09a6bafede184a058fb0f19bb6ea/NRCLex-3.0.0.tar.gz (396kB)\n",
            "\r\u001b[K     |▉                               | 10kB 10.7MB/s eta 0:00:01\r\u001b[K     |█▋                              | 20kB 15.3MB/s eta 0:00:01\r\u001b[K     |██▌                             | 30kB 11.1MB/s eta 0:00:01\r\u001b[K     |███▎                            | 40kB 10.0MB/s eta 0:00:01\r\u001b[K     |████▏                           | 51kB 5.4MB/s eta 0:00:01\r\u001b[K     |█████                           | 61kB 6.0MB/s eta 0:00:01\r\u001b[K     |█████▉                          | 71kB 6.2MB/s eta 0:00:01\r\u001b[K     |██████▋                         | 81kB 6.6MB/s eta 0:00:01\r\u001b[K     |███████▍                        | 92kB 6.2MB/s eta 0:00:01\r\u001b[K     |████████▎                       | 102kB 5.2MB/s eta 0:00:01\r\u001b[K     |█████████                       | 112kB 5.2MB/s eta 0:00:01\r\u001b[K     |██████████                      | 122kB 5.2MB/s eta 0:00:01\r\u001b[K     |██████████▊                     | 133kB 5.2MB/s eta 0:00:01\r\u001b[K     |███████████▋                    | 143kB 5.2MB/s eta 0:00:01\r\u001b[K     |████████████▍                   | 153kB 5.2MB/s eta 0:00:01\r\u001b[K     |█████████████▎                  | 163kB 5.2MB/s eta 0:00:01\r\u001b[K     |██████████████                  | 174kB 5.2MB/s eta 0:00:01\r\u001b[K     |██████████████▉                 | 184kB 5.2MB/s eta 0:00:01\r\u001b[K     |███████████████▊                | 194kB 5.2MB/s eta 0:00:01\r\u001b[K     |████████████████▌               | 204kB 5.2MB/s eta 0:00:01\r\u001b[K     |█████████████████▍              | 215kB 5.2MB/s eta 0:00:01\r\u001b[K     |██████████████████▏             | 225kB 5.2MB/s eta 0:00:01\r\u001b[K     |███████████████████             | 235kB 5.2MB/s eta 0:00:01\r\u001b[K     |███████████████████▉            | 245kB 5.2MB/s eta 0:00:01\r\u001b[K     |████████████████████▊           | 256kB 5.2MB/s eta 0:00:01\r\u001b[K     |█████████████████████▌          | 266kB 5.2MB/s eta 0:00:01\r\u001b[K     |██████████████████████▎         | 276kB 5.2MB/s eta 0:00:01\r\u001b[K     |███████████████████████▏        | 286kB 5.2MB/s eta 0:00:01\r\u001b[K     |████████████████████████        | 296kB 5.2MB/s eta 0:00:01\r\u001b[K     |████████████████████████▉       | 307kB 5.2MB/s eta 0:00:01\r\u001b[K     |█████████████████████████▋      | 317kB 5.2MB/s eta 0:00:01\r\u001b[K     |██████████████████████████▌     | 327kB 5.2MB/s eta 0:00:01\r\u001b[K     |███████████████████████████▎    | 337kB 5.2MB/s eta 0:00:01\r\u001b[K     |████████████████████████████    | 348kB 5.2MB/s eta 0:00:01\r\u001b[K     |█████████████████████████████   | 358kB 5.2MB/s eta 0:00:01\r\u001b[K     |█████████████████████████████▊  | 368kB 5.2MB/s eta 0:00:01\r\u001b[K     |██████████████████████████████▋ | 378kB 5.2MB/s eta 0:00:01\r\u001b[K     |███████████████████████████████▍| 389kB 5.2MB/s eta 0:00:01\r\u001b[K     |████████████████████████████████| 399kB 5.2MB/s \n",
            "\u001b[?25hRequirement already satisfied: textblob in /usr/local/lib/python3.7/dist-packages (from NRCLex) (0.15.3)\n",
            "Requirement already satisfied: nltk>=3.1 in /usr/local/lib/python3.7/dist-packages (from textblob->NRCLex) (3.2.5)\n",
            "Requirement already satisfied: six in /usr/local/lib/python3.7/dist-packages (from nltk>=3.1->textblob->NRCLex) (1.15.0)\n",
            "Building wheels for collected packages: NRCLex\n",
            "  Building wheel for NRCLex (setup.py) ... \u001b[?25l\u001b[?25hdone\n",
            "  Created wheel for NRCLex: filename=NRCLex-3.0.0-cp37-none-any.whl size=43328 sha256=91130d1de90fd7226658100fb075b681b3d284cbe2017d8f3ed56306ac543077\n",
            "  Stored in directory: /root/.cache/pip/wheels/17/31/64/035a8d245b4c217aeb8e8a2702d05dc91544b9c2334db72414\n",
            "Successfully built NRCLex\n",
            "Installing collected packages: NRCLex\n",
            "Successfully installed NRCLex-3.0.0\n"
          ],
          "name": "stdout"
        }
      ]
    },
    {
      "cell_type": "code",
      "metadata": {
        "colab": {
          "base_uri": "https://localhost:8080/"
        },
        "id": "6an5SL6e0hIu",
        "outputId": "213c9b1a-df7d-409a-c825-1f1274be47d4"
      },
      "source": [
        "#load all required packages\n",
        "#general data handling and processing\n",
        "import nltk\n",
        "nltk.download('vader_lexicon')\n",
        "import pandas as pd\n",
        "import numpy as np\n",
        "#text data processing and sentiment analysis tools\n",
        "import nltk\n",
        "from nltk.sentiment.vader import SentimentIntensityAnalyzer\n",
        "sia = SentimentIntensityAnalyzer()\n",
        "from nrclex import NRCLex\n",
        "\n",
        "#visualization\n",
        "import matplotlib.pyplot as plt"
      ],
      "execution_count": 2,
      "outputs": [
        {
          "output_type": "stream",
          "text": [
            "[nltk_data] Downloading package vader_lexicon to /root/nltk_data...\n"
          ],
          "name": "stdout"
        },
        {
          "output_type": "stream",
          "text": [
            "/usr/local/lib/python3.7/dist-packages/nltk/twitter/__init__.py:20: UserWarning: The twython library has not been installed. Some functionality from the twitter package will not be available.\n",
            "  warnings.warn(\"The twython library has not been installed. \"\n"
          ],
          "name": "stderr"
        }
      ]
    },
    {
      "cell_type": "code",
      "metadata": {
        "colab": {
          "resources": {
            "http://localhost:8080/nbextensions/google.colab/files.js": {
              "data": "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",
              "ok": true,
              "headers": [
                [
                  "content-type",
                  "application/javascript"
                ]
              ],
              "status": 200,
              "status_text": ""
            }
          },
          "base_uri": "https://localhost:8080/",
          "height": 73
        },
        "id": "qYbeJfLy1mDC",
        "outputId": "0737341b-6aa9-4e4b-bcb7-c33bf4b069eb"
      },
      "source": [
        "from google.colab import files\n",
        "uploaded = files.upload()"
      ],
      "execution_count": 3,
      "outputs": [
        {
          "output_type": "display_data",
          "data": {
            "text/html": [
              "\n",
              "     <input type=\"file\" id=\"files-8b19f722-1f1d-4a2b-8827-70d2db6f16a0\" name=\"files[]\" multiple disabled\n",
              "        style=\"border:none\" />\n",
              "     <output id=\"result-8b19f722-1f1d-4a2b-8827-70d2db6f16a0\">\n",
              "      Upload widget is only available when the cell has been executed in the\n",
              "      current browser session. Please rerun this cell to enable.\n",
              "      </output>\n",
              "      <script src=\"/nbextensions/google.colab/files.js\"></script> "
            ],
            "text/plain": [
              "<IPython.core.display.HTML object>"
            ]
          },
          "metadata": {
            "tags": []
          }
        },
        {
          "output_type": "stream",
          "text": [
            "Saving abcnews-date-text.csv to abcnews-date-text.csv\n"
          ],
          "name": "stdout"
        }
      ]
    },
    {
      "cell_type": "code",
      "metadata": {
        "id": "v2o0bqr_2229"
      },
      "source": [
        "import io\n",
        "df = pd.read_csv(io.BytesIO(uploaded['abcnews-date-text.csv']))"
      ],
      "execution_count": 4,
      "outputs": []
    },
    {
      "cell_type": "code",
      "metadata": {
        "colab": {
          "base_uri": "https://localhost:8080/"
        },
        "id": "vvvf97O_3BHv",
        "outputId": "dd94b684-ee35-40a5-84d1-a42409d95aa9"
      },
      "source": [
        "df.info()\n",
        "df.isnull().sum()"
      ],
      "execution_count": 5,
      "outputs": [
        {
          "output_type": "stream",
          "text": [
            "<class 'pandas.core.frame.DataFrame'>\n",
            "RangeIndex: 1226258 entries, 0 to 1226257\n",
            "Data columns (total 2 columns):\n",
            " #   Column         Non-Null Count    Dtype \n",
            "---  ------         --------------    ----- \n",
            " 0   publish_date   1226258 non-null  int64 \n",
            " 1   headline_text  1226258 non-null  object\n",
            "dtypes: int64(1), object(1)\n",
            "memory usage: 18.7+ MB\n"
          ],
          "name": "stdout"
        },
        {
          "output_type": "execute_result",
          "data": {
            "text/plain": [
              "publish_date     0\n",
              "headline_text    0\n",
              "dtype: int64"
            ]
          },
          "metadata": {
            "tags": []
          },
          "execution_count": 5
        }
      ]
    },
    {
      "cell_type": "code",
      "metadata": {
        "id": "yGjdkOlS3e1b"
      },
      "source": [
        "#change publish_date column to datetime as it is currently integer\n",
        "df['publish_date'] = pd.to_datetime(df['publish_date'], format='%Y%m%d') \n"
      ],
      "execution_count": 6,
      "outputs": []
    },
    {
      "cell_type": "code",
      "metadata": {
        "colab": {
          "base_uri": "https://localhost:8080/",
          "height": 203
        },
        "id": "-pimUiWb3new",
        "outputId": "5ac16a31-9062-47d4-80f6-e0fa1cabdf12"
      },
      "source": [
        "df.head()"
      ],
      "execution_count": 7,
      "outputs": [
        {
          "output_type": "execute_result",
          "data": {
            "text/html": [
              "<div>\n",
              "<style scoped>\n",
              "    .dataframe tbody tr th:only-of-type {\n",
              "        vertical-align: middle;\n",
              "    }\n",
              "\n",
              "    .dataframe tbody tr th {\n",
              "        vertical-align: top;\n",
              "    }\n",
              "\n",
              "    .dataframe thead th {\n",
              "        text-align: right;\n",
              "    }\n",
              "</style>\n",
              "<table border=\"1\" class=\"dataframe\">\n",
              "  <thead>\n",
              "    <tr style=\"text-align: right;\">\n",
              "      <th></th>\n",
              "      <th>publish_date</th>\n",
              "      <th>headline_text</th>\n",
              "    </tr>\n",
              "  </thead>\n",
              "  <tbody>\n",
              "    <tr>\n",
              "      <th>0</th>\n",
              "      <td>2003-02-19</td>\n",
              "      <td>aba decides against community broadcasting lic...</td>\n",
              "    </tr>\n",
              "    <tr>\n",
              "      <th>1</th>\n",
              "      <td>2003-02-19</td>\n",
              "      <td>act fire witnesses must be aware of defamation</td>\n",
              "    </tr>\n",
              "    <tr>\n",
              "      <th>2</th>\n",
              "      <td>2003-02-19</td>\n",
              "      <td>a g calls for infrastructure protection summit</td>\n",
              "    </tr>\n",
              "    <tr>\n",
              "      <th>3</th>\n",
              "      <td>2003-02-19</td>\n",
              "      <td>air nz staff in aust strike for pay rise</td>\n",
              "    </tr>\n",
              "    <tr>\n",
              "      <th>4</th>\n",
              "      <td>2003-02-19</td>\n",
              "      <td>air nz strike to affect australian travellers</td>\n",
              "    </tr>\n",
              "  </tbody>\n",
              "</table>\n",
              "</div>"
            ],
            "text/plain": [
              "  publish_date                                      headline_text\n",
              "0   2003-02-19  aba decides against community broadcasting lic...\n",
              "1   2003-02-19     act fire witnesses must be aware of defamation\n",
              "2   2003-02-19     a g calls for infrastructure protection summit\n",
              "3   2003-02-19           air nz staff in aust strike for pay rise\n",
              "4   2003-02-19      air nz strike to affect australian travellers"
            ]
          },
          "metadata": {
            "tags": []
          },
          "execution_count": 7
        }
      ]
    },
    {
      "cell_type": "code",
      "metadata": {
        "colab": {
          "base_uri": "https://localhost:8080/",
          "height": 142
        },
        "id": "iEfEHB6M4JuR",
        "outputId": "608b9f41-60ea-49e2-9507-07281fbaf608"
      },
      "source": [
        "#load VADER\n",
        "analyzer = SentimentIntensityAnalyzer()\n",
        "#Add VADER metrics to dataframe\n",
        "df['compound'] = [analyzer.polarity_scores(v)['compound'] for v in df['headline_text']]\n",
        "df['neg'] = [analyzer.polarity_scores(v)['neg'] for v in df['headline_text']]\n",
        "df['neu'] = [analyzer.polarity_scores(v)['neu'] for v in df['headline_text']]\n",
        "df['pos'] = [analyzer.polarity_scores(v)['pos'] for v in df['headline_text']]\n",
        "df.head(3)"
      ],
      "execution_count": 8,
      "outputs": [
        {
          "output_type": "execute_result",
          "data": {
            "text/html": [
              "<div>\n",
              "<style scoped>\n",
              "    .dataframe tbody tr th:only-of-type {\n",
              "        vertical-align: middle;\n",
              "    }\n",
              "\n",
              "    .dataframe tbody tr th {\n",
              "        vertical-align: top;\n",
              "    }\n",
              "\n",
              "    .dataframe thead th {\n",
              "        text-align: right;\n",
              "    }\n",
              "</style>\n",
              "<table border=\"1\" class=\"dataframe\">\n",
              "  <thead>\n",
              "    <tr style=\"text-align: right;\">\n",
              "      <th></th>\n",
              "      <th>publish_date</th>\n",
              "      <th>headline_text</th>\n",
              "      <th>compound</th>\n",
              "      <th>neg</th>\n",
              "      <th>neu</th>\n",
              "      <th>pos</th>\n",
              "    </tr>\n",
              "  </thead>\n",
              "  <tbody>\n",
              "    <tr>\n",
              "      <th>0</th>\n",
              "      <td>2003-02-19</td>\n",
              "      <td>aba decides against community broadcasting lic...</td>\n",
              "      <td>0.00</td>\n",
              "      <td>0.000</td>\n",
              "      <td>1.000</td>\n",
              "      <td>0.0</td>\n",
              "    </tr>\n",
              "    <tr>\n",
              "      <th>1</th>\n",
              "      <td>2003-02-19</td>\n",
              "      <td>act fire witnesses must be aware of defamation</td>\n",
              "      <td>-0.34</td>\n",
              "      <td>0.255</td>\n",
              "      <td>0.745</td>\n",
              "      <td>0.0</td>\n",
              "    </tr>\n",
              "    <tr>\n",
              "      <th>2</th>\n",
              "      <td>2003-02-19</td>\n",
              "      <td>a g calls for infrastructure protection summit</td>\n",
              "      <td>0.00</td>\n",
              "      <td>0.000</td>\n",
              "      <td>1.000</td>\n",
              "      <td>0.0</td>\n",
              "    </tr>\n",
              "  </tbody>\n",
              "</table>\n",
              "</div>"
            ],
            "text/plain": [
              "  publish_date                                      headline_text  ...    neu  pos\n",
              "0   2003-02-19  aba decides against community broadcasting lic...  ...  1.000  0.0\n",
              "1   2003-02-19     act fire witnesses must be aware of defamation  ...  0.745  0.0\n",
              "2   2003-02-19     a g calls for infrastructure protection summit  ...  1.000  0.0\n",
              "\n",
              "[3 rows x 6 columns]"
            ]
          },
          "metadata": {
            "tags": []
          },
          "execution_count": 8
        }
      ]
    },
    {
      "cell_type": "code",
      "metadata": {
        "colab": {
          "base_uri": "https://localhost:8080/",
          "height": 203
        },
        "id": "LESk0IV64cae",
        "outputId": "df3392ee-96b4-410a-dfa6-15720d4335ca"
      },
      "source": [
        "df['label'] = 0\n",
        "df.loc[df['compound'] > 0.2, 'label'] = 1\n",
        "df.loc[df['compound'] < -0.2, 'label'] = -1\n",
        "df.head()"
      ],
      "execution_count": 9,
      "outputs": [
        {
          "output_type": "execute_result",
          "data": {
            "text/html": [
              "<div>\n",
              "<style scoped>\n",
              "    .dataframe tbody tr th:only-of-type {\n",
              "        vertical-align: middle;\n",
              "    }\n",
              "\n",
              "    .dataframe tbody tr th {\n",
              "        vertical-align: top;\n",
              "    }\n",
              "\n",
              "    .dataframe thead th {\n",
              "        text-align: right;\n",
              "    }\n",
              "</style>\n",
              "<table border=\"1\" class=\"dataframe\">\n",
              "  <thead>\n",
              "    <tr style=\"text-align: right;\">\n",
              "      <th></th>\n",
              "      <th>publish_date</th>\n",
              "      <th>headline_text</th>\n",
              "      <th>compound</th>\n",
              "      <th>neg</th>\n",
              "      <th>neu</th>\n",
              "      <th>pos</th>\n",
              "      <th>label</th>\n",
              "    </tr>\n",
              "  </thead>\n",
              "  <tbody>\n",
              "    <tr>\n",
              "      <th>0</th>\n",
              "      <td>2003-02-19</td>\n",
              "      <td>aba decides against community broadcasting lic...</td>\n",
              "      <td>0.0000</td>\n",
              "      <td>0.000</td>\n",
              "      <td>1.000</td>\n",
              "      <td>0.0</td>\n",
              "      <td>0</td>\n",
              "    </tr>\n",
              "    <tr>\n",
              "      <th>1</th>\n",
              "      <td>2003-02-19</td>\n",
              "      <td>act fire witnesses must be aware of defamation</td>\n",
              "      <td>-0.3400</td>\n",
              "      <td>0.255</td>\n",
              "      <td>0.745</td>\n",
              "      <td>0.0</td>\n",
              "      <td>-1</td>\n",
              "    </tr>\n",
              "    <tr>\n",
              "      <th>2</th>\n",
              "      <td>2003-02-19</td>\n",
              "      <td>a g calls for infrastructure protection summit</td>\n",
              "      <td>0.0000</td>\n",
              "      <td>0.000</td>\n",
              "      <td>1.000</td>\n",
              "      <td>0.0</td>\n",
              "      <td>0</td>\n",
              "    </tr>\n",
              "    <tr>\n",
              "      <th>3</th>\n",
              "      <td>2003-02-19</td>\n",
              "      <td>air nz staff in aust strike for pay rise</td>\n",
              "      <td>-0.2263</td>\n",
              "      <td>0.293</td>\n",
              "      <td>0.707</td>\n",
              "      <td>0.0</td>\n",
              "      <td>-1</td>\n",
              "    </tr>\n",
              "    <tr>\n",
              "      <th>4</th>\n",
              "      <td>2003-02-19</td>\n",
              "      <td>air nz strike to affect australian travellers</td>\n",
              "      <td>-0.1280</td>\n",
              "      <td>0.200</td>\n",
              "      <td>0.800</td>\n",
              "      <td>0.0</td>\n",
              "      <td>0</td>\n",
              "    </tr>\n",
              "  </tbody>\n",
              "</table>\n",
              "</div>"
            ],
            "text/plain": [
              "  publish_date                                      headline_text  ...  pos  label\n",
              "0   2003-02-19  aba decides against community broadcasting lic...  ...  0.0      0\n",
              "1   2003-02-19     act fire witnesses must be aware of defamation  ...  0.0     -1\n",
              "2   2003-02-19     a g calls for infrastructure protection summit  ...  0.0      0\n",
              "3   2003-02-19           air nz staff in aust strike for pay rise  ...  0.0     -1\n",
              "4   2003-02-19      air nz strike to affect australian travellers  ...  0.0      0\n",
              "\n",
              "[5 rows x 7 columns]"
            ]
          },
          "metadata": {
            "tags": []
          },
          "execution_count": 9
        }
      ]
    },
    {
      "cell_type": "code",
      "metadata": {
        "colab": {
          "base_uri": "https://localhost:8080/"
        },
        "id": "XMuj_gB5IC1M",
        "outputId": "1626e815-8cf8-4918-a157-ec4979e1b59b"
      },
      "source": [
        "print(df.label.value_counts())\n",
        "\n",
        "print(df.label.value_counts(normalize=True) * 100)"
      ],
      "execution_count": 10,
      "outputs": [
        {
          "output_type": "stream",
          "text": [
            " 0    628159\n",
            "-1    382211\n",
            " 1    215888\n",
            "Name: label, dtype: int64\n",
            " 0    51.225680\n",
            "-1    31.168889\n",
            " 1    17.605431\n",
            "Name: label, dtype: float64\n"
          ],
          "name": "stdout"
        }
      ]
    },
    {
      "cell_type": "code",
      "metadata": {
        "id": "Zb5f-LZ5_izT"
      },
      "source": [
        "monthly_averages = df.resample('M',on='publish_date').mean()\n"
      ],
      "execution_count": 11,
      "outputs": []
    },
    {
      "cell_type": "code",
      "metadata": {
        "colab": {
          "base_uri": "https://localhost:8080/",
          "height": 234
        },
        "id": "mXNsDs9sKrJA",
        "outputId": "65ccec87-f701-4e3e-de41-be436f3f2ab0"
      },
      "source": [
        "monthly_averages.head(5)"
      ],
      "execution_count": 12,
      "outputs": [
        {
          "output_type": "execute_result",
          "data": {
            "text/html": [
              "<div>\n",
              "<style scoped>\n",
              "    .dataframe tbody tr th:only-of-type {\n",
              "        vertical-align: middle;\n",
              "    }\n",
              "\n",
              "    .dataframe tbody tr th {\n",
              "        vertical-align: top;\n",
              "    }\n",
              "\n",
              "    .dataframe thead th {\n",
              "        text-align: right;\n",
              "    }\n",
              "</style>\n",
              "<table border=\"1\" class=\"dataframe\">\n",
              "  <thead>\n",
              "    <tr style=\"text-align: right;\">\n",
              "      <th></th>\n",
              "      <th>compound</th>\n",
              "      <th>neg</th>\n",
              "      <th>neu</th>\n",
              "      <th>pos</th>\n",
              "      <th>label</th>\n",
              "    </tr>\n",
              "    <tr>\n",
              "      <th>publish_date</th>\n",
              "      <th></th>\n",
              "      <th></th>\n",
              "      <th></th>\n",
              "      <th></th>\n",
              "      <th></th>\n",
              "    </tr>\n",
              "  </thead>\n",
              "  <tbody>\n",
              "    <tr>\n",
              "      <th>2003-02-28</th>\n",
              "      <td>-0.081339</td>\n",
              "      <td>0.154803</td>\n",
              "      <td>0.754304</td>\n",
              "      <td>0.090897</td>\n",
              "      <td>-0.140826</td>\n",
              "    </tr>\n",
              "    <tr>\n",
              "      <th>2003-03-31</th>\n",
              "      <td>-0.093607</td>\n",
              "      <td>0.168287</td>\n",
              "      <td>0.737081</td>\n",
              "      <td>0.094632</td>\n",
              "      <td>-0.160530</td>\n",
              "    </tr>\n",
              "    <tr>\n",
              "      <th>2003-04-30</th>\n",
              "      <td>-0.064970</td>\n",
              "      <td>0.143919</td>\n",
              "      <td>0.764776</td>\n",
              "      <td>0.091306</td>\n",
              "      <td>-0.112768</td>\n",
              "    </tr>\n",
              "    <tr>\n",
              "      <th>2003-05-31</th>\n",
              "      <td>-0.062888</td>\n",
              "      <td>0.147143</td>\n",
              "      <td>0.756618</td>\n",
              "      <td>0.096239</td>\n",
              "      <td>-0.106579</td>\n",
              "    </tr>\n",
              "    <tr>\n",
              "      <th>2003-06-30</th>\n",
              "      <td>-0.054663</td>\n",
              "      <td>0.144605</td>\n",
              "      <td>0.754899</td>\n",
              "      <td>0.100500</td>\n",
              "      <td>-0.096911</td>\n",
              "    </tr>\n",
              "  </tbody>\n",
              "</table>\n",
              "</div>"
            ],
            "text/plain": [
              "              compound       neg       neu       pos     label\n",
              "publish_date                                                  \n",
              "2003-02-28   -0.081339  0.154803  0.754304  0.090897 -0.140826\n",
              "2003-03-31   -0.093607  0.168287  0.737081  0.094632 -0.160530\n",
              "2003-04-30   -0.064970  0.143919  0.764776  0.091306 -0.112768\n",
              "2003-05-31   -0.062888  0.147143  0.756618  0.096239 -0.106579\n",
              "2003-06-30   -0.054663  0.144605  0.754899  0.100500 -0.096911"
            ]
          },
          "metadata": {
            "tags": []
          },
          "execution_count": 12
        }
      ]
    },
    {
      "cell_type": "code",
      "metadata": {
        "colab": {
          "base_uri": "https://localhost:8080/",
          "height": 396
        },
        "id": "7MRe0gIHKw_n",
        "outputId": "9019ac19-137c-4296-9922-2976ccb6a629"
      },
      "source": [
        "#visualization of vader sentiment scores\n",
        "plt.figure(figsize=(20,10))\n",
        "\n",
        "plt.plot(monthly_averages.index, monthly_averages['compound'], color = 'blue', linewidth=2, label='Monthly mean compound scores')\n",
        "plt.legend()\n",
        "plt.show()"
      ],
      "execution_count": 13,
      "outputs": [
        {
          "output_type": "display_data",
          "data": {
            "image/png": "[encoded data removed]",
            "text/plain": [
              "<Figure size 1440x720 with 1 Axes>"
            ]
          },
          "metadata": {
            "tags": [],
            "needs_background": "light"
          }
        }
      ]
    },
    {
      "cell_type": "code",
      "metadata": {
        "colab": {
          "base_uri": "https://localhost:8080/",
          "height": 483
        },
        "id": "JZRua8muLWVq",
        "outputId": "fe3269ad-9a24-4350-9480-4887e9181528"
      },
      "source": [
        "import seaborn as sns\n",
        "\n",
        "fig, ax = plt.subplots(figsize=(8, 8))\n",
        "\n",
        "counts = df.label.value_counts(normalize=True) * 100\n",
        "\n",
        "sns.barplot(x=counts.index, y=counts, ax=ax)\n",
        "\n",
        "ax.set_xticklabels(['Negative', 'Neutral', 'Positive'])\n",
        "ax.set_ylabel(\"Percentage\")\n",
        "\n",
        "plt.show()"
      ],
      "execution_count": 14,
      "outputs": [
        {
          "output_type": "display_data",
          "data": {
            "image/png": "[encoded data removed]",
            "text/plain": [
              "<Figure size 576x576 with 1 Axes>"
            ]
          },
          "metadata": {
            "tags": [],
            "needs_background": "light"
          }
        }
      ]
    },
    {
      "cell_type": "code",
      "metadata": {
        "colab": {
          "base_uri": "https://localhost:8080/"
        },
        "id": "RFG55ynzLjIP",
        "outputId": "4288bef8-9766-4cf9-939b-491286bd9392"
      },
      "source": [
        "nltk.download('punkt')\n",
        "from nltk.tokenize import word_tokenize, RegexpTokenizer\n",
        "\n",
        "\n",
        "example = \"Just see how tokenizer works\"\n",
        "\n",
        "print(word_tokenize(example, language='english'))"
      ],
      "execution_count": 15,
      "outputs": [
        {
          "output_type": "stream",
          "text": [
            "[nltk_data] Downloading package punkt to /root/nltk_data...\n",
            "[nltk_data]   Unzipping tokenizers/punkt.zip.\n",
            "['Just', 'see', 'how', 'tokenizer', 'works']\n"
          ],
          "name": "stdout"
        }
      ]
    },
    {
      "cell_type": "code",
      "metadata": {
        "colab": {
          "base_uri": "https://localhost:8080/"
        },
        "id": "A74frEIwMCeH",
        "outputId": "cc209adb-d190-4223-955e-9fffa495df96"
      },
      "source": [
        "nltk.download('stopwords')\n",
        "from nltk.corpus import stopwords\n",
        "\n",
        "stop_words = stopwords.words('english')\n",
        "print(stop_words[:20])"
      ],
      "execution_count": 16,
      "outputs": [
        {
          "output_type": "stream",
          "text": [
            "[nltk_data] Downloading package stopwords to /root/nltk_data...\n",
            "[nltk_data]   Unzipping corpora/stopwords.zip.\n",
            "['i', 'me', 'my', 'myself', 'we', 'our', 'ours', 'ourselves', 'you', \"you're\", \"you've\", \"you'll\", \"you'd\", 'your', 'yours', 'yourself', 'yourselves', 'he', 'him', 'his']\n"
          ],
          "name": "stdout"
        }
      ]
    },
    {
      "cell_type": "code",
      "metadata": {
        "id": "hzcoJEzWMGiw"
      },
      "source": [
        "def process_text(headlines):\n",
        "    tokens = []\n",
        "    for line in headlines:\n",
        "        toks = tokenizer.tokenize(line)\n",
        "        toks = [t.lower() for t in toks if t.lower() not in stop_words]\n",
        "        tokens.extend(toks)\n",
        "    \n",
        "    return tokens"
      ],
      "execution_count": 17,
      "outputs": []
    },
    {
      "cell_type": "code",
      "metadata": {
        "colab": {
          "base_uri": "https://localhost:8080/"
        },
        "id": "IfviFlkaMK_A",
        "outputId": "0195ef5e-f127-4d85-855e-dc2f99df3bcc"
      },
      "source": [
        "nltk.download('punkt')\n",
        "from nltk.tokenize import word_tokenize, RegexpTokenizer\n",
        "\n",
        "\n",
        "example = \"Let us experiment over this sentence and look into its working\"\n",
        "\n",
        "print(word_tokenize(example, language='english'))\n",
        "\n",
        "tokenizer = RegexpTokenizer(r'\\w+')\n",
        "tokenizer.tokenize(example)\n",
        "pos_lines = list(df[df.label == 1].headline_text)\n",
        "\n",
        "pos_tokens = process_text(pos_lines)\n",
        "pos_freq = nltk.FreqDist(pos_tokens)\n",
        "\n",
        "pos_freq.most_common(20)"
      ],
      "execution_count": 18,
      "outputs": [
        {
          "output_type": "stream",
          "text": [
            "[nltk_data] Downloading package punkt to /root/nltk_data...\n",
            "[nltk_data]   Package punkt is already up-to-date!\n",
            "['Let', 'us', 'experiment', 'over', 'this', 'sentence', 'and', 'look', 'into', 'its', 'working']\n"
          ],
          "name": "stdout"
        },
        {
          "output_type": "execute_result",
          "data": {
            "text/plain": [
              "[('win', 8571),\n",
              " ('wins', 7360),\n",
              " ('boost', 6609),\n",
              " ('new', 6242),\n",
              " ('help', 5150),\n",
              " ('top', 5142),\n",
              " ('support', 4629),\n",
              " ('says', 4343),\n",
              " ('police', 3501),\n",
              " ('us', 3467),\n",
              " ('govt', 3324),\n",
              " ('australia', 3302),\n",
              " ('safety', 3179),\n",
              " ('council', 3114),\n",
              " ('security', 3016),\n",
              " ('free', 3003),\n",
              " ('australian', 2979),\n",
              " ('hopes', 2943),\n",
              " ('care', 2894),\n",
              " ('world', 2673)]"
            ]
          },
          "metadata": {
            "tags": []
          },
          "execution_count": 18
        }
      ]
    },
    {
      "cell_type": "code",
      "metadata": {
        "colab": {
          "base_uri": "https://localhost:8080/",
          "height": 350
        },
        "id": "hmkqSyATMgWN",
        "outputId": "17e0b15f-31d3-44f9-e786-63e51f160fa0"
      },
      "source": [
        "y_val = [x[1] for x in pos_freq.most_common()]\n",
        "\n",
        "fig = plt.figure(figsize=(10,5))\n",
        "plt.plot(y_val)\n",
        "\n",
        "plt.xlabel(\"Words\")\n",
        "plt.ylabel(\"Count of words\")\n",
        "plt.title(\"Word Frequency Distribution (Positive)\")\n",
        "plt.show()\n"
      ],
      "execution_count": null,
      "outputs": [
        {
          "output_type": "display_data",
          "data": {
            "image/png": "[encoded data removed]",
            "text/plain": [
              "<Figure size 720x360 with 1 Axes>"
            ]
          },
          "metadata": {
            "tags": []
          }
        }
      ]
    },
    {
      "cell_type": "code",
      "metadata": {
        "colab": {
          "base_uri": "https://localhost:8080/"
        },
        "id": "HllVQzRXMymm",
        "outputId": "de6a4268-2a81-4cce-d010-5e8b2d6132cc"
      },
      "source": [
        "neg_lines = list(df[df.label == -1].headline_text)\n",
        "\n",
        "neg_tokens = process_text(neg_lines)\n",
        "neg_freq = nltk.FreqDist(neg_tokens)\n",
        "\n",
        "neg_freq.most_common(20)"
      ],
      "execution_count": null,
      "outputs": [
        {
          "output_type": "execute_result",
          "data": {
            "text/plain": [
              "[('man', 21327),\n",
              " ('police', 20193),\n",
              " ('fire', 13584),\n",
              " ('death', 12236),\n",
              " ('crash', 11624),\n",
              " ('charged', 10771),\n",
              " ('murder', 10274),\n",
              " ('court', 8941),\n",
              " ('killed', 8756),\n",
              " ('accused', 8270),\n",
              " ('says', 7784),\n",
              " ('attack', 7564),\n",
              " ('us', 7469),\n",
              " ('missing', 6959),\n",
              " ('dead', 6740),\n",
              " ('new', 6375),\n",
              " ('woman', 6288),\n",
              " ('ban', 5903),\n",
              " ('fears', 5896),\n",
              " ('charges', 5854)]"
            ]
          },
          "metadata": {
            "tags": []
          },
          "execution_count": 28
        }
      ]
    },
    {
      "cell_type": "code",
      "metadata": {
        "colab": {
          "base_uri": "https://localhost:8080/",
          "height": 350
        },
        "id": "MeWLQ82VNuMH",
        "outputId": "b2b31c68-57cd-40c3-b0bb-b4ae52883166"
      },
      "source": [
        "y_val = [x[1] for x in neg_freq.most_common()]\n",
        "\n",
        "fig = plt.figure(figsize=(10,5))\n",
        "plt.plot(y_val)\n",
        "\n",
        "plt.xlabel(\"Words\")\n",
        "plt.ylabel(\"Count of words\")\n",
        "plt.title(\"Word Frequency Distribution (Negative)\")\n",
        "plt.show()"
      ],
      "execution_count": null,
      "outputs": [
        {
          "output_type": "display_data",
          "data": {
            "image/png": "[encoded data removed]",
            "text/plain": [
              "<Figure size 720x360 with 1 Axes>"
            ]
          },
          "metadata": {
            "tags": []
          }
        }
      ]
    },
    {
      "cell_type": "code",
      "metadata": {
        "colab": {
          "base_uri": "https://localhost:8080/"
        },
        "id": "SFZUS8SqN4os",
        "outputId": "5feea9e2-5fb4-4329-df2b-3b8755d2675f"
      },
      "source": [
        "df = df[df.label != 0]\n",
        "df.label.value_counts()"
      ],
      "execution_count": 19,
      "outputs": [
        {
          "output_type": "execute_result",
          "data": {
            "text/plain": [
              "-1    382211\n",
              " 1    215888\n",
              "Name: label, dtype: int64"
            ]
          },
          "metadata": {
            "tags": []
          },
          "execution_count": 19
        }
      ]
    },
    {
      "cell_type": "code",
      "metadata": {
        "id": "gEU5hHzsOCBG"
      },
      "source": [
        "X = df.headline_text\n",
        "y = df.label"
      ],
      "execution_count": 20,
      "outputs": []
    },
    {
      "cell_type": "code",
      "metadata": {
        "id": "s9ePUVyDOKOa"
      },
      "source": [
        "from sklearn.feature_extraction.text import CountVectorizer\n",
        "\n",
        "vect = CountVectorizer(max_features=1000, binary=True)\n",
        "\n",
        "X_train_vect = vect.fit_transform(X)"
      ],
      "execution_count": 21,
      "outputs": []
    },
    {
      "cell_type": "code",
      "metadata": {
        "colab": {
          "base_uri": "https://localhost:8080/"
        },
        "id": "-Rec06njOakM",
        "outputId": "1ac6e4cc-5997-4f9c-e9f2-0a6254a07eb3"
      },
      "source": [
        "counts = df.label.value_counts()\n",
        "print(counts)\n",
        "\n",
        "print(\"\\nPredicting only -1 = {:.2f}% accuracy\".format(counts[-1] / sum(counts) * 100))"
      ],
      "execution_count": 22,
      "outputs": [
        {
          "output_type": "stream",
          "text": [
            "-1    382211\n",
            " 1    215888\n",
            "Name: label, dtype: int64\n",
            "\n",
            "Predicting only -1 = 63.90% accuracy\n"
          ],
          "name": "stdout"
        }
      ]
    },
    {
      "cell_type": "code",
      "metadata": {
        "colab": {
          "base_uri": "https://localhost:8080/"
        },
        "id": "5BaG_UanOm5x",
        "outputId": "ebdff32b-5d33-4a62-b5c6-b13a126fa41d"
      },
      "source": [
        "from sklearn.naive_bayes import MultinomialNB\n",
        "\n",
        "nb = MultinomialNB()\n",
        "\n",
        "nb.fit(X_train_vect, y)\n",
        "\n",
        "nb.score(X_train_vect, y)"
      ],
      "execution_count": 23,
      "outputs": [
        {
          "output_type": "execute_result",
          "data": {
            "text/plain": [
              "0.8828404662104434"
            ]
          },
          "metadata": {
            "tags": []
          },
          "execution_count": 23
        }
      ]
    },
    {
      "cell_type": "code",
      "metadata": {
        "colab": {
          "base_uri": "https://localhost:8080/"
        },
        "id": "3KIvtrQOO1cO",
        "outputId": "a5e35a2e-e453-4acd-ea9d-5cae94826b3b"
      },
      "source": [
        "from imblearn.over_sampling import SMOTE\n",
        "\n",
        "sm = SMOTE()\n",
        "\n",
        "X_train_res, y_train_res = sm.fit_sample(X_train_vect, y)"
      ],
      "execution_count": 24,
      "outputs": [
        {
          "output_type": "stream",
          "text": [
            "/usr/local/lib/python3.7/dist-packages/sklearn/externals/six.py:31: FutureWarning: The module is deprecated in version 0.21 and will be removed in version 0.23 since we've dropped support for Python 2.7. Please rely on the official version of six (https://pypi.org/project/six/).\n",
            "  \"(https://pypi.org/project/six/).\", FutureWarning)\n",
            "/usr/local/lib/python3.7/dist-packages/sklearn/utils/deprecation.py:144: FutureWarning: The sklearn.neighbors.base module is  deprecated in version 0.22 and will be removed in version 0.24. The corresponding classes / functions should instead be imported from sklearn.neighbors. Anything that cannot be imported from sklearn.neighbors is now part of the private API.\n",
            "  warnings.warn(message, FutureWarning)\n",
            "/usr/local/lib/python3.7/dist-packages/sklearn/utils/deprecation.py:87: FutureWarning: Function safe_indexing is deprecated; safe_indexing is deprecated in version 0.22 and will be removed in version 0.24.\n",
            "  warnings.warn(msg, category=FutureWarning)\n"
          ],
          "name": "stderr"
        }
      ]
    },
    {
      "cell_type": "code",
      "metadata": {
        "id": "NLQ-I_9qPA_x",
        "colab": {
          "base_uri": "https://localhost:8080/"
        },
        "outputId": "2b246d5a-05ab-4fdb-e3e9-cd8812f97e0d"
      },
      "source": [
        "unique, counts = np.unique(y_train_res, return_counts=True)\n",
        "print(list(zip(unique, counts)))\n",
        "\n",
        "nb.fit(X_train_res, y_train_res)\n",
        "\n",
        "nb.score(X_train_res, y_train_res)"
      ],
      "execution_count": 25,
      "outputs": [
        {
          "output_type": "stream",
          "text": [
            "[(-1, 382211), (1, 382211)]\n"
          ],
          "name": "stdout"
        },
        {
          "output_type": "execute_result",
          "data": {
            "text/plain": [
              "0.8752600003662898"
            ]
          },
          "metadata": {
            "tags": []
          },
          "execution_count": 25
        }
      ]
    },
    {
      "cell_type": "code",
      "metadata": {
        "colab": {
          "base_uri": "https://localhost:8080/"
        },
        "id": "dCk4QvXlcmtq",
        "outputId": "5f7d5315-a981-4a62-d05b-e081cf485053"
      },
      "source": [
        "#installing an API wrapper\n",
        "!pip install -q praw\n",
        "import praw\n",
        " \n",
        "reddit = praw.Reddit(client_id='v04FYUyL6rMHFQ',\n",
        "                     client_secret='UrC8OzxU9ZQoO-dJbOIXBJADxHX_rQ',\n",
        "                     user_agent='Kritika Pandey')\n"
      ],
      "execution_count": 26,
      "outputs": [
        {
          "output_type": "stream",
          "text": [
            "\u001b[K     |████████████████████████████████| 163kB 4.6MB/s \n",
            "\u001b[K     |████████████████████████████████| 71kB 5.2MB/s \n",
            "\u001b[?25h"
          ],
          "name": "stdout"
        }
      ]
    },
    {
      "cell_type": "code",
      "metadata": {
        "colab": {
          "base_uri": "https://localhost:8080/"
        },
        "id": "SLl8xYfzcusp",
        "outputId": "40a428e6-2653-487b-80d6-e90ee20e1f8b"
      },
      "source": [
        "#Importing libraries\n",
        "from IPython import display\n",
        "import math\n",
        "from pprint import pprint\n",
        "import pandas as pd\n",
        "import numpy as np\n",
        "import nltk\n",
        "import matplotlib.pyplot as plt\n",
        "import seaborn as sns\n",
        "sns.set(style='darkgrid', context='talk', palette='Dark2')\n",
        "#iterating over subredit /r/Indian health\n",
        "headlines = set()\n",
        "for submission in reddit.subreddit('health+india').new(limit=None):\n",
        "    headlines.add(submission.title)\n",
        "    display.clear_output()\n",
        "    print(len(headlines))"
      ],
      "execution_count": 28,
      "outputs": [
        {
          "output_type": "stream",
          "text": [
            "1051\n"
          ],
          "name": "stdout"
        }
      ]
    },
    {
      "cell_type": "code",
      "metadata": {
        "colab": {
          "base_uri": "https://localhost:8080/"
        },
        "id": "eTcdI-kkc77e",
        "outputId": "8c4801f1-930c-41e7-b97e-0bbdd1785851"
      },
      "source": [
        "headlines"
      ],
      "execution_count": 29,
      "outputs": [
        {
          "output_type": "execute_result",
          "data": {
            "text/plain": [
              "{'Frustrated with my parents',\n",
              " 'Are senior citizen homes available on rental basis? What is the model followed usually?',\n",
              " 'Adolescents Can Get Routine Immunizations With Their COVID Shots, CDC Advisers Say : Coronavirus Updates : NPR',\n",
              " \"Arrest of a 15-Year-Old Under UAPA in J&K Shows the Govt's Insecurity\",\n",
              " 'TW: Sexual Harassment, Abuse (Want help)',\n",
              " 'Govt clears building of 6 attack submarines',\n",
              " 'Tamil Nadu : AIADMK co-coordinator Palaniswami meets party coordinator Panneerselvam',\n",
              " 'BJP seeks probe into ‘vaccine profiteering’ by Punjab government',\n",
              " '[HELP] Office Chairs recommendations below 8k',\n",
              " '[BREAKING] Delhi High Court dismisses plea seeking de-registration of YSR Congress Party',\n",
              " 'How Tamil Nadu’s finance minister got his fans in Goa',\n",
              " 'Developers/Coders, How is the career path of a developer/coder for those not from engineering backgrounds?',\n",
              " 'Kannadigas irked with Google search result for ‘ugliest language in India’',\n",
              " \"VERIFY: No, you can't get COVID-19 from a mosquito\",\n",
              " 'I want the Sputnik V as it is not mRNA. However, the WHO says those vaccinated with Sputnik V, must get revaccinated with either Pfizer, Moderna, or JJ, if residing in the US, despite Sputnik V’s great efficacy. Why is that?',\n",
              " 'Gujarat discoms sign pacts for 3,979 solar projects with 2,500 MW capacity',\n",
              " '17-year-old girl raped by her tennis coach in Jaipur',\n",
              " 'Rant - Life, Depression, Struggling to live in a post-pandemic world',\n",
              " 'Anyone here whose employer announced permanent work from home?',\n",
              " 'Stand for the Doctors!',\n",
              " 'Study finds alarming levels of ‘forever chemicals’ in US mothers’ breast milk',\n",
              " 'Suggest me a laptop for my youtube channel',\n",
              " 'On World Environment day, throwback to PM Narendra Modi views on Climate Change',\n",
              " 'The proof of the pudding is not in the import negative list',\n",
              " 'Impact of IT Rules 2021 on News | MediaNama',\n",
              " 'Dushyant Dave: Vaccine Policy Unconstitutional, Breaches Fundamental Rights, SC Should Strike Down',\n",
              " 'Need help with BSNL FFTH connection',\n",
              " \"Centre Stops Delhi's Doorstep Ration Delivery, Say AAP Government Sources\",\n",
              " 'Black Fungus Infection Grips The National Capital | Ground Reports From AIIMS Delhi',\n",
              " '[PDF] Crisis and Predation - India, COVID-19 and Global Finance | Research Unit for Political Economy',\n",
              " 'This thought bought me into tears',\n",
              " 'Need some legal advise, the person we were buying house is not refunding our money back (Around 3 Lakhs) after sitting on it for a year and I am way too stressed. Please Help.',\n",
              " 'Government of India gives final notice to Twitter for compliance with new IT rules | ANI on Twitter',\n",
              " 'India Under PM Modi Successfully Fought COVID-19 Battle: Amit Shah',\n",
              " 'CDC says fully vaccinated people don’t need to wear face masks indoors or outdoors in most settings; There are a handful of instances where people will still need to wear masks even if they’ve had their final vaccine dose two or more weeks ago.',\n",
              " 'Some threads on r/india to binge on?',\n",
              " 'Pediatricians say the country is bouncing back — and so are childhood illnesses: \"It\\'s the spring viruses and the winter illnesses all combined.”',\n",
              " 'Lucknow: Doctorâ\\x80\\x99s assault case solved, two arrested | Lucknow News - Times of India',\n",
              " 'UP: Encourage people to adopt a cow, CM tells mayors, corporators',\n",
              " 'Which processed foods are better than natural?',\n",
              " 'Lust for power amid pandemic will lead to anarchy: Maharashtra CM Uddhav Thackeray | India News - Times of India',\n",
              " 'Anyone can recommend me another good Indian food (dinning in) youtube channel ? in English',\n",
              " 'Monsoon to further advance into Maharashtra, southern India; heavy rainfall over northeast',\n",
              " 'Daily BitTorrent Statistic in India for 2021-06-04',\n",
              " 'Apple charging me even i have apple care plus',\n",
              " 'Twitter withdraws blue verified badge from personal Twitter handle of Vice President of India, M Venkaiah Naidu: Office of Vice President',\n",
              " 'Need help getting covid certificate',\n",
              " \"Stop insulting us, says Karnataka minister as Amazon Canada sells 'Kannada flag bikini'\",\n",
              " 'Journalists can’t be arrested just for criticising govt: Supreme Court',\n",
              " 'Why don’t South Indians think everything north of them is north India?',\n",
              " 'Sub-African India: Much of Africa is richer than us, has better indicators, while we diminish',\n",
              " 'Gautam Gambhir Foundation Illegally Stocked Covid Medicine Fabiblu, High Court Told: Report',\n",
              " 'Despite being responsible for causing 35% of deaths in women each year, cardiovascular disease in women remains under-studied, under-diagnosed, and under-treated. To tackle these inequities, 17 experts from 11 countries have authored the first-ever global report on CVD in women.',\n",
              " '‘Seems like a manual for rape victims’: Bombay HC on Tarun Tejpal case verdict',\n",
              " 'Narendra Modi, Kamala Harris discuss nitty-gritty of U.S. offer on vaccine doses',\n",
              " 'Sports Management Graduates, Hows life after graduation?',\n",
              " 'Using higher doses of antibiotics in a bid to tackle the growing problem of drug resistance may end up strengthening certain bacteria, according to research released on Wednesday that highlights a previously unthought-of risk',\n",
              " 'Indian police seize 6 kilos of uranium, anti-terrorism probe launched!',\n",
              " 'Looking for minecraft players 😔',\n",
              " 'What Can the \"Blue Poop Challenge\" Tell You About Your Gut Health?',\n",
              " \"How is it that we love seeing the good in Western White nations and we never care about finding camraderie with other 'Darker Nations' (referring to Vijay Prashad's book by the same name)\",\n",
              " 'India’s Koo eyes opportunity in Nigeria after country bans Twitter indefinitely | Hindustan Times',\n",
              " 'Child Advice, Should my MIL Be Looking After my Child F/T',\n",
              " 'The ‘grief pandemic’ will torment Americans for years',\n",
              " 'Tesla begins recruiting for leadership, senior level roles in India: Report',\n",
              " 'What did you do when your Telco blocking certain app?',\n",
              " \"'We need to know': Covid vaccine trial launched for people with immune disorders - Millions of Americans have immune disorders, autoimmune diseases or have received an organ transplant\",\n",
              " 'Muslims near India’s Hindu temple allege pressure to vacate homes',\n",
              " 'Good Masks',\n",
              " 'Punjab Govt move to sell vaccine at a premium to private hospitals raises eyebrows',\n",
              " 'Poverty, stigma behind bodies floating in India’s Ganges River',\n",
              " 'KV students praise PM on Twitter for cancelling board exam - \"unwritten norm to share and retweet such decisions/announcements made by the either the Prime Minister or the Ministry of Education\"',\n",
              " 'What about free speech ?',\n",
              " 'Miriam Hospital seeking kids for Lyme Disease vaccine trial',\n",
              " 'US task force lowers recommended age to start colorectal cancer screening to 45',\n",
              " 'Girl kills self after her boyfriend attempts to rape her elder sister in Shahjahanpur',\n",
              " 'Needed help deciding HDD purchase. WD or SeaGate?',\n",
              " 'Cancer-causing chemical found in 78 sunscreen products',\n",
              " 'To mask or not to mask? With vaccines and new guidelines, the mask-faithful navigate a ‘weird gray area.’',\n",
              " \"What is Twitter Blue, Microblogging Social Media Twitter's New Subscription Based Service For Users\",\n",
              " 'Poor Americans More Likely to Have Respiratory Problems, Study Finds',\n",
              " '\"Second Wave ebbs in India\"',\n",
              " 'Serious question - Why/How are Hindus under threat in India? What are the fundamental problems with India’s left?',\n",
              " 'France to give third Covid vaccine dose to those with immunodeficiency',\n",
              " 'Zee Hindustan links video from Ecuador to ANM booked in UP for throwing vaccine-filled syringes - Alt News',\n",
              " \"Find Remedies for Virus Instead, Delhi HC Tells Doctors' Body on Plea Against Ramdev, Issues Notice to Yoga Guru\",\n",
              " 'Spotify Family premium plan - Can it be used among friends?',\n",
              " 'Registering a business of just one employee - me',\n",
              " 'Indian social media up in arms as Gucci sells ‘traditional kaftan’ for more than $2,100',\n",
              " \"Missing Since 2017, Hyderabad Techie Caught in Pakistan While Travelling to See 'Lover' Released\",\n",
              " 'Practo',\n",
              " 'A crisis of undiagnosed cancers is emerging in the pandemic’s second year',\n",
              " 'Full Page Advertisement of \"UP Model of Covid Control - Managing Crisis On Front Foot\" (ToI, Delhi Edition 04/06/21)',\n",
              " \"After VP Venkaiah Naidu, Twitter drops verified blue tick from RSS chief Mohan Bhagwat's handle\",\n",
              " 'Covid Taskforce, let’s get real on vaccines. It’s time for plan B',\n",
              " 'Hi everyone, i am an Artist from Punjab (India) and these are some of my best pencil works.',\n",
              " 'Priyanka Gandhi slams govt for declaring false victory over Covid | India News - Times of India',\n",
              " 'A dentist’s viselike pain signaled a nearly invisible disorder',\n",
              " 'Bangladesh outpaced India on per capita income, South Asia News',\n",
              " \"India opposes 'vaccine passport', Harsh Vardhan says idea 'discriminatory'\",\n",
              " 'India Covid variant may increase risk of hospital admission, early data suggests',\n",
              " \"Indian woman in desperate needs of funds to save her child's life who is in need of a liver transplant\",\n",
              " 'Kejriwal addresses PM Modi directly on halting the Door Step Delivery of Ration Scheme in Delhi again even after meeting all their demands',\n",
              " 'Priorities',\n",
              " '“Arbitrary and Irrational Policy!” Cartoon by Satwik Gade. The Hindu, 4 June 2021',\n",
              " 'A Freudian slip!',\n",
              " 'Buying on Facebook marketplace',\n",
              " 'Suggested iPad/tab for a visually impaired student',\n",
              " 'Public Information Officer appears for Board exam',\n",
              " 'The Indian Express: Racial slur case: After Punjab YouTuber incident, students demand inclusion of Northeast history in NCERT curriculum.',\n",
              " 'Netas slam BMC over 34 Twitter handles, Rs 2 crore/year cost to run them',\n",
              " \"Don't Kiss Your Chickens, The CDC Says In Salmonella Warning\",\n",
              " \"Advocates and property dealers of India, if the property tax records reflect the owner's name, will the RTC records also reflect the same name if bought post-construction?\",\n",
              " 'Serious question.....If someone is idealogically against this government and disagree and detest it to the core, should he/she prepare for Civil Services ?',\n",
              " 'Anyone here preparing for their college Entrance Exam (DU, MU, IP, etc.)',\n",
              " \"Breast cancer vaccine would be a 'game-changer.' Clinical trials are happening in Miami\",\n",
              " 'Gujarat | Ahmedabad Municipal Transport Service (AMTS) and the Bus Rapid Transit System (BRTS) to resume services from June 7. Buses to operate between 6 am & 8 pm with 50% capacity.',\n",
              " 'Not home, alone',\n",
              " 'Covid-19: Govt seals deal for 300 million vaccine doses from Biological-E',\n",
              " 'Searching for Jewel Orchid or Lightning Bolt Orchid',\n",
              " 'India now has the most vaccinated people in the world',\n",
              " \"India to Twitter: Comply with IT rules or face 'unintended consequences'\",\n",
              " 'Does reddit even need to comply with new social media rules.',\n",
              " 'Modi government spent Rs 2,250 crore on buying ventilators. Why aren’t they working?',\n",
              " \"'It's A Defective Plaint, This Appears To Be A Media Publicity Suit' Delhi High Court Reserves Order On Juhi Chawla's Suit Against Roll-Out Of 5G\",\n",
              " 'Reviews for ShifKarado moving services? Are there better ones?',\n",
              " \"LGBTQ+ icons of India. Kindly notice only publicly out celebs have been mentioned. No assumptions or suggestions about someone's sexuality or gender identity should be made in public forum without their consent as it takes away their agency of be in control of their own identity.\",\n",
              " \"BJP's Suvendu Adhikari, Brother Accused Of Stealing Relief Material, Case Filed\",\n",
              " 'The Delhi government’s scheme for doorstep delivery of ration has triggered another confrontation between the Centre and the AAP government after the lieutenant governor once again “stopped” the scheme',\n",
              " 'A joyously animated myth retells why painting is prayer to India’s Bhil people',\n",
              " \"What if Rajiv Gandhi wasn't assassinated?\",\n",
              " 'The Submission of Rana Amar Singh of Mewar to Prince Khurram (5 February 1615)',\n",
              " 'Plea In Supreme Court Seeks CBI/ NIA Investigation Into Hate Messages On Twitter',\n",
              " \"Why 'Men are trash' is a worthless slogan.\",\n",
              " 'Dengue May Double the Risk of Symptomatic COVID-19',\n",
              " 'Monopoly in Indian Economy',\n",
              " 'Nri that wants to get a bachelor in Veterinary Science, how do i do it?',\n",
              " 'Treating the immune system, treating schizophrenia?',\n",
              " \"'Central Vista will modernise India’s governance'\",\n",
              " 'Deadly Fungi Are the Newest Emerging Microbe Threat All Over the World',\n",
              " 'De-Modify Chrome Extension',\n",
              " 'How Flu’s Mutations Threaten Birds, Pigs and Humans',\n",
              " 'I want to leave india when i get the chance',\n",
              " \"'Everyone Here Is Alone': How Fear and Covid-19 Tore Apart One New Delhi Neighborhood - The New York Times\",\n",
              " 'India advances 20% ethanol-blending in petrol to 2025: PM Modi',\n",
              " 'Update',\n",
              " 'Tumor-promoting immune cells retrained to fight most aggressive type of brain cancer',\n",
              " 'Looking for late night call know each other kind of talk',\n",
              " 'Indians who left their bf/gf of different faith/caste to marry someone your parents approved of, how did life turn out? Are you happy?',\n",
              " 'Anand, AI and $1m: FIDE-approved Global Chess League aims big | Sports News,The Indian Express',\n",
              " \"Provident fund organisation's Twitter replies in Hindi to a person who complained about some info being in Hindi and couldn't understand it.\",\n",
              " 'Pertussis more common in Europe than previously thought',\n",
              " \"Brazil approves imports of India's Covaxin, Russia's Sputnik V covid vaccines\",\n",
              " 'Video of police personnel harassing Paras Singh in Arunachal Pradesh surfaces',\n",
              " 'Creating a personal finance wiki for low income earners. Looking for ideas!',\n",
              " 'odisha village , me , watercolour on paper , 22x14 inches , 2020',\n",
              " 'Serum Institute gets DCGI`s nod to manufacture Sputnik V in India',\n",
              " \"Canadian study fuels theory that Alzheimer's is auto-immune disorder, opening new treatment options\",\n",
              " 'UN Experts Ask India for Clarifications on Human Rights Violations Against 3 Kashmiri Men',\n",
              " 'Cabinet approves Model Tenancy Act: Security deposit to rent hike, all you need to know',\n",
              " 'Scientists found that the Mediterranean diet, rich in fish, vegetables, and olive oil, promotes healthy aging of the brain. It may also ward off the build up of harmful proteins in the brain, one of the main causes of Alzheimer’s disease — the most common form of dementia.',\n",
              " 'Government responds to Newslaundry article on Central Vista',\n",
              " '\"Every Journalist Entitled To Protection\": Supreme Court On Sedition',\n",
              " 'How to buy a duplex in Bhubaneswar?',\n",
              " 'Have seen posts that are talking about blackening white women for coloured roles. What about whitewashing characters that are supposed to be black/blue as per the scriptures and epics?',\n",
              " 'Rant - Why most of the upper caste people are so proud of themselves? Personal experience, not fact based.',\n",
              " 'Providing medications for free leads to greater adherence and cost-savings, study shows',\n",
              " 'Juntendo University research: Step forward towards treating hereditary deafness',\n",
              " 'Long working hours are leading to a rise in premature deaths, the W.H.O. says.',\n",
              " 'M.P. govt seeks advice from Baba Ramdev on combating COVID-19',\n",
              " 'Raghuram Rajan: Vaccine Unpreparedness a Devastating Failure of Govt, India Needs Vision to Recover',\n",
              " 'Oops he did it Again !!! Big up to the HM',\n",
              " 'Interesting business',\n",
              " 'Teens Are Rarely Hospitalized With Covid, but Cases Can Be Severe: Adolescents were hospitalized with Covid three times as often as with flu, researchers reported. Nearly one-third wound up in I.C.U.s',\n",
              " 'Bi-Weekly Books & Reading Discussion Thread',\n",
              " 'Pro-India Kashmiri politician tortured in custody, say UN experts | Human Rights News',\n",
              " 'Scientists Studying Cannabis Now Have Access To More Plants For Their Research',\n",
              " \"Experiment Uses CRISPR To Edit Genes While They Are Still Inside A Person's Body\",\n",
              " 'Plotting the end of Lyme disease',\n",
              " 'Eoin Morgan, Jos Buttler, Mccullum in hot water for tweets allegedly mocking Indian accent',\n",
              " \"Who was the person behind all those vodafone ads back in the 2010's?\",\n",
              " 'Safe dating apps for 18 year olds',\n",
              " 'Heartbreaking! 😭😭😭 (OC)',\n",
              " 'Crowd-funding helps airlifting of Odisha youth to Chennai',\n",
              " 'Help / Advice regarding college needed',\n",
              " 'How do I give justice 3.5 million people who died of covid 19?',\n",
              " 'Just watched the movie VICE on American VP DICK CHENEY',\n",
              " 'Has India reached the fastest inoculation rate?',\n",
              " \"They're keeping their masks on. Their reasons extend beyond their health.\",\n",
              " 'South Asia Should Pay Attention to Its Standout Star',\n",
              " 'Study confirms longer-term lung damage after COVID-19 - NIHR Oxford Biomedical Research Centre',\n",
              " 'Currently I will give my 120% to politics: Saayoni Ghosh',\n",
              " 'Now there’s an LED bulb to fight bacteria. Question is, do we really need it [2019]',\n",
              " 'Diagnosed with Anxiety Disorder and officially on medication now. Want to share my story if it helps others. Female, 22, Mumbai. Feel free to reach out to me if you want to talk about anything.',\n",
              " '8th month in row GST mop-up tops Rs 1 lakh cr; lockdown impact muted',\n",
              " 'Report: Dogs can detect COVID-19 in human sweat',\n",
              " 'Unknown number calling me over 50 times?',\n",
              " 'Scams, Memes And Crazy Money: Inside India’s Buzzing Crypto WhatsApp Groups',\n",
              " 'Muslims To Vacate Homes Around UP’s Gorakhnath Temple for Security',\n",
              " 'Indian LGBTQIA+ interested in film and media analysis please DM.',\n",
              " \"Pollen Allergies Are Getting Worse, and It's All Our Own Fault\",\n",
              " \"'I’m Scared to Tell You I Saved a Muslim': Hindu Man Who Rescued His Friend in Delhi Riots\",\n",
              " 'Delhi High Court dismisses the lawsuit filed by actor-environmentalist Juhi Chawla against the setting up of 5G wireless networks in the country. The Court order said that the plaintiffs abused the process of law, imposes a fine of Rs 20 lakhs',\n",
              " 'Help us reach out to unprivileged families to provide them food and essentials during the pandemic ( Details in of donation in the comments)',\n",
              " \"Can I turn of this message? If yes then how? It's getting very annoying. Idea sim card.\",\n",
              " 'Health Benefits of Walking a Dog',\n",
              " 'Reporter, Truth-Seeker, Family Man: The Siddique Kappan You Don’t Know',\n",
              " 'IT sector folks - please help me understand wtf is happening at my job.',\n",
              " 'A little late to the party but here are some high res images. makes very good phone wallpaper imo | 22 Degree Halo | Hyderabad | Kaleidoscope Effect.',\n",
              " 'Tamil Nadu : Doctors see a deadly mix in second wave',\n",
              " 'Did anyone else noticed sudden rise in Biker girls in India????',\n",
              " \"The official r/LGBTIndia subreddit 's Discord server is holding several events for Pride month.\",\n",
              " 'Huge numbers of Bats in Bengaluru',\n",
              " 'Seems an apt saying for today’s times',\n",
              " 'India clears decks for long-pending mega project to build six new-gen stealth submarines | India News - Times of India',\n",
              " 'Could you spend 1,000 hours outside this year? How to take the challenge',\n",
              " '**Hello everyone me and my teammate have discovered a new Potential Planetary Nebula in space we took photograph of it and named it Tilak Nebula :)**',\n",
              " '8700 people died on railway tracks in india in 2020. One of the craziest stats which no one cares about in india.',\n",
              " 'Bollywood actor sues Indian government over 5G conspiracy theories, court hearing descends into chaos',\n",
              " 'On World Environment Day, India’s top ten concerns',\n",
              " 'Being an Unusual Creator from India',\n",
              " \"Constitution Doesn't Envisage Courts To Be Silent Spectators When Executive Policies Infringe Citizens' Rights: SC In COVID Vaccine Case\",\n",
              " 'Everyone who completed their graduation from tier 1 College how is your life right now?',\n",
              " \"Covid worries India's pregnant and unprotected mothers-to-be\",\n",
              " \"HIV/AIDS vaccine: Why don't we have one after 37 years, when we have several for COVID-19 after a few months?\",\n",
              " 'Gautam Gambhir Foundation found guilty of unauthorisedly stocking, giving Fabiflu drug to COVID-19 patients: Drug Controller to Delhi HC',\n",
              " 'Are Plant Milks Good for You?',\n",
              " 'Is anyone working at two full-time jobs simultaneously because of the lockdown? How does it feel?',\n",
              " \"Daily 30-minute workout 'may not benefit everyone'\",\n",
              " 'Parents urged to catch kids up on other shots ahead of Covid-19 vaccine rollout',\n",
              " 'Little Iran in Kishanganj Bihar. Very interesting Indian community that very few of you must have heard about. I wanted to share their unique and fascinating culture.',\n",
              " 'Dual vaccine could prevent COVID-19 and flu',\n",
              " 'Covid-19 vaccine certificate',\n",
              " 'Makers of Modern Dalit History with Sudarshan Ramabadran and Guru Prakash',\n",
              " 'Any resemblance to any person, living with a dead conscience or totally dead, is purely coincidental. The fierce cartoonist,however, is @MANJULtoons',\n",
              " 'Millions taking immunosuppressive medications at risk for reduced response to COVID-19 vaccines',\n",
              " 'Kerala : Kerala policeman attacked while on COVID -19 duty continues to be critical',\n",
              " 'GDP tanks, Modi completes 7 years, but where is Arnab Goswami? | TV Newsance Episode 134',\n",
              " 'It has been tough for me',\n",
              " 'Petrol prices cross Rs 95/litre in Delhi, Rs 101/litre in Mumbai',\n",
              " 'Delhi Eases Lockdown, Metro to Run with 50% Capacity, Malls to Open on Odd-even Basis',\n",
              " 'Defeated BJP nominee renominated to RS, but no action against turncoat LS MPs: TMC',\n",
              " \"Researchers identify proteins that predict future dementia, Alzheimer's risk. Large study of plasma proteins and dementia illuminates the biology of dementia and may help lead to treatments.\",\n",
              " 'Kerala retains top spot, Bihar at the bottom in SDG India Index',\n",
              " 'Why We Feel Exhausted And Irritable And Lack Focus During The Pandemic',\n",
              " 'Explained: What is the Delta variant of Covid-19, and why is it a concern?',\n",
              " 'List of Indian states and union territories by Human Development Index',\n",
              " 'Google AI tool can help patients identify skin conditions',\n",
              " 'Justices reject Johnson & Johnson appeal of $2B talc verdict',\n",
              " 'Any part time job suggestions for recently turning 18M ?',\n",
              " 'India has always been poorer than most of Africa.',\n",
              " 'What is the Arora caste like?',\n",
              " 'I’m a 23yo from the UK, and am trying to understand the cause of disagreements between Hindus and Muslims in India.',\n",
              " 'How Long Covid Affects The Families Of Sufferers, Too',\n",
              " 'All the single moms',\n",
              " 'Modi & Xi Capable of Solving Indo-China Issues: Russia’s Putin',\n",
              " '\"Cannot intervene merely because we think policy is bad:\" Bombay High Court refuses to entertain plea challenging cancellation of Class 10 exam',\n",
              " \"Cowin isn't sending me OTP for the last 2 days. Am I the only one facing this problem ?\",\n",
              " \"Aldous Huxley - India's Emerging Pseudo Historical Tendencies. 1945\",\n",
              " 'Long working hours killing 745,000 people a year, study finds',\n",
              " 'Trashy stuff by both the channel and the conman',\n",
              " 'EcoGuardians: Vivek Menon on Establishing Wildlife Trust of India, the Current Status of India’s Wildlife and More',\n",
              " 'Banished for bleeding: Tribal Indian women get better period huts',\n",
              " 'During the pandemic, telehealth helped faraway family members attend seniors’ medical visits. Doctors want that to stay.',\n",
              " \"Bihar family hides mom's Covid infection from villagers, but feeds 600 at her funeral feast\",\n",
              " \"'TecHalli': Anand Mahindra finally got a new name for 'Silicon Valley' Bengaluru\",\n",
              " 'No link between milk and increased cholesterol according to new study of 2 million people. Further analysis of other large studies also suggests that those who regularly consumed milk had a 14% lower risk of coronary heart disease.',\n",
              " 'Long-haul covid-19 renews push to expand palliative care',\n",
              " 'Congress Backers Should Stop Eating If Inflation Haunting Them, says Senior BJP Leader in Madhya Pradesh',\n",
              " 'MP BJP leader holds birthday party in Indore Covid-19 vaccine centre',\n",
              " 'Early study shows AstraZeneca vaccine users suffered from more blood clots; More research needed',\n",
              " 'Catch them young to sing Heil to the chief',\n",
              " '\"Haven\\'t Exams been cancelled?\"',\n",
              " '‘You’re in Nagaland, electricity goes off even in India’: TV anchor Rahul Kanwal’s faux pas',\n",
              " \"An alternative view - Looking at the current condition of our country, instead of fleeing abroad, we can try to fix the country for ourselves and for those who can't afford to flee.\",\n",
              " \"Bengaluru boys shine in PM Modi's impromptu interaction with CBSE students\",\n",
              " 'Tick Season: Experts Warn About Lyme Disease Threat',\n",
              " '\"We have no medical expertise:\" Supreme Court issues notice on plea by Asaram Bapu seeking interim bail for medical treatment at Ayurveda centre',\n",
              " 'Kerala : Palliative care hospital closed after three COVID deaths',\n",
              " 'Don’t converse in Malayalam, stick to Hindi, English: Delhi govt hospital to nursing staff',\n",
              " \"Faulty ventilators will have to be replaced; won't allow experiments on Covid patients: Bombay High Court\",\n",
              " 'Need to find out the name of the flower in our garden that seems to bloom about once a year. Any botanists here?',\n",
              " '\"Stripped naked, hung upside down\": UN Rapporteurs on Waheed Para\\'s detention',\n",
              " 'How ASHA workers are tackling vaccine hesitancy in rural Maharashtra | Ground Report',\n",
              " 'UP Police acts tough on its men, over 500 cops transferred after liquor tragedies',\n",
              " 'Problems with Amazon UPI',\n",
              " 'Are majority of young indians idiots? Or is it a result of encouraging pseudo scientific stupidity?',\n",
              " 'Are you able to access this subreddit without vpn?',\n",
              " 'Schools should allow peanuts but stock up on EpiPens, study says',\n",
              " '94% Indian Students Want To Study Abroad This Year: Report',\n",
              " \"Muslims Living Around Gorakhnath Temple Worried By Govt 'Pressure' to Sell Their Homes: The government said it is seeking residents' consent to take over their land in order to increase security around the temple\",\n",
              " 'Caught On Camera: Delhi Man, Out To Buy Cake For Father, Stabbed To Death',\n",
              " 'The Print now accepts USD',\n",
              " \"DCP reacts as Ekta Kapoor calls rape allegations against Pearl V Puri false: 'There is proof against him'\",\n",
              " 'Jehan Daruvala gets his second podium of the season in F2',\n",
              " 'Someone From Russia Found Vaccine Maker In Himachal, Centre Failed: High Court',\n",
              " 'Pankaj Tripathi joins Akshay Kumar in Oh My God 2; Filming begins in September',\n",
              " 'Got 1st dose of Astrazenrca Covishield - My experience/ side effects',\n",
              " 'Congress on Twitter - Love is love. Happy #PrideMonth India ❤️🏳️\\u200d🌈',\n",
              " 'Experts predict 185 million people vaccinated in the US by September but worry about variant in India',\n",
              " 'Who do you think can lead Punjab for the future?',\n",
              " 'India ordering unapproved vaccines as per Euronews, any idea which they are referring to?',\n",
              " 'The Ordinary Citizen',\n",
              " 'Need advice regarding sharing personal data. Anyone here using a virtual phone number service?',\n",
              " 'US health agencies will decide if COVID-19 booster shots are needed – not vaccine companies',\n",
              " 'People who eat a plant-based dinner could reduce their risk of heart disease by ten percent',\n",
              " \"No story, Family drama was also inspired loosely from breaking bad.... it's like they wrote the script in a day.\",\n",
              " 'Jobless since 1.5 year.',\n",
              " 'Tarang: A small original magazine where we celebrate Indian culture, music, history and ideas. We hope you like it',\n",
              " 'Is there any reliable organisation which oversees the \"Organ Donation\" procedures?',\n",
              " \"Genuine Question: what is WION's deal exactly?\",\n",
              " 'Tooth loss may affect ability to carry out everyday tasks',\n",
              " 'How your memory works — and why forgetting is totally OK: « Neuroscientist Lisa Genova digs into two types of memory failures we regularly experience -- and reassures us that forgetting is totally normal. »',\n",
              " 'Please suggest some activities to keep \"not so elderly\" parents engaged in their post retirement life.',\n",
              " \"Humans probably can't live longer than 150 years, new research finds\",\n",
              " 'BJP IT Cell Insider Interview (2018 video)',\n",
              " \"Modi govt's LPG scam: From May 2020, in the middle of lockdown, the Narendra govt sneakily stopped paying LPG subsidy to eligible customers.\",\n",
              " 'BJP leader Rakesh Pandita shot by terrorists in Pulwama',\n",
              " 'IMA paints itself into a corner [2020]',\n",
              " 'India clears ₹43,000 crore project to build 6 high-tech submarines',\n",
              " 'Immunity Boost in the Gut: Microbiota Are \"Crucial Factors\" Affecting Immune Responses to Vaccinations',\n",
              " '\"Be Self Reliant...\": Rahul Gandhi Jabs Centre Over Twitter Blue Tick Row',\n",
              " 'Made Khandvi today. Never had this before but I think I came pretty close to how it tastes',\n",
              " 'How Britain Stole $45 Trillion from India with Trains | Empires of Dirt',\n",
              " 'Delhi Govt Regulations Suggest Gag on Info About Managing Black Fungus',\n",
              " 'Non-vegetarians who married or moved-in with vegetarians and vegetarians who married non-vegetarians, how has your diet/eating-habits changed since you started living together?',\n",
              " 'Middle schoolers will soon be able to get Pfizer vaccine in US (age 12-15)',\n",
              " 'Analgesic Effect of Dual Injection Technique for the Erector Spinae Plane Block in Beating Heart Coronary By-Pass Surgeries',\n",
              " \"'Security Deposit Limited To 2 Months For Residence; Enhanced Rent After Tenancy Period' : Key Features Of Draft Model Tenancy Act\",\n",
              " '[Question] How Paypenny offer higher exchange rate than Transferwise and international exchange rate when transfer money to India?',\n",
              " 'Covid vaccine: Serum Institute of India seeks indemnity',\n",
              " 'Kolkata Police recovers 51 crude bombs near BJP office',\n",
              " 'Covid 2nd wave led to business loss of Rs 15 lakh crore in 2 months: CAIT',\n",
              " 'Sonu Sood Replies To Huma Qureshi’s Comment About Him Being The Next PM Of India',\n",
              " 'Six months on, farmers at Delhi’s borders are here to stay',\n",
              " 'Suggestions to choose IDBI AGM-Grade C position',\n",
              " \"Friend's Family is being harrased by the nexus of Police and Goons.\",\n",
              " 'Flawed Vaccination Policy, Centre Batting For Manufacturers: WB Counsel & Fmr. Addl. SG',\n",
              " 'The Longtime Anti-Vaxxers Caving to the COVID Jab',\n",
              " 'Watch | Vaccination Policy Flawed, Centre Batting for Manufacturers: Former Addl Solicitor General',\n",
              " \"West Bengal: Vaccination certificate to have CM Mamata's photo instead of PM Modi\",\n",
              " 'Female entrepreneur turns ‘trash into treasure’ in India’s Assam | Environment News',\n",
              " 'FAQ: Where Do Countries Stand on Mixing Vaccines? Is It Safe?',\n",
              " 'Hello everyone just want your help',\n",
              " 'TIL of Rukhmabai and Phulamanibai cases where two girls were married off at the age of 11 and Phulamani Bai died from intercourse. Bal Gangadhar Tilak supported the husbands in both cases and even blamed PhulamaniBai for having defective organs and dangerous freak of nature.',\n",
              " 'I live alone in a metro city and I have developed some irrational fears over the years. Advice needed.',\n",
              " \"BJP's Suvendu Adhikari, Brother Accused of Stealing Relief Material, Case Filed\",\n",
              " \"Fawad Khan's Zindagi Gulzar Hai returns to TV. When and where to watch: Fawad Khan and Sanam Saeed-starrer Zindagi Gulzar Hai is all set to return to Indian television. The show will air on Zee TV from June 5.\",\n",
              " \"A King's Poem From Exile: Lagta Nahi Hai Dil Mera\",\n",
              " \"TMC reshuffle: MP Abhishek Banerjee made national general secretary, actor-turned-politician Saayoni Ghosh in-charge of the party's youth wing.\",\n",
              " 'India orders unapproved COVID shots as it reels from devastating second wave-Business News , Firstpost',\n",
              " 'Need suggestions for buying an acoustic guitar in India',\n",
              " \"K'taka Dy CM Ashwath Narayan accused of prioritising temple priests in vaccination drive\",\n",
              " 'Mobiles under 15k',\n",
              " 'NRIs of r/india, I am a 21 y/o (M) in India and I want to go out for my further education. Need your Insights!',\n",
              " 'US students who took Covaxin, Sputnik V, asked to get re-vaccinated',\n",
              " 'After Bengal drubbing, BJP aims to corner Mamata Banerjee at the national level',\n",
              " 'In Surprise Move, PM Modi Joins CBSE Session With Students, Parents',\n",
              " 'We’re Not Ready for the Next Pandemic',\n",
              " 'Alapan Bandyopadhyay Fiasco: Now, Central Vigilance Commission clearance mandatory before employing retired bureaucrats',\n",
              " \"India may get Pfizer's vaccine against Covid-19 in July\",\n",
              " 'India orders 300m COVID shots as court demands vaccine ‘roadmap’ | Coronavirus pandemic News',\n",
              " 'Ramblings of a guy with fascist family',\n",
              " \"KYC needed but I am a foreigner and don't reside in India\",\n",
              " 'Mamata replaces PM Modi on vaccine certificate in Bengal; Minister explains why | Latest News India',\n",
              " 'Covid test positivity rate dips to 5.78%',\n",
              " 'Why BMI is a flawed health standard, especially for people of color',\n",
              " \"NITI Aayog SDG index: 'Bihar ranks top from bottom'; Lalu Prasad Yadav takes swipe at Nitish Kumar\",\n",
              " 'China reports world’s first possible human case of H10N3 bird flu',\n",
              " 'AITA for not going to my best friends house to help him when his whole family contracted Corona',\n",
              " \"Doesn't anyone has any issues with the inflated prices of swiggy/zomato.\",\n",
              " \"I tried to find the answer on google...but can't find it.\",\n",
              " 'Back the Blues! The dream of watching India play in FIFA WC is on.',\n",
              " 'Twitter Given \"One Last Notice\" In Government\\'s Warning On Digital Rules',\n",
              " \"Wife won't move with me to abroad if I take my parents along.\",\n",
              " '44% of older millennials already have a chronic health condition. Here’s what that means for their futures',\n",
              " 'Karnataka doctor seriously injured in attack by aggrieved family, four arrested',\n",
              " 'Amid Protests, Lakshadweep Admin Issues New Order to Deploy Govt Officials in Fishing Boats',\n",
              " 'How to negotiate salary for first job and things to look out for ?',\n",
              " 'Are the cracks beginning to show?',\n",
              " 'You want facts?Here are facts of at least 20 countries where Covid mortality shot up dramatically after mass Vaccination I know many people who became gravely ill&died after getting the Vaccines.I have filed a PIL seeking data of morbidity among Vaccinees: Prashant Bhushan',\n",
              " 'Friedrich Nietzsche was influenced by Manusmriti and the Vedic caste system.',\n",
              " 'Vaccine Policy.',\n",
              " 'PM Narendra Modi led, we controlled second wave of Covid-19 in a very short time: Amit Shah',\n",
              " 'Passport query',\n",
              " 'I did something today and im feeling very proud of it! [very very long post alert]',\n",
              " 'Overwork Killed More Than 745,000 People In A Year, WHO Finds : NPR',\n",
              " 'Asthma in toddlers linked to in-utero exposure to air pollution, study finds | Air pollution',\n",
              " 'Headphones',\n",
              " 'How opt-out organ donation could affect U.S. waiting lists',\n",
              " 'Living with Lyme: a deeper look beyond Lyme and into other deadly infections tick carry',\n",
              " 'Ovarian cancer screening trial did not save lives',\n",
              " \"New York Yankees' breakthrough infections demonstrate the Covid-19 vaccine works. Here's why\",\n",
              " 'Delhi HC to Centre: Release Rs 14 crore to Panacea Biotec if it gets nod for manufacturing Sputnik V vaccines',\n",
              " 'China String of Pearls strategy to encircle India',\n",
              " 'Amid pandemic, chairman Mukesh Ambani drew no salary in FY21: Reliance',\n",
              " \"HAL AMCA Explained | India's 5th Generation Fighter Jet\",\n",
              " 'Covishield ‘more effective’ than Covaxin',\n",
              " \"It's official! Kerala gets to keep ‘KSRTC’ acronym for road transport, Karnataka loses case after long battle\",\n",
              " 'After getting Covid, until how long after testing negative should I look out for mucormycosis?',\n",
              " 'Positivity drive? Modi government’s Covid response is a lesson on how not to communicate in a crisis',\n",
              " 'Modi’s bulldozing of parliament shows him as the architect of a Hindu Taliban',\n",
              " 'Number of times Modi made us stand in line?',\n",
              " 'Are there even any good indian artist, traditional or digital? All i find are shitty ones.',\n",
              " \"Mumbai to Be Home to Netflix's First Live Action Post-Production Facility Globally\",\n",
              " '594 doctors succumbed due to COVID-19 in second wave of virus: IMA',\n",
              " 'I recommend the immunity booster',\n",
              " \"Modi govt's 'schizophrenia' led to Covid ravage, says Nobel laureate Amartya Sen\",\n",
              " 'Im forced to take my 2nd PU exams again while others get a pass!',\n",
              " 'Ramdev’s statements on allopathy fall within parameters of freedom of speech: Delhi HC',\n",
              " 'Corona Kavach Policy - Online',\n",
              " 'Looking for a show/documentary about India (similar to Netflix “High on the Hog”',\n",
              " 'Nine corporate hospital groups cumulatively bought 60.57 lakh doses of the total 1.20 crore doses of vaccines procured by private hospitals',\n",
              " 'Dsyphoria ruining studies..anyone else with the similar experiences? What should I do',\n",
              " 'Karnataka government to take action against Google regarding recent ugliest language row',\n",
              " 'Forming Government With Ajit Pawar Was A Mistake: Devendra Fadnavis',\n",
              " 'Cabinet approves Model Tenancy Act; govt says it will help overhaul legal framework',\n",
              " '3 AAP MLAs join Congress ahead of 2022 Assembly polls',\n",
              " \"Delhi High Court’s hearing in Juhi Chawla's case was interrupted multiple times by a person who kept singing songs from #JuhiChawla’s movies, even after being muted many times. Bench directed that the person be identified & contempt notice be issued #5G #JuhiChawla #DelhiHC\",\n",
              " \"Kerala's Money Heist: A highway robbery worth crores and the BJP link\",\n",
              " 'A world first for Fiji Hindi as universal Girmitiya language script trialed in Auckland',\n",
              " \"For an Already Diminished NHRC, Justice Mishra's Appointment Spells Further Doom\",\n",
              " 'India reports 1.34 lakh new Covid-19 cases, 2,887 deaths in last 24 hours',\n",
              " 'From Mustard To Soya And Sunflower, Edible Oil Prices Have Skyrocketed To Highest In A Decade',\n",
              " 'Folks with multiple personal and work email, how do you manage them on your phone?',\n",
              " 'Lawyers of r/India, please help me understand whether my employer can create their own rules and regulations about the notice period?',\n",
              " 'SC Quashes Sedition Case Against Vinod Dua, Says Every Journalist Entitled to Protection',\n",
              " 'Masks and social distancing may still be needed for people with compromised immunity: New studies are showing some autoimmune diseases and treatments may weaken the effect of the coronavirus vaccines, raising alarms for patients with mask rollbacks.',\n",
              " 'Suspicious of 2nd dose of Covishield for under 45 on cowin.',\n",
              " 'Climate change will worsen the India-China rivalry',\n",
              " 'Research Reveals Potential Treatment to Prevent Obesity-Driven Liver Damage',\n",
              " 'Karnataka: Second such brutal attack on doctor on duty within a span of 24 hours',\n",
              " 'Have to go abroad in 2 months, got vaccinated by showing Aadhaar card ID proof. What can I do from here? Please help',\n",
              " 'Juhi Chawla and Govinda testing anti-5G Kits in 1990s [OC]',\n",
              " 'Here !',\n",
              " 'I drew our Majesty as an \"Aam\" aadmi.',\n",
              " 'The sun and the sky today in Hyderabad',\n",
              " 'Remembering Shahid Ali Khan: A Lifelong Benefactor of Urdu',\n",
              " \"Just another data scam? I've been getting this messages for couple of days\",\n",
              " 'Need study related guidance URGENTLY.',\n",
              " \"Kerala BJP gave RS 2.5 lakh to withdraw nomination': Former BSP man alleges\",\n",
              " 'FSC Second Year students, how will you get admissions in foreign universities ?',\n",
              " \"Serum Institute gets DCGI's nod to manufacture Covid vaccine Sputnik V in India: Report\",\n",
              " 'App for Automatically Registering for Covid Vaccine Slot',\n",
              " 'What researchers found when they rehydrated 200-year-old feces',\n",
              " '\"Fake cop\" accused of polygamy held under anti-conversion law in Uttar Pradesh | Lucknow News - Times of India',\n",
              " \"what's this bug called?\",\n",
              " \"India Should Learn From China, Coercive Population Policies Don't Work: NGO\",\n",
              " '‘Our toughest challenge’: BJP worried as opposition CMs rally, Modi’s image takes a hit',\n",
              " 'Is it possible to hate religion but not religious people?',\n",
              " 'First cut by Manjul',\n",
              " 'When Your Job Harms Your Mental Health',\n",
              " '\"Failure To Administer Second Dose Would Frustrate The Very Exercise Of Administering Initial Dose\": Delhi High Court',\n",
              " 'Court cannot teach ethics to people: Madras High Court quashes criminal defamation case for cartoon published on Facebook',\n",
              " 'VANVAS -II , me , Acrylic on canvas , 48x72 inches , 2021',\n",
              " '‘Thrashed’ for Phoning Delhi Police Helpline, Muslim Man Needs Spinal Surgery | Wasim Khan had simply wanted the police to break up a fight in his neighbourhood. But when he was taken to the police station to give a statement, he was allegedly beaten with lathis.',\n",
              " 'America Has a Drinking Problem',\n",
              " 'How common is infidelity in India?',\n",
              " 'Source: ScoopWhoop Unscripted. The healthcare system of villages are devastated.',\n",
              " 'Change approach of talking to a bhakt or BJP supporter',\n",
              " 'Kejriwal Health Model vs Vijayan Health Model',\n",
              " 'Mumbai Crime: 16-year-old girl gangraped in Malvani, four held',\n",
              " 'Why Sushant Singh trends in Twitter almost everyday?',\n",
              " 'How to sucide without pain?',\n",
              " 'The Latest Coronavirus Comes From Dogs',\n",
              " 'Integrated MBA at IIM',\n",
              " \"Biological E's COVID Vaccine: Govt To Pay Rs 1500 Crore Advance To Procure 30 Crore Doses\",\n",
              " 'Why a lawyer in Kashmir is asking for a constitutional amendment from 1979 to be enforced: The amendment restricted preventive detention to two months. Four decades later, it is still to be notified',\n",
              " 'Resort/Establishment - To regain my health and work from - Mountains/Beaches',\n",
              " 'The curious turn in UP politics with Yogi-Modi stand-off',\n",
              " \"Elon Musk's Tesla Has Begun Hiring Senior Executives And Team Leads In India\",\n",
              " 'Any non right wing chat rooms on Clubhouse app?',\n",
              " 'Appeal for Fetroja (Cefiderocol) in India',\n",
              " 'Flu virus became less diverse, simplifying task of making flu shots - STAT',\n",
              " 'Despite the Indian travel ban from Canada, Indians are entering Canada through Ethiopia.',\n",
              " 'Is there something in which you disagree with Dr Babasaheb Ambedkar?',\n",
              " \"The darkest days of my life: Reporting on India's brutal second Covid wave\",\n",
              " 'Triple negative breast cancer more deadly in African Americans',\n",
              " '\"Rs 20,000 Crore On Central Vista Amid Pandemic?\": Centre Dispels \"Myths\"',\n",
              " 'The Seven Year Itch',\n",
              " '2020 Fatality Data Show Increased Traffic Fatalities During Pandemic',\n",
              " 'Covid Killed His Father. Then Came $1 Million in Medical Bills: Insurers and Congress wrote rules to protect coronavirus patients, but the bills came anyway, leaving some mired in debt',\n",
              " \"Today's TOI in Goa.\",\n",
              " \"Biden announces first 25 million vaccine doses going to India, others facing 'surges'\",\n",
              " 'New platform for propoganda',\n",
              " 'Graphic Novel: The Bloody History of Bhindranwale and Op Bluestar',\n",
              " 'No service tax for takeaway orders from restaurants, hotels: Madras high court | Chennai News',\n",
              " 'They’re Vaccinated and Keeping Their Masks On, Maybe Forever',\n",
              " 'Scores of farmers, including BKU leader Rakesh Tikait, continue to protest outside Tohana PS - The Times of India',\n",
              " '\"You Seem Overjoyed\": PM Modi Joins CBSE Session With Students, Parents',\n",
              " 'More than 2,000 Uttarakhand cops test positive, 90% of them got both doses',\n",
              " 'Chaand Sitaare Parody ft. Lala Ramdev & Coronil | Srushti Tawade + Official PeeingHuman',\n",
              " 'VERIFY: You can donate plasma after getting COVID-19 vaccine',\n",
              " 'Being a student in India is Brutal.',\n",
              " 'RSS leaders lose Twitter blue verified badges',\n",
              " 'Upcoming Netflix anime \"Record Of Ragnarok\" urged not to run by upset Hindus as it Trivialises Lord Shiva.TLDR at bottom',\n",
              " 'India and the others: Vaccine Procurement Masterstroke',\n",
              " 'COVID-19 can infect penis tissue and could lead to erectile dysfunction - study',\n",
              " 'learn korean in hindi easy way',\n",
              " 'With all this talk on Aliens, are we alone or do we have visitors from another solar system?',\n",
              " 'How can we increase empathy among Indians?',\n",
              " \"Gurgaon Non-Profit's Oxygen Centre Vandalised By Goons, Says Director\",\n",
              " 'Different Physical Activity ‘Cocktails’ Have Similar Health Benefits - \"You can still have a healthy movement profile as long as you move around a lot through the day.\"',\n",
              " 'Jammu and Kashmir journalist booked for post on 2006 tragedy',\n",
              " 'After year with virtually no flu, scientists worry the next season could be a bad one',\n",
              " 'Why do Doctors get beat up in India again and again?',\n",
              " \"How can I go to USA and do Master's with a low GPA?\",\n",
              " 'Ohio State University: Using nanobodies to block a tick-borne bacterial infection',\n",
              " 'Am I the A**hole?',\n",
              " 'Why is violence against doctors rising in our country?',\n",
              " \"South India's N440K COVID variant 15 times more lethal\",\n",
              " \"Hot Meals And Hospital Beds: How Volunteers Are Helping India's COVID Patients: NPR\",\n",
              " \"Delhi Govt Wants SC to Close 10 'Outdated' Thermal Power Plants Near the City\",\n",
              " \"Fauci says pandemic exposed 'undeniable effects of racism'\",\n",
              " 'Caste discrimination cause for concern among US organisations',\n",
              " 'Tamil Nadu : 10 more deaths in Virudhunagar',\n",
              " 'majultoons have received notice from law enforcement authority.',\n",
              " 'Human Trafficking Allegations Thrust Caste Into Spotlight For American Hindus : NPR',\n",
              " 'Please Help My Friend',\n",
              " 'Online translator?',\n",
              " \"Machine Learning in Industry vs Academia( Master's)\",\n",
              " 'SII and BB’s bad math - Rema Nagarajan in Staying Alive, Edit Page, India, TOI',\n",
              " 'Freedom of speech suppressed for minority',\n",
              " 'String Exposed His Hypocrisy By Himself!!',\n",
              " 'COVID-19 tests breach three crore mark in Karnataka',\n",
              " \"What frogs in hot water can teach us about thinking again: « Why are humans so slow to react to looming crises, like a forewarned pandemic or a warming planet? It's because we're reluctant to rethink, say organizational psychologist Adam Grant. »\",\n",
              " 'Supreme Court quashes sedition case against journalist Vinod Dua',\n",
              " 'Why Sleep Deprivation Kills',\n",
              " \"Ramdev: Icon of 'New India'\",\n",
              " 'India needs tiny Lakshadweep to counter China. So why alienate it?',\n",
              " 'Old records shed new light on smallpox outbreaks in 1700s',\n",
              " 'Stop the spread | Manjultoons',\n",
              " 'Profits Amid COVID Are Vastly Different For Safety-Net Vs. Wealthy Hospitals',\n",
              " 'Someone registered on Cowin using my phone number.',\n",
              " '6 men arrested for gang rape of 16-yr-old girl in Mumbai',\n",
              " 'Google Shows Kannada As \"Ugliest\" Language, Apologises After Outrage',\n",
              " 'Darbhanga Medical College: State of infrastructure',\n",
              " 'Which countries other than India are charging their citizens/ residents for COVID vaccines.',\n",
              " '\"Why Are You Carrying Torch?\" Court To Doctors\\' Body On Ramdev\\'s Remarks',\n",
              " 'June 5, 1981—The First Report of AIDS in the U.S.',\n",
              " \"Why Prashant Kishor's Next Job Matters A Whole Lot\",\n",
              " \"Justice Arun Mishra is new NHRC chief: First non-CJI to hold post; ex-SC judge had called Modi 'versatile genius'-India News , Firstpost\",\n",
              " 'New study confirms strong link between COVID and this brain disease',\n",
              " 'Iranis and Irani cafes in India. A unique culture.',\n",
              " 'Mughal Emperors and the Imperial Hunt',\n",
              " 'Chanhudaro: Bead-Makers of the Indus Valley',\n",
              " 'So I am going to quit my job finally.',\n",
              " 'Hot Baths Just As Good As Spinning for Blood Pressure, Study Suggests',\n",
              " 'Twitter has informed MANJULtoons that it has received a request from Indian law enforcement regarding his Twitter account, claiming that the content violates the law(s) of India.',\n",
              " 'What are some underrated universities in India for tech?',\n",
              " 'Covid update: India records lowest fatalities in 35 days, over 1.34 lakh new cases 24 hours',\n",
              " 'Not only petrol but cooking oil prices have skyrocketed! WTF ?!',\n",
              " 'What happened to all the money collected in the name of rivers by Sadhguru in 2017?',\n",
              " 'Any Cure For DMD Disease In India?',\n",
              " 'CBSE, Microsoft Join Hands To Introduce Coding, Data Science In Schools',\n",
              " 'What is your favourite chocolate?',\n",
              " 'Why Lakshadweep Administration proposals have upset its locals?',\n",
              " 'Taking more steps daily may lead to a longer life',\n",
              " 'Punjab Government Under Fire Over Decision To Sell Covaxin To Hospitals',\n",
              " 'How safe is Algotrader for Indian Investment',\n",
              " 'sometimes i feel india deserves a pandemic even worse than this',\n",
              " 'Violence against doctors',\n",
              " 'what are the fruits of india’s education culture?',\n",
              " 'Protesting Madhya Pradesh Junior Doctors Get Hostel Eviction Notices',\n",
              " 'The next pandemic is already here – why our world leaders should take notice of antimicrobial resistance',\n",
              " 'UMD awarded funds to head off tick-borne infection before it begins',\n",
              " 'Covaxin vaccine: Brazil health regulator finally gives green signal to Covaxin imports | India News - Times of India',\n",
              " 'How do I find my birth parents?',\n",
              " 'India eases norms for clearing foreign-made COVID-19 vaccines',\n",
              " 'Congress releases seven-point ‘chargesheet’ against Modi',\n",
              " 'Seventeen volunteers let this worm live inside them to help defeat a dangerous disease | Science | AAAS',\n",
              " 'Inmates should have access to private therapist of their choice: Delhi High Court in pleas filed by Natasha Narwal, Devangana Kalita',\n",
              " 'Texas enabled the worst carbon monoxide poisoning catastrophe in recent U.S. history',\n",
              " 'NIH launches clinical trial of universal influenza vaccine candidate',\n",
              " 'Violence against doctors!!!',\n",
              " \"India's forex reserves may have exceeded $600 billion milestone\",\n",
              " 'Any alcohol causes damage to the brain, study finds',\n",
              " 'In the ongoing ‘War’ against the virus, going ‘Malang’ on the streets of Bandra cost dearly to two actors who have been booked under sections 188, 34 IPC by Bandra PStn. We request all Mumbaikars to avoid unnecessary ‘Heropanti’ which can compromise on safety against COVID19.',\n",
              " 'How can mumbai be made slums free?',\n",
              " 'Google Introducing People Cards',\n",
              " 'Is there a memorial - even an online one - for all the victims of COVID-19 in India?',\n",
              " 'Why COVID-19 patients have low oxygen levels; new infection mechanism holds answers [details]',\n",
              " '‘Emerging superpower’ to ‘failed state’: How perceptions of India changed drastically under Modi',\n",
              " 'Looking to buy a printer between Rs. 3000-5000 (BW/Colour, both), please suggest some good devices!',\n",
              " 'Delhi High Court issues notice to CBSE in a plea seeking clarity on evaluation scheme for private class X students',\n",
              " '(Kolkata) Where and how can I donate used clothes (I Have A LOT TO GIVE)?',\n",
              " 'I want to move to peaceful city.',\n",
              " 'Friend not returning money lended',\n",
              " '[Opinion] Media will try to paint every other crime in communal color until UP elections.',\n",
              " 'Indians join lawsuit challenging Covid-related travel ban to US',\n",
              " 'Sustainable Development Goals India Index 2020-2021 statewise ranking',\n",
              " 'IISc Bangalore: Birthing an Idea that was Ahead of its Time',\n",
              " '\"India and Israel Inflame Facebook’s Fights With Its Own Employees.\" The social network wrongly bowed to government demands to take down content in the countries, employees said, in more signs of internal dissent.',\n",
              " 'Delhi government hospital tells nurses not to speak in Malayalam',\n",
              " 'Corona warrior who helped cremate 1,300 bodies in Nagpur succumbs to Covid-19, associate says govt did not help',\n",
              " 'Family man is an abomination all accounts.',\n",
              " '(OC) ratio of petrol to crude oil price/liter. Delhi-blue , mumbai -yellow, chennai- orange, kolkata-green.',\n",
              " 'Indian courts are a joke and equally responsible for pandemic',\n",
              " \"Total 42,000 vaccines were given to private hospitals which we've taken back from them. Chief Minister immediately took cognisance of the incident and the decision was nixed. Those who have paid extra price for vaccine will get reimbursement: Punjab Health Min Balbir Singh Sidhu\",\n",
              " 'Need help in coming up with a suitable analysis.',\n",
              " 'Art by Shaky Lines',\n",
              " 'The picture on our currency',\n",
              " 'BBC News - India orders 300 million unapproved Covid jabs',\n",
              " \"Skepticism Of Science In A Pandemic Isn't New. It Helped Fuel The AIDS Crisis\",\n",
              " 'Real Water, a premium bottled water, recalled amid death and liver illnesses',\n",
              " 'Question about covishield',\n",
              " 'Long working hours increasing deaths from heart disease and stroke: WHO, ILO',\n",
              " '[The Swaddle] Why do Indians normalise Domestic Violence?',\n",
              " \"Vaccines at 'Warp Speed': The Difference Between the US and India\",\n",
              " 'A repurposed TB vaccine shows early promise against diseases like diabetes and MS: The effects of the BCG shot on infections and autoimmune diseases is beginning to make sense',\n",
              " \"Did you get paid during lockdown if you didn't work from home but were still employed?\",\n",
              " 'Questions about censorship on Amazon Prime',\n",
              " 'Mass cremations, day and night',\n",
              " 'Whats up with mostly north indian focused serials, to be obsessive about garba?',\n",
              " 'West Bengal: BJP leader Suvendu Adhikari, brother booked for stealing relief material | The complainant alleged that the BJP leaders used central armed forces in their security in the theft',\n",
              " 'Asking for suggestions on earphones under INR. 1800',\n",
              " \"Gorakhpur DM threatens scribe to slap NSA for report on Muslims’ 'eviction' from land near Gorakhnath temple\",\n",
              " 'Sudarshan News cherry-picks name of Muslim accused for tampering with COVID test in UP’s Basti',\n",
              " 'Lakshadweep: An isolated island that became a melting pot of cultures',\n",
              " 'Tamil Nadu : TN woman’s alleged murder brought to light as parents defy katta panchayat',\n",
              " 'US to swiftly boost global vaccine sharing, Biden announces',\n",
              " 'Traveling to USA from India now.',\n",
              " 'Red ink on deposit slip',\n",
              " 'Does the Indian Constitution need to be modified for more effective laws in India?',\n",
              " \"Why the SC's Vinod Dua Verdict May Still Not Guarantee Sufficient Protection to Journalists\",\n",
              " 'News Live: India a power against climate change, PM Modi says on World Environment Day',\n",
              " 'Centre responsible if PMCares Fund ventilators cause deaths: Bombay HC',\n",
              " 'Is studying in Europe/Germany worth it?',\n",
              " \"'Never wanted to be the CM': Uddhav opens up on BJP-Sena rift in Maharashtra\",\n",
              " 'Help Heena educate',\n",
              " \"India-born engineer Subashini Iyer oversees backbone of Nasa's mission to Moon and beyond\",\n",
              " 'Weight gain Help.....I am currently at 108 pounds.height is 5ft5inch...dont eat meat but eggs are Fine... fast metabolism fml...Want to move to atleast 145...but one weight class at a time...Shoot any advice you have for me ( diet,exercise,rest)..I am a beginner though... Would love the input please',\n",
              " 'How COVID-19 is changing our expectations for other vaccines',\n",
              " 'I failed.',\n",
              " 'Boosting body heat production: a new approach for treating obesity',\n",
              " 'How are others(who moved to their hometown because of the pandemic) doing?',\n",
              " 'How do you as a non- Muslim deal with Viral anti-Muslim fake whatsapp forwards and other social media posts?',\n",
              " 'Digital divide will exclude marginalised from jabs: Supreme Court | India News - Times of India',\n",
              " 'Giving food pantry clients choices – and gently nudging them toward nutritious foods – can lead to healthier diets',\n",
              " 'Nearly 3,000 Madhya Pradesh Doctors Resign After Court Says Strike \"Illegal\"',\n",
              " 'Hundreds Reported Abnormal Menstruation After Exposure to Tear Gas, Study Finds',\n",
              " 'In Gujarat, a crisis of epidemic proportions',\n",
              " 'Modi’s bulldozing of parliament shows him as the architect of a Hindu Taliban.',\n",
              " 'UN Security Council Expansion Candidates',\n",
              " 'Nice.....',\n",
              " 'Fmr RAW Chief Dulat, Fmr Army Chief Malik: Govt Wrong to Use Pension Threat to Gag Retired Officers',\n",
              " 'Maharaja Ranjit Singh ( The lion of Punjab), Nanakshahi Silver Rupee coin with beautiful ornaments, 1884 VS frozen year, actual year 1885 VS which corresponds to 1828 AD, Amritsar mint',\n",
              " 'Doctors investigate mystery brain disease in Canada',\n",
              " 'Coffee, tea and a token for Covid heroes — why Kenya sent food aid to India',\n",
              " 'Children Now Account For 22% of New U.S. COVID Cases. Why Is That?',\n",
              " 'People of Lakshadweep to observe 12-hour hunger strike on June 7',\n",
              " 'Busting myth/rumours related to covid vaccines. Can anyone help?',\n",
              " 'World’s Most Expensive Electric Car Revealed – Say Hello To Rimac Nevera!',\n",
              " 'RSV child respiratory illness spreading in metro Atlanta',\n",
              " \"Haryana: Several Mahapanchayats Held to Support Those Arrested for 'Lynching' Muslim Man\",\n",
              " 'Is There A Way To Get Vaccination Scheduled Faster? My Dad suffers from comorbidities and he has to go out to work from day after tomorrow. My younger brother suffers from a lung disease.',\n",
              " '(OFF-TOPIC) Anyone here taken Unacademy Plus Subscription for Bank exams?',\n",
              " 'r/India T2 Diabetics: Anyone uses CGM? Anyone willing to share their findings with (south) Indian food?',\n",
              " \"BJP MP Hema Malini: World Environment Day is celebrated on June 5. The world is facing pandemic, & environmental impacts can be seen. At this time, not only on June 5 but every other day till we defeat COVID, I request all 'Brijwasis' to perform havan at home with their families\",\n",
              " 'Bolivia outlines vaccine import needs in use of WTO flexibilities to tackle pandemic',\n",
              " 'B’desh Pic Passed off as UP Man ‘Failed UPSC Due to Reservation’',\n",
              " 'Looking for a graphic designer for a freelancing project. PM me',\n",
              " 'Beaumont psychiatric hospital in Dearborn to be run by company with controversial past. Beaumont is partnering on a new psychiatric hospital with Universal Health Services, which paid $122 million to settle whistleblower lawsuits',\n",
              " 'From teaching English and science to rolling beedis for ₹1,000 a week',\n",
              " \"Branded 'vaccine jihadi', Aligarh nurse says she didn't give fake shots, calls it conspiracy\",\n",
              " 'Kerala : Nedumkandam custodial death: 5 Kerala cops and a Home Guard to be dismissed',\n",
              " 'Increase in the prices of essential items',\n",
              " 'Giving sample for PCR test HURT a lot!',\n",
              " 'Doctors attacked...',\n",
              " 'This research seems very controversial but how true is it? Number 2 particularly!!!',\n",
              " 'How do I become more smart and intelligent ?',\n",
              " 'India rose to challenges posed by Covid-19, fought patiently: Amit Shah | India News',\n",
              " 'Climate Change Made Indian Ocean cyclones more deadly and intense',\n",
              " 'Indian software engineers after age 40(15+ YOE)?',\n",
              " 'Patreon getting geoblocked by Airtel?',\n",
              " 'India and Israel Inflame Facebook’s Fights With Its Own Employees',\n",
              " 'Oci without grandma’s proof of birth?',\n",
              " 'Relief for parents? No hard evidence of link between tech and teenage mental health',\n",
              " 'Covid Epidemic has been eye opener for India .',\n",
              " 'Schools forcing students to retweet and post their videos thanking Modi and Pokhriyal for cancelling CBSE 12th board exams.',\n",
              " 'Has anyone ever charged a case against restaurant for overcharging than MRP?',\n",
              " 'Anyone know where to watch Eurosport channel live online?',\n",
              " 'Indian Artists Are Finally Making Money Selling Their Work as NFTs',\n",
              " 'Asia - Arms Exports (SIPRI trend indicator values)',\n",
              " 'Is it preferable to buy a plot of land in the current scenario?',\n",
              " 'India suffers worst recession in 74 yrs',\n",
              " \"Delhi Child Rights Body Refutes NCPCR's Allegations on Shelter Homes Associated With Harsh Mander: Mander and other rights activists had earlier said that the NCPCR’s raids were politically motivated and a part of the Centre’s witch-hunt against its critics\",\n",
              " 'The private and government offices will be allowed to function with 100% staff from June 7: Gujarat Information Department',\n",
              " 'Good night folks. Please check under your bed before sleeping.',\n",
              " 'A glimpse of how TMC remains popular in West Bengal',\n",
              " 'Not just Ahmednagar, other districts in Maharashtra also report spike in Covid cases among kids in April-May',\n",
              " 'Former bureaucrats write to PM Modi, express concern over Lakshadweep row',\n",
              " 'Modi government issuing national health ID stealthily without informed consent',\n",
              " 'Rant about a movie slamming colourism',\n",
              " 'Eating two mushrooms a day could lower cancer risk by 45 per cent, study finds. Experts recommend a pinch of salt - Mushrooms contain high levels of antioxidants, and chemical components believed to strengthen the immune system. A study touts their anti-cancer properties',\n",
              " 'Taken Out of School & Married: Meet India’s COVID-19 Child Brides',\n",
              " 'Centre’s vaccine policy prima facie arbitrary, irrational: Supreme Court',\n",
              " 'Airtel is still looting customers for calling on 1860... numbers',\n",
              " 'Is the Economy going to collapse post covid?',\n",
              " 'The India Covid patients whose lonely deaths went viral',\n",
              " 'Childhood obesity, high blood pressure, cholesterol linked to poor cognitive performance in mid-30s and beyond',\n",
              " 'New Delhi ‘will take all steps to bring back Mehul Choksi’',\n",
              " 'Why paying pension to madrasa teachers: Kerala HC asks state',\n",
              " 'Cleric arrested for raping minor girl inside mosque',\n",
              " \"Temperature checks are gone from some theme parks and elsewhere. Health experts say that's just fine\",\n",
              " 'Clear sky. Aqi 41 [OC]',\n",
              " 'Mizoram becomes the 1st state to give industry status to sports',\n",
              " 'Television actor Pearl V Puri arrested in Mumbai for allegedly raping minor girl',\n",
              " 'Why did you stop the move of home delivery of ration to poor people Modi Sir- Aravind Kejriwal',\n",
              " 'Uttarakhand tags black fungus an epidemic',\n",
              " \"There's a downside to returning to pre-COVID-19 hygiene habits — colds and sore throats are back, doctors say\",\n",
              " 'Statistical data collection',\n",
              " 'The Best Time of Day to Exercise for Metabolic Health',\n",
              " 'How does electricity board earn money when there is so much electricity theft ?',\n",
              " \"5 Big Points From Supreme Court's Order On Government's Vaccine Policy\",\n",
              " 'Covid has made it harder to be a health-care worker. Now, many are thinking of quitting',\n",
              " \"Will RSS Be Able to Defuse Brewing Modi vs Yogi Tensions in Uttar Pradesh?: Adityanath's future in the Bharatiya Janata Party may be decided at the ongoing RSS meeting\",\n",
              " 'How an Indian scientist couple worked to trace origin, course of COVID-19',\n",
              " 'Vaccinating Digital India: A 360 degree exploration of human rights concerns | IFF',\n",
              " \"Kerala Man's 'The World is Going Upside Down' Photo Wins Top Prize\",\n",
              " 'Alzheimer’s drug sparks emotional battle as FDA nears deadline on whether to approve: If cleared, the drug would be the first for slowing cognitive decline, but critics say the data does not prove it works',\n",
              " \"Aadhaar card update: Here's how to get Aadhaar paperless e-KYC document for offline verification\",\n",
              " 'Employers, insurers push to make virtual visits regular care',\n",
              " 'Extra cut by Manjul',\n",
              " 'Apple previews powerful software updates designed for people with disabilities',\n",
              " 'India’s COVID Crisis Is Making Oxygen Scammers Rich',\n",
              " \"India's True Coronavirus Death Toll Could Be 1.6 Million: Report\",\n",
              " 'Norovirus resurges as pandemic restrictions end. Can COVID precautions help?',\n",
              " 'Three unidentified terrorists shot dead Municipal Councillor of Tral Rakesh Pandita Somnath this evening. He was rushed to hospital where he succumbed to injuries: Kashmir IG Vijay Kumar',\n",
              " 'SC asks Centre to furnish data on purchase history of covid vaccines',\n",
              " 'Tavleen Singh writes: Accountability lies with Amit Shah. Yet, he was not seen or heard',\n",
              " 'Request for helping out a colleague (amd a wonderful human being)',\n",
              " 'Diabetes prevention program supports addition of 4.4 quality-adjusted years to participant average lifespan',\n",
              " 'Please recommend a mattress for my grandparents',\n",
              " \"This is the freedom in Kashmir; You can't even condone an accidental tragedy.\",\n",
              " '2 Teachers of Top Chennai School Accused of Sexual Abuse Suspended',\n",
              " 'Government gives final notice to Twitter for compliance with new IT rules',\n",
              " \"Bing Censors Image Search for 'Tank Man' Even in India, doesn't even bother to show anything.\",\n",
              " \"Coronavirus: Yale doctor warns that upcoming Tokyo Olympics ‘looks like a superspreader event'\",\n",
              " 'Does anyone know of any independent newsletters similar to The Economist that I can find for India news?',\n",
              " 'This a question to all Indian devs in the industry /Technical Recruiters by a eng. Student....Old Answer',\n",
              " 'Canadians need to boost their omega-3 intake',\n",
              " \"Why Google told searchers Kannada was the 'ugliest language in India'\",\n",
              " \"A Death, an Audio Leak on Paid Tweets and a Resignation, Yogi's Social Media Team in Disarray\",\n",
              " 'Watching Sweet Tooth, I was a bit taken by the lack of stereotypes with these two Indian characters. Very uncommon in Hollywood tbh.',\n",
              " '\"Underbelly of criminal law practice:\" Delhi HC orders probe after accused, lawyer collude to secure interim bail on forged COVID-19 certificate',\n",
              " \"June 04, 2021 : India patiently fought this wave under PM Modi's leadership, Amit Shah\",\n",
              " 'Premium Shaadi?',\n",
              " '\"Mr. Mann Ki Baat Prime Minister, You Want To Finish Me? Can You Do It?\" | Mamata Banerjee To PM Modi',\n",
              " 'SoftBank to back Flipkart',\n",
              " 'Indian Express Podcast: How the Indian economy has steadily worsened under the Modi government',\n",
              " 'Army Recruiters Help Overweight Applicants Lose Pounds',\n",
              " \"It's 2021 and India is still doing brown face instead of actually hiring darker skin actors.\",\n",
              " 'Modi, state government, destiny. Survey asked Indians who they blame for Covid deaths',\n",
              " 'Why Venkaiah Naidu Briefly Lost Twitter’s Blue Badge for His Personal Account',\n",
              " \"'I believe that India is very lucky, it may be a problem for other countries': VVS Laxman lauds India's talent pool\",\n",
              " 'Will I be able to get into a top b-school? (India or abroad)',\n",
              " \"A New Coronavirus May Be Making People Sick. And It's Coming From Dogs : Goats and Soda : NPR\",\n",
              " 'T20 World Cup set to be moved out of India, ICC intimated internally',\n",
              " \"Why Uttar Pradesh, Madhya Pradesh, and Rajasthan aren't divided yet?\",\n",
              " 'J&K Police Book Journalist for WhatsApp Status on 2006 Wular Lake Tragedy',\n",
              " \"Mucormycosis: The 'black fungus' maiming Covid patients in India\",\n",
              " 'RBI’s money printing is flogging the same dead idea',\n",
              " \"Let's facilitate India's first Dogecoin transaction\",\n",
              " 'The article gives a clear understanding of the events happening in Lakshadweep, P.P. Mohammed Faizal is the sole MP of the union territory',\n",
              " 'POTS Diagnosis Offers Hope And Treatment For People With Long-Haul COVID-19',\n",
              " \"'There is no weakness at all': Sunil Gavaskar calls current Indian team the 'best ever'\",\n",
              " 'How to bring back interest in studies after one has lost interest in it or has been away from it for few years?',\n",
              " 'Pro-Khalistan slogans raised at Golden Temple on 37th anniversary of Operation Bluestar',\n",
              " 'Uttar Pradesh: Woman accuses doctors of gang rape during surgery',\n",
              " '15 French volunteers leave cave after 40 days without daylight or clocks: « They had no contact with the outside world, no updates on the pandemic nor any communications with friends or family. »',\n",
              " 'Gujarat Model :Wanted Dead or Alive',\n",
              " \"Modi govt's vaccination strategy a dangerous cocktail of blunders and bloopers, alleges Congress\",\n",
              " 'Tamil Nadu : Madras HC restrains cops from arresting AIADMK leader Manikandan till June 9',\n",
              " 'Sunrise at the muttukadu backwaters, Chennai - Nikon D500 2956 x 1971',\n",
              " \"After complaint against Malayalam use, Delhi's GB Pant hospital directs nurses to communicate only in Hindi, English\",\n",
              " 'Delhi high court issues summons to Ramdev on DMA plea over false info about Coronil kit | Delhi News - Times of India',\n",
              " 'View: Serum Institute and Bharat Biotech’s bad math',\n",
              " 'Director - IIT Delhi shared a link which fuels more speculation about the origin of the deadly Corona virus!',\n",
              " \"Mucormycosis: the black fungus hitting India's Covid patients\",\n",
              " 'How to know whether a lawyer is trustworthy or not??',\n",
              " 'World Health Assembly recommends reinforcement of measures to protect mental health during public health emergencies',\n",
              " 'Regular shavers of India - Switch to single blade DE razor | Skin friendly, Environment friendly and extremely cost effective. (details in comments)',\n",
              " 'India plans to remake Lakshadweep for tourism',\n",
              " 'Obamacare Gave More Breast Cancer Survivors Access to Breast Reconstruction',\n",
              " 'Can someone evaluate my profile for MBA? Do I have a chance of getting a call to any IIM even if I get a 100 percentile score?',\n",
              " 'The particles, gases and organisms in wildfire smoke — and what they mean for your health',\n",
              " \"Meet mohit, the 10 year old boy who feeds on dog's milk\",\n",
              " 'Six dead, 50 hospitalised after consuming contaminated water in Surat',\n",
              " 'IEM Kolkata Director shamelessly promotes paid vaccination campaign. Increases standard price from ~800 to 1000, calls it \"subsidized\".',\n",
              " 'A mysterious, devastating brain disorder is afflicting dozens in one Canadian province',\n",
              " 'Update on my last post. Need some advice. I dont understand what to do.',\n",
              " 'Post-COVID change must include reconsideration of unpaid caregiving',\n",
              " '[Serious] Cool/fun things to buy that are available on Amazon?',\n",
              " 'Why Indian Courts Should Reject Traceability Obligations',\n",
              " 'Bleeding and clotting events following COVID vaccination in India',\n",
              " 'Need suggestion to achieve my dream.',\n",
              " 'Mumbai: TV actor arrested for ‘raping’ five-year-old girl',\n",
              " 'Centre Responsible if Faulty Ventilators Procured Through PM CARES Cause Deaths: Bombay HC',\n",
              " \"Make your village 'corona free', win Rs 50 lakh: Maharashtra govt\",\n",
              " '\"Skin Checks\" Save Lives — Here\\'s How to Do One on Yourself',\n",
              " 'Rajasthan Man Goes to Bathroom to Freshen Up, Spots 8-Feet-Long Cobra Snake on Toilet Seat',\n",
              " 'GI and Liver Diseases Linked to Alcohol Spiked During Pandemic',\n",
              " \"Bhumi Pednekar's brownface in the movie Bala which ironically slams colorism and talks about accepting oneself\",\n",
              " \"How Kerala's Healthcare System Saved Me When Delhi's Failed\",\n",
              " 'I am raising funds for Transgender Community - Covid19 Pandemic Relief second wave in India Help Transgender community in their fight against Covid19 Pandemic',\n",
              " \"Do you guys remember Tinkle? It's a long shot, but does anyone have issue #441 (Apr/May 2000)? There's a 20 year old riddle that I'm trying to solve.\",\n",
              " 'Hemkunt Foundation Is Now The Target Of The Indian Right',\n",
              " 'What is ‘meat disgust’ and why do we all experience it?',\n",
              " 'Scales: Over 50,000 Indians die of snakebite every year. We know how to save these lives—but producing the cure is easier said than done.',\n",
              " 'Highest unemployment by states: Delhi: 45.6% , Haryana:29.1%, TN: 28% Punducherry: 24% , Kerala: 23.5%',\n",
              " 'Biden administration is throwing its support behind efforts to waive intellectual property protections for COVID-19 vaccines',\n",
              " 'The CoWIN website should automatically schedule vaccination appointments',\n",
              " 'Babesiosis, a dangerous tick-borne infection that attacks red blood cells, appears to be a growing problem',\n",
              " 'Need career advice: Pursuing CS engineering (first year)',\n",
              " 'Is DigiBoxx cloud subscription worth it?',\n",
              " \"'Disturbing developments in Lakshadweep’: Former bureaucrats write to PM Modi\",\n",
              " \"As long as we have scums like these, we'll never progress...\",\n",
              " 'Fanboy sings Juhi Chawla movie songs during hearing of plea by Chawla against 5G rollout; Delhi High Court calls for contempt of court',\n",
              " 'Gaming in India',\n",
              " \"A Matter of Particulate Concern: Exposure to Crop Burning Is Making Adolescent Girls' Heights Shorter\",\n",
              " 'Google to use patient data to develop healthcare algorithms for hospital chain: « That data will be used to build programs that could inform medical decisions made by doctors. »',\n",
              " 'Godi Media in a nutshell',\n",
              " 'Can Ltte be regarded as a terrorist organization?',\n",
              " \"Need some information about an NGO - SOS Children's Villages\",\n",
              " 'The people who can’t go numb at the dentist’s',\n",
              " 'Where should I report a child that has been orphaned and needs support?',\n",
              " 'Pfizer, Moderna vaccines found to be 94 percent effective in health workers in CDC\\'s largest such study; \"The researchers estimated that those who were fully vaccinated were 94 percent less likely to develop symptomatic COVID-19\"',\n",
              " 'Uttarakhand | Former Chief Minister Trivendra Singh Rawat has written a letter to Chief Minister Tirath Singh Rawat for the resumption of Chardham Yatra and adventure tourism in state in a phased manner.',\n",
              " \"Desperate for treatment, Covid 'long haulers' push for 9/11-style health registry: center on creating data troves that so-called “long-haulers” could access to make informed decisions about their care, allow medical providers to study the coronavirus’ still-mysterious long-term effects\",\n",
              " 'PM has no individual powers under NDMA. Notice to Alapan Bandyopadhyay questionable',\n",
              " 'Carcinogen found in some popular sunscreens and after-sun products including Neutrogena, tests show',\n",
              " 'In Kashmir, Police Treat Pandemic As A Law-And-Order Problem',\n",
              " 'Air quality–related health damages of food [Domingo et al., 2021]',\n",
              " 'Alcohol may have immediate effect on atrial fibrillation risk, events: Study is first to track objective, real-time alcohol consumption and heart rhythm disturbance',\n",
              " 'Big Hospital Chains Get Covid Aid, and Buy Up Competitors: The pandemic barely dented the financial outlook for some major networks, which continued to acquire weaker hospitals and ailing doctors’ practices. Critics worry consolidation leads to higher prices for medical care',\n",
              " 'Government sends ‘ one last notice’ to Twitter to adopt new IT Rules',\n",
              " '“Twitter storm seeks chapter on the northeast in NCERT books.” The Hindu, 05 June 2021',\n",
              " 'Three sanitation workers die while cleaning manhole in Karnataka',\n",
              " 'Looking for suggestions for moving abroad',\n",
              " \"What's moving the market?\",\n",
              " 'Why did the right wing see political violence in bengal as hindu vs muslim?',\n",
              " \"'We need to know': Covid vaccine trial launched for people with immune disorders\",\n",
              " 'Third Wave Could be as Severe As Second Wave, Fatality Would be Less, Likely to Last For 98 Days: Report',\n",
              " '\"If Pizza Can Be Delivered At Home, Why Not Ration\": Arvind Kejriwal',\n",
              " 'Hi Everyone, My village drilled multiple borewells to dispose drainage water.',\n",
              " \"They recovered from Covid, only to die of 'black fungus.' Here's what we know\",\n",
              " 'ComicTropes discuss when Raj Comics illegally used Superman, Batman and Spider-Man!',\n",
              " 'Hemkund Foundation: Our Oxygen Centre at Gurgaon was destroyed forcefully today and our belongings were damanged. To continue helping everyone in need, we need access to 20,000 sq. ft. land at or near the City Centre of Gurgaon',\n",
              " 'What would be the cheapest country to reroute a package through? (i.e, the cheapest shipping from the country to India)',\n",
              " 'Telangana: Covid-19 positive woman infects daughter-in-law by embracing her forcibly | Hyderabad News',\n",
              " 'Last notice, penal action will follow: Govt tells Twitter',\n",
              " 'Tarun Tejpal and Curious Case of the Coerced Confession',\n",
              " 'Business ideas for my mom with an investment of 5 lacs?',\n",
              " \"I don't feel there is no alternate leadership in BJP here. I will resign the day party high command asks me to quit: Karnataka Chief Minister BS Yediyurappa\",\n",
              " 'As UP burns in anger at Yogi govt, BJP worried about 2022 polls',\n",
              " 'Scientists have used photoreceptive bacterial proteins, introduced with a viral vector, to replace photoreceptor cells lost to the degenerative eye disease, retinitis pigmentosa in one man, allowing him to see for the first time in 40 years',\n",
              " 'Why do centrists support BeeJePee / and coalition?',\n",
              " 'Why are people reporting irregular menstruation after the COVID-19 shot? Experts explain.',\n",
              " 'Telehealth appointments one step closer to becoming a permanent option for Del. patients',\n",
              " 'Kerala : Lulu’s Yusuffali pays Rs 1 cr blood money to save Indian man on death row',\n",
              " 'Display in Indian section at American museum of natural history, NY.',\n",
              " 'Deve Gowda and the accidental prime ministers',\n",
              " 'Sloth economy free-falling off the GDP ladder. Cartoon by Vasini. The Hindu, 3 June 2021',\n",
              " 'Delhi, Mumbai ease lockdowns as India COVID numbers fall | Coronavirus pandemic News',\n",
              " \"I just like to write random thoughts that came to my mind, here two. I don't know if it's good or not but I like them. Hope you guys will like them. Please give your feedbacks\",\n",
              " '[AgedLikeMilk] New IT Rules protect rights of users, were framed because social media giants failed to do so: IT and law minister Ravi Shankar Prasad | India News - Times of India',\n",
              " 'Bengaluru: Cop celebrates birthday, promotion at station, throws Covid norms to wind | Bengaluru News - Times of India',\n",
              " 'talking about depression with Indian parents',\n",
              " 'HC dismisses Juhi Chawla’s suit against 5G, imposes cost of Rs 20 Lakh',\n",
              " '3rd June 2021. Deccan Herald Speak Out. Anurag Thakur, MoS Finance.',\n",
              " 'New headache for Kerala BJP: audio tape on pre-poll ‘cash deal’ with ally',\n",
              " 'Indian history',\n",
              " 'Humans Could Live Up to 150 Years, New Research Suggests',\n",
              " 'You can get COVID vaccine while taking seasonal allergy medicine',\n",
              " 'The FDA Has Approved An Obesity Drug That Helped Some People Drop Weight By 15%',\n",
              " \"Why did India's Economy Decline so much in 1979?\",\n",
              " 'The government causing too many waves!',\n",
              " 'Depresed indian girl been force to marry',\n",
              " 'Understanding regulatory approval for non-invasive Covid screening',\n",
              " 'Epigenetic mechanism can explain how chemicals in plastic may cause lower IQ levels',\n",
              " 'June 3rd 2021, Deccan Herald speak out: Anurag Thakur',\n",
              " 'Scientists alarmed by COVID’s diabetes link, particularly in children',\n",
              " 'India orders 300 million unapproved Covid jabs',\n",
              " 'India to formally kick off long-pending mega submarine-building project',\n",
              " 'Assam Rifles Major held for ‘killing’ civilian in Manipur.',\n",
              " 'Content writers, How is your life working as a writer?',\n",
              " 'Study with us online, experience the new way of staying productive with everyone.',\n",
              " 'Explained: Why edible oils are costlier, and the way forward',\n",
              " 'How would you reform the education system?',\n",
              " 'How to apply for medical aid?',\n",
              " 'The huge public health challenge around premature deaths from smoking, obesity and alcohol',\n",
              " 'A weak distribution of a certain intestinal bacteria raises the risk of egg allergies, a team of researchers said, meaning that a change in diet could help prevent serious allergic reactions',\n",
              " 'How to apply for a remote job after 10 years of freelancing?',\n",
              " 'Do Indians living in Gulf Arab countries hate living in a Muslim country and their cultures due to rising anti-Islam sentiments amongst Indians these days?',\n",
              " \"After Seven Years of Modi and Shah, the RSS's Fall from Grace is Total and Complete\",\n",
              " 'What is the best sector which has the best work-life balance?',\n",
              " 'Can a Tufts Professor Finally Stop Lyme Disease?',\n",
              " 'Views on Sahara Samay',\n",
              " 'NYS Legislature Considering Bill Allowing Pharmacies To Administer All Vaccines Recommended By CDC',\n",
              " 'Can anyone suggest best headsets available online for virtual meetings?',\n",
              " '‘Thrashed’ for Phoning Delhi Police Helpline, Muslim Man Needs Spinal Surgery',\n",
              " 'Eco-Friendly House',\n",
              " 'G20 leaders boost support of the Access to COVID-19 Tools (ACT) Accelerator but urgent and immediate action is needed to maintain momentum',\n",
              " 'Impact of Model tenancy Act on TAX collection and rent prices. Big win for India - Homeowners can no longer hide the income.',\n",
              " 'The great Indian tax paradox: Can the tax mop-up keep its pace in the current fiscal?',\n",
              " 'Telangana: Covid-19 positive woman infects daughter-in-law by embracing her forcibly | Hyderabad News - Times of India',\n",
              " 'South Indian men more secure of their masculinity?',\n",
              " 'Not Just Adults, Pfizer Coming in India for Kids Too, Says AIIMS Chief Amid 3rd Wave Scare',\n",
              " 'University of Edinburgh scientists successfully test drug which can kill cancer without damaging nearby healthy tissue',\n",
              " 'News This Week (2021-06-06)',\n",
              " 'Government of India gives final notice to Twitter for compliance with new IT rules.',\n",
              " 'Missing For 48 Hours, Rapper MC Kode’s Friends Keep Hope Alive',\n",
              " 'PM Imran Khan: Pakistan is ready to restart talks with arch-rival India if Delhi provides a roadmap towards restoring the previous status of the disputed Himalayan region of Kashmir',\n",
              " 'Link Your Provident Fund With Aadhaar Card Or Else You Will Lose Money (Find Out How?)',\n",
              " 'Timing of Exposure to Secondhand Smoke and ADHD Symptoms in Children',\n",
              " 'Malayali engineer dies fighting for ISIS in Libya?',\n",
              " 'Wrong vaccine name in my vaccination certificate - Advise please',\n",
              " \"'Deliberate Blow to Constitution': Activists Condemn Justice Arun Mishra's Naming as NHRC Chief\",\n",
              " \"Can't nobody --SUE THE GOVERNMENT-- for what's happening in india?\",\n",
              " 'Nearly 3000 Madhya Pradesh Doctors resign after Court says strike Illegal.',\n",
              " 'Helping Deprived with Oxygen on the Go',\n",
              " 'Need Suggestions about a good laptop in budget.',\n",
              " \"Covid: BJP applauds Yogi on managing pandemic 'effectively'\",\n",
              " 'Distracted nurse gives woman 6 doses of COVID vaccine in a single shot',\n",
              " 'How Humanity Gave Itself an Extra Life',\n",
              " 'For Delta Variant, Need Shorter Gap Between Vaccine Doses: Lancet Study',\n",
              " 'Govt issues ‘one last notice’ to Twitter to comply with IT rules',\n",
              " '48-year-old cleric arrested for raping minor girl in Delhi mosque',\n",
              " 'Woman arrested in MP’s Rajgarh for sexual assault on 16-yr-old boy',\n",
              " 'Healthcare in India',\n",
              " 'Captcha Breach: How Techies Are Gaming the System for Vaccine Slot',\n",
              " 'Alok Rai writes: What does the government’s endorsement of Baba Ramdev mean?',\n",
              " \"The real fight for the National Archives of India is to change it: Nehru's core template for recording history was unity, Modi’s is uniformity. But history, at best, is an 'argument'\",\n",
              " 'Mehul Choksi Has To Be Deported To India, Dominica Government Tells Court',\n",
              " 'Nuances of importing Indian motorbike in Germany',\n",
              " 'BJP leader Rishi Sharma, accused in Aligarh hooch tragedy that killed over 100, arrested',\n",
              " \"Human race facing an existential crisis in Covid-19 pandemic: Delhi High Court. Delhi HC can't find anything which shows that government officials handheld the vaccine manufacturers and acted as facilitators.\",\n",
              " 'An Indian science podcast about possible desi futures',\n",
              " 'Maharashtra issues fixed rates for Covid-19 treatment in private hospitals',\n",
              " 'Need A job in mechanical industry',\n",
              " '\"We know it\\'s not all men. But it\\'s enough men (traumatising us) to make us wary of all men. And all men need to understand and respect that.\"',\n",
              " 'Counter point by Subhani',\n",
              " 'Do you think that most of the Indians are just so hung up on the glorious past of ours and are refusing to believe that India is not what it used to be. Is this sense of pride hindering our development in present and ruining our future?',\n",
              " 'Goibibo- Refund for flight on hold for more than a year',\n",
              " \"Colony Park's issue\",\n",
              " 'What happened to Quora India?',\n",
              " 'Majority of Indians are stupid and will not learn from their mistakes. Our future looks dark.',\n",
              " 'Students who successfully transitioned to online classes, what are the strategies,tips,hacks,tricks that you use?',\n",
              " 'Using Selenium and Twilio’s Voice API to call myself for getting my vaccine slot booked',\n",
              " 'Niti Ayog’s annual ranking of India’s states on key goals: winners, laggards & some surprises',\n",
              " '#MeToo: Model accuses nine high profile men in Bollywood of rape and sexual assault',\n",
              " 'Muslims near India’s Hindu temple allege pressure to vacate homes | Religion News',\n",
              " 'What is your take on caste based reservation in India? Is it merely a vote bank agenda?',\n",
              " 'Can someone verify if this Google Form is legit for the vaccine? Some old relatives shared it on a WhatsApp group. If not, how to shut it down.',\n",
              " 'Gujarat\\'s Amended Freedom of Religion Act to come into force from June 15. Prohibits \"forcible religious conversion by marriage.\"',\n",
              " 'Neural Interface Lets Man Type On Computer By Imagining Handwriting',\n",
              " 'Jammu and Kashmir Militancy Violence: How a Kashmiri Detainee ‘Turned’ Into Militant in Police Custody in Tral',\n",
              " 'Has West Bengal Become a Regional Trap for the Narendra Modi Government?: There can be little disagreement with the fact that Mamata Banerjee is the first politician in recent memory to have comprehensively defeated the very idea of Modi',\n",
              " '[URGENT] Require journal access through your institution!',\n",
              " 'Can someone explain to me the hidden charges of Groww and Zerodha Kite in layman terms?',\n",
              " 'Hey! An organization I am involved with has started a free legal helpline on WhatsApp for questions related to Covid-19. Check it out.',\n",
              " 'WTO panel issues report in Canada-Australia wine dispute',\n",
              " 'When will these 3 dumbest breeds of people SSRians & Cult Followers of Murderer Rampal, Rapist Asaram let us live in peace online, without irritating & annoying us everyday?',\n",
              " 'What will happen if i find 10 lakhs rupees & want to deposit in bank?',\n",
              " 'We made a Covid-19 Telegram bot which allows patients to find donors in a much more efficient manner! Please share.',\n",
              " \"Centre prevented 'big scam' of AAP govt: BJP on Delhi's doorstep ration delivery scheme\",\n",
              " \"Farmers protest: Won't leave Delhi borders at any cost, says Rakesh Tikait\",\n",
              " \"Will working at Cognizant as a GenC Developer give me good learning curve if I'm a fresher?\",\n",
              " '\"Told Daugher, Mom Is Fighting Covid With Durga Ma\" | Bengaluru Father\\'s Tragedy |Barkha Dutt',\n",
              " 'How to not speak with your parents everyday and not feel guilty about it?',\n",
              " 'A Diversity of Wildlife Is Good for Our Health: To Prevent Future Pandemics, We Must Restore and Protect Nature',\n",
              " 'Centre pays Rs 1,500 crore advance to Biological E for 30 crore doses',\n",
              " 'Muslims Fearful of Being Targeted After Fresh Spike in Attacks in UP',\n",
              " 'In need of a Legal Research Database/website/software urgently.',\n",
              " 'My mom does not believe in the covid vaccine and is refusing to take one. what should I do?',\n",
              " 'Griffith University researchers develop vaccine for human babesiosis',\n",
              " 'The Boston Globe: More communities are finding toxic chemicals in their drinking water',\n",
              " '[ UPDATE ] : Yesterday I posted some messages which were sent by the schools forcing students to tweet thanking Modi and Pokhriyal for cancelling CBSE 12th board exams. Since then THE HINDU has reported on the same issue, and several redditors have come forward with similar experiences.',\n",
              " \"Stop generalising a community just because of one asshole from that community made an insensible comment. If we generalise and make fun of us ourselves then we don't need others to destroy our culture. This applies to both wings.\",\n",
              " 'If someone asks your advise on how to lead their lives, what would you say?',\n",
              " \"[HELP] I'm sick due to company's negligence (Big basket, they shipped rotten eggs) and it has affected my work too. Is there a way I can get justice for my case.\",\n",
              " 'Is it advisable to make the switch or continue to prepare for CAT?',\n",
              " 'Which browser you use on phone?',\n",
              " 'Every Journalist Entitled To Protection\": Supreme Court On Sedition',\n",
              " 'New annual infections with HIV fell by 73 percent between 1981 and 2019, according to a new analysis by the CDC released Thursday. But the proportion of infected minority Black and Latino people has risen',\n",
              " 'Solution to biased media (concept)',\n",
              " \"‘Aadhaar’ for your family — Modi govt plans new universal ID to 'ease welfare distribution'\",\n",
              " 'Bi-Weekly Career and Hiring Discussion Thread',\n",
              " 'Air quality linked to increased risk of Alzheimer’s disease in animal model',\n",
              " 'The Power Politics Behind Twitter versus Government of India',\n",
              " 'Govt’s vaccination policy leaves Persons with Disabilities behind. We need Census-type energy: From Canada to UAE to Chile, Persons with Disabilities are getting home vaccinated. In India, there was no priority vaccination scheme for us',\n",
              " 'What courses I can do to get good paying jobs.',\n",
              " 'Covid-19: Abu Dhabi temple provides 2,000 oxygen cylinders to India',\n",
              " 'Bride dies at wedding in India, groom marries sister instead',\n",
              " 'New pension rules are a gag order, say rattled ex-security, intel officers',\n",
              " 'New Study Estimates More Than 900,000 People Have Died Of COVID-19 In U.S.',\n",
              " 'Mortgaging property, selling jewellery, drawing loans: how high Covid-19 bills are pushing families to the brink of penury',\n",
              " 'How do I get over this dilemma?',\n",
              " 'Sab Changa si',\n",
              " ...}"
            ]
          },
          "metadata": {
            "tags": []
          },
          "execution_count": 29
        }
      ]
    },
    {
      "cell_type": "code",
      "metadata": {
        "colab": {
          "base_uri": "https://localhost:8080/"
        },
        "id": "XueN3iendL3M",
        "outputId": "10063f3e-1bb8-4dd6-eaeb-7f03acd3f471"
      },
      "source": [
        "results = []\n",
        "\n",
        "for line in headlines:\n",
        "    pol_score = sia.polarity_scores(line)\n",
        "    pol_score['headline'] = line\n",
        "    results.append(pol_score)\n",
        "\n",
        "pprint(results[:3], width=100)"
      ],
      "execution_count": 30,
      "outputs": [
        {
          "output_type": "stream",
          "text": [
            "[{'compound': -0.5267,\n",
            "  'headline': 'Frustrated with my parents',\n",
            "  'neg': 0.531,\n",
            "  'neu': 0.469,\n",
            "  'pos': 0.0},\n",
            " {'compound': 0.0,\n",
            "  'headline': 'Are senior citizen homes available on rental basis? What is the model followed '\n",
            "              'usually?',\n",
            "  'neg': 0.0,\n",
            "  'neu': 1.0,\n",
            "  'pos': 0.0},\n",
            " {'compound': 0.0,\n",
            "  'headline': 'Adolescents Can Get Routine Immunizations With Their COVID Shots, CDC Advisers Say '\n",
            "              ': Coronavirus Updates : NPR',\n",
            "  'neg': 0.0,\n",
            "  'neu': 1.0,\n",
            "  'pos': 0.0}]\n"
          ],
          "name": "stdout"
        }
      ]
    },
    {
      "cell_type": "code",
      "metadata": {
        "colab": {
          "base_uri": "https://localhost:8080/",
          "height": 203
        },
        "id": "5FIkZ5kvdUcG",
        "outputId": "1c175dc9-151d-4225-83df-b99e80261567"
      },
      "source": [
        "df2 = pd.DataFrame.from_records(results)\n",
        "df2.head()"
      ],
      "execution_count": 31,
      "outputs": [
        {
          "output_type": "execute_result",
          "data": {
            "text/html": [
              "<div>\n",
              "<style scoped>\n",
              "    .dataframe tbody tr th:only-of-type {\n",
              "        vertical-align: middle;\n",
              "    }\n",
              "\n",
              "    .dataframe tbody tr th {\n",
              "        vertical-align: top;\n",
              "    }\n",
              "\n",
              "    .dataframe thead th {\n",
              "        text-align: right;\n",
              "    }\n",
              "</style>\n",
              "<table border=\"1\" class=\"dataframe\">\n",
              "  <thead>\n",
              "    <tr style=\"text-align: right;\">\n",
              "      <th></th>\n",
              "      <th>neg</th>\n",
              "      <th>neu</th>\n",
              "      <th>pos</th>\n",
              "      <th>compound</th>\n",
              "      <th>headline</th>\n",
              "    </tr>\n",
              "  </thead>\n",
              "  <tbody>\n",
              "    <tr>\n",
              "      <th>0</th>\n",
              "      <td>0.531</td>\n",
              "      <td>0.469</td>\n",
              "      <td>0.0</td>\n",
              "      <td>-0.5267</td>\n",
              "      <td>Frustrated with my parents</td>\n",
              "    </tr>\n",
              "    <tr>\n",
              "      <th>1</th>\n",
              "      <td>0.000</td>\n",
              "      <td>1.000</td>\n",
              "      <td>0.0</td>\n",
              "      <td>0.0000</td>\n",
              "      <td>Are senior citizen homes available on rental b...</td>\n",
              "    </tr>\n",
              "    <tr>\n",
              "      <th>2</th>\n",
              "      <td>0.000</td>\n",
              "      <td>1.000</td>\n",
              "      <td>0.0</td>\n",
              "      <td>0.0000</td>\n",
              "      <td>Adolescents Can Get Routine Immunizations With...</td>\n",
              "    </tr>\n",
              "    <tr>\n",
              "      <th>3</th>\n",
              "      <td>0.366</td>\n",
              "      <td>0.634</td>\n",
              "      <td>0.0</td>\n",
              "      <td>-0.6369</td>\n",
              "      <td>Arrest of a 15-Year-Old Under UAPA in J&amp;K Show...</td>\n",
              "    </tr>\n",
              "    <tr>\n",
              "      <th>4</th>\n",
              "      <td>0.658</td>\n",
              "      <td>0.342</td>\n",
              "      <td>0.0</td>\n",
              "      <td>-0.8271</td>\n",
              "      <td>TW: Sexual Harassment, Abuse (Want help)</td>\n",
              "    </tr>\n",
              "  </tbody>\n",
              "</table>\n",
              "</div>"
            ],
            "text/plain": [
              "     neg    neu  ...  compound                                           headline\n",
              "0  0.531  0.469  ...   -0.5267                         Frustrated with my parents\n",
              "1  0.000  1.000  ...    0.0000  Are senior citizen homes available on rental b...\n",
              "2  0.000  1.000  ...    0.0000  Adolescents Can Get Routine Immunizations With...\n",
              "3  0.366  0.634  ...   -0.6369  Arrest of a 15-Year-Old Under UAPA in J&K Show...\n",
              "4  0.658  0.342  ...   -0.8271           TW: Sexual Harassment, Abuse (Want help)\n",
              "\n",
              "[5 rows x 5 columns]"
            ]
          },
          "metadata": {
            "tags": []
          },
          "execution_count": 31
        }
      ]
    },
    {
      "cell_type": "code",
      "metadata": {
        "colab": {
          "base_uri": "https://localhost:8080/",
          "height": 203
        },
        "id": "Jck9s7FXdb_F",
        "outputId": "7b053495-8c35-4f56-eb09-1e9c52c74e5b"
      },
      "source": [
        "df2['label'] = 0\n",
        "df2.loc[df2['compound'] > 0.2, 'label'] = 1\n",
        "df2.loc[df2['compound'] < -0.2, 'label'] = -1\n",
        "df2.head()"
      ],
      "execution_count": 32,
      "outputs": [
        {
          "output_type": "execute_result",
          "data": {
            "text/html": [
              "<div>\n",
              "<style scoped>\n",
              "    .dataframe tbody tr th:only-of-type {\n",
              "        vertical-align: middle;\n",
              "    }\n",
              "\n",
              "    .dataframe tbody tr th {\n",
              "        vertical-align: top;\n",
              "    }\n",
              "\n",
              "    .dataframe thead th {\n",
              "        text-align: right;\n",
              "    }\n",
              "</style>\n",
              "<table border=\"1\" class=\"dataframe\">\n",
              "  <thead>\n",
              "    <tr style=\"text-align: right;\">\n",
              "      <th></th>\n",
              "      <th>neg</th>\n",
              "      <th>neu</th>\n",
              "      <th>pos</th>\n",
              "      <th>compound</th>\n",
              "      <th>headline</th>\n",
              "      <th>label</th>\n",
              "    </tr>\n",
              "  </thead>\n",
              "  <tbody>\n",
              "    <tr>\n",
              "      <th>0</th>\n",
              "      <td>0.531</td>\n",
              "      <td>0.469</td>\n",
              "      <td>0.0</td>\n",
              "      <td>-0.5267</td>\n",
              "      <td>Frustrated with my parents</td>\n",
              "      <td>-1</td>\n",
              "    </tr>\n",
              "    <tr>\n",
              "      <th>1</th>\n",
              "      <td>0.000</td>\n",
              "      <td>1.000</td>\n",
              "      <td>0.0</td>\n",
              "      <td>0.0000</td>\n",
              "      <td>Are senior citizen homes available on rental b...</td>\n",
              "      <td>0</td>\n",
              "    </tr>\n",
              "    <tr>\n",
              "      <th>2</th>\n",
              "      <td>0.000</td>\n",
              "      <td>1.000</td>\n",
              "      <td>0.0</td>\n",
              "      <td>0.0000</td>\n",
              "      <td>Adolescents Can Get Routine Immunizations With...</td>\n",
              "      <td>0</td>\n",
              "    </tr>\n",
              "    <tr>\n",
              "      <th>3</th>\n",
              "      <td>0.366</td>\n",
              "      <td>0.634</td>\n",
              "      <td>0.0</td>\n",
              "      <td>-0.6369</td>\n",
              "      <td>Arrest of a 15-Year-Old Under UAPA in J&amp;K Show...</td>\n",
              "      <td>-1</td>\n",
              "    </tr>\n",
              "    <tr>\n",
              "      <th>4</th>\n",
              "      <td>0.658</td>\n",
              "      <td>0.342</td>\n",
              "      <td>0.0</td>\n",
              "      <td>-0.8271</td>\n",
              "      <td>TW: Sexual Harassment, Abuse (Want help)</td>\n",
              "      <td>-1</td>\n",
              "    </tr>\n",
              "  </tbody>\n",
              "</table>\n",
              "</div>"
            ],
            "text/plain": [
              "     neg    neu  ...                                           headline  label\n",
              "0  0.531  0.469  ...                         Frustrated with my parents     -1\n",
              "1  0.000  1.000  ...  Are senior citizen homes available on rental b...      0\n",
              "2  0.000  1.000  ...  Adolescents Can Get Routine Immunizations With...      0\n",
              "3  0.366  0.634  ...  Arrest of a 15-Year-Old Under UAPA in J&K Show...     -1\n",
              "4  0.658  0.342  ...           TW: Sexual Harassment, Abuse (Want help)     -1\n",
              "\n",
              "[5 rows x 6 columns]"
            ]
          },
          "metadata": {
            "tags": []
          },
          "execution_count": 32
        }
      ]
    },
    {
      "cell_type": "code",
      "metadata": {
        "colab": {
          "base_uri": "https://localhost:8080/"
        },
        "id": "2bD2t-LfewpV",
        "outputId": "7e06725e-4010-46bd-b1f8-6cbec71b46a3"
      },
      "source": [
        "nltk.download('punkt')\n",
        "from nltk.tokenize import word_tokenize, RegexpTokenizer\n",
        "\n",
        "\n",
        "example = \"Let us experiment over this sentence and look into its working\"\n",
        "\n",
        "print(word_tokenize(example, language='english'))\n",
        "\n",
        "tokenizer = RegexpTokenizer(r'\\w+')\n",
        "tokenizer.tokenize(example)\n",
        "pos_lines = list(df2[df2.label == 1].headline)\n",
        "\n",
        "pos_tokens = process_text(pos_lines)\n",
        "pos_freq = nltk.FreqDist(pos_tokens)\n",
        "\n",
        "pos_freq.most_common(20)"
      ],
      "execution_count": 33,
      "outputs": [
        {
          "output_type": "stream",
          "text": [
            "[nltk_data] Downloading package punkt to /root/nltk_data...\n",
            "[nltk_data]   Package punkt is already up-to-date!\n",
            "['Let', 'us', 'experiment', 'over', 'this', 'sentence', 'and', 'look', 'into', 'its', 'working']\n"
          ],
          "name": "stdout"
        },
        {
          "output_type": "execute_result",
          "data": {
            "text/plain": [
              "[('india', 39),\n",
              " ('covid', 28),\n",
              " ('help', 20),\n",
              " ('indian', 15),\n",
              " ('need', 14),\n",
              " ('please', 12),\n",
              " ('good', 12),\n",
              " ('health', 11),\n",
              " ('19', 11),\n",
              " ('court', 10),\n",
              " ('like', 10),\n",
              " ('long', 10),\n",
              " ('vaccine', 9),\n",
              " ('pandemic', 9),\n",
              " ('delhi', 8),\n",
              " ('people', 8),\n",
              " ('anyone', 7),\n",
              " ('us', 7),\n",
              " ('know', 7),\n",
              " ('best', 7)]"
            ]
          },
          "metadata": {
            "tags": []
          },
          "execution_count": 33
        }
      ]
    },
    {
      "cell_type": "code",
      "metadata": {
        "colab": {
          "base_uri": "https://localhost:8080/"
        },
        "id": "9xawUp7mg4cY",
        "outputId": "56a9f00c-ba36-4d83-ac77-9f5c75deeee8"
      },
      "source": [
        "df2 = df2[df2.label != 0]\n",
        "df2.label.value_counts()"
      ],
      "execution_count": 35,
      "outputs": [
        {
          "output_type": "execute_result",
          "data": {
            "text/plain": [
              "-1    319\n",
              " 1    227\n",
              "Name: label, dtype: int64"
            ]
          },
          "metadata": {
            "tags": []
          },
          "execution_count": 35
        }
      ]
    },
    {
      "cell_type": "code",
      "metadata": {
        "colab": {
          "base_uri": "https://localhost:8080/",
          "height": 417
        },
        "id": "_SBVSzFah0_l",
        "outputId": "7d9aadee-5ba8-425c-c305-701d1089f8a7"
      },
      "source": [
        "df2"
      ],
      "execution_count": 37,
      "outputs": [
        {
          "output_type": "execute_result",
          "data": {
            "text/html": [
              "<div>\n",
              "<style scoped>\n",
              "    .dataframe tbody tr th:only-of-type {\n",
              "        vertical-align: middle;\n",
              "    }\n",
              "\n",
              "    .dataframe tbody tr th {\n",
              "        vertical-align: top;\n",
              "    }\n",
              "\n",
              "    .dataframe thead th {\n",
              "        text-align: right;\n",
              "    }\n",
              "</style>\n",
              "<table border=\"1\" class=\"dataframe\">\n",
              "  <thead>\n",
              "    <tr style=\"text-align: right;\">\n",
              "      <th></th>\n",
              "      <th>neg</th>\n",
              "      <th>neu</th>\n",
              "      <th>pos</th>\n",
              "      <th>compound</th>\n",
              "      <th>headline</th>\n",
              "      <th>label</th>\n",
              "    </tr>\n",
              "  </thead>\n",
              "  <tbody>\n",
              "    <tr>\n",
              "      <th>0</th>\n",
              "      <td>0.531</td>\n",
              "      <td>0.469</td>\n",
              "      <td>0.000</td>\n",
              "      <td>-0.5267</td>\n",
              "      <td>Frustrated with my parents</td>\n",
              "      <td>-1</td>\n",
              "    </tr>\n",
              "    <tr>\n",
              "      <th>3</th>\n",
              "      <td>0.366</td>\n",
              "      <td>0.634</td>\n",
              "      <td>0.000</td>\n",
              "      <td>-0.6369</td>\n",
              "      <td>Arrest of a 15-Year-Old Under UAPA in J&amp;K Show...</td>\n",
              "      <td>-1</td>\n",
              "    </tr>\n",
              "    <tr>\n",
              "      <th>4</th>\n",
              "      <td>0.658</td>\n",
              "      <td>0.342</td>\n",
              "      <td>0.000</td>\n",
              "      <td>-0.8271</td>\n",
              "      <td>TW: Sexual Harassment, Abuse (Want help)</td>\n",
              "      <td>-1</td>\n",
              "    </tr>\n",
              "    <tr>\n",
              "      <th>5</th>\n",
              "      <td>0.369</td>\n",
              "      <td>0.476</td>\n",
              "      <td>0.155</td>\n",
              "      <td>-0.4215</td>\n",
              "      <td>Govt clears building of 6 attack submarines</td>\n",
              "      <td>-1</td>\n",
              "    </tr>\n",
              "    <tr>\n",
              "      <th>6</th>\n",
              "      <td>0.000</td>\n",
              "      <td>0.748</td>\n",
              "      <td>0.252</td>\n",
              "      <td>0.4019</td>\n",
              "      <td>Tamil Nadu : AIADMK co-coordinator Palaniswami...</td>\n",
              "      <td>1</td>\n",
              "    </tr>\n",
              "    <tr>\n",
              "      <th>...</th>\n",
              "      <td>...</td>\n",
              "      <td>...</td>\n",
              "      <td>...</td>\n",
              "      <td>...</td>\n",
              "      <td>...</td>\n",
              "      <td>...</td>\n",
              "    </tr>\n",
              "    <tr>\n",
              "      <th>1042</th>\n",
              "      <td>0.340</td>\n",
              "      <td>0.660</td>\n",
              "      <td>0.000</td>\n",
              "      <td>-0.5574</td>\n",
              "      <td>Delhi hospital revokes ban on talking in Malay...</td>\n",
              "      <td>-1</td>\n",
              "    </tr>\n",
              "    <tr>\n",
              "      <th>1044</th>\n",
              "      <td>0.219</td>\n",
              "      <td>0.707</td>\n",
              "      <td>0.074</td>\n",
              "      <td>-0.6486</td>\n",
              "      <td>An app that swiftly sends CPR volunteers to he...</td>\n",
              "      <td>-1</td>\n",
              "    </tr>\n",
              "    <tr>\n",
              "      <th>1046</th>\n",
              "      <td>0.073</td>\n",
              "      <td>0.927</td>\n",
              "      <td>0.000</td>\n",
              "      <td>-0.4404</td>\n",
              "      <td>Jammu &amp; Kashmir: A 124-year-old woman from Shr...</td>\n",
              "      <td>-1</td>\n",
              "    </tr>\n",
              "    <tr>\n",
              "      <th>1048</th>\n",
              "      <td>0.000</td>\n",
              "      <td>0.863</td>\n",
              "      <td>0.137</td>\n",
              "      <td>0.2263</td>\n",
              "      <td>A million people signed up for Obamacare. Many...</td>\n",
              "      <td>1</td>\n",
              "    </tr>\n",
              "    <tr>\n",
              "      <th>1050</th>\n",
              "      <td>0.293</td>\n",
              "      <td>0.707</td>\n",
              "      <td>0.000</td>\n",
              "      <td>-0.4404</td>\n",
              "      <td>'Black Fungus' Infection Adds To India's COVID...</td>\n",
              "      <td>-1</td>\n",
              "    </tr>\n",
              "  </tbody>\n",
              "</table>\n",
              "<p>546 rows × 6 columns</p>\n",
              "</div>"
            ],
            "text/plain": [
              "        neg    neu  ...                                           headline  label\n",
              "0     0.531  0.469  ...                         Frustrated with my parents     -1\n",
              "3     0.366  0.634  ...  Arrest of a 15-Year-Old Under UAPA in J&K Show...     -1\n",
              "4     0.658  0.342  ...           TW: Sexual Harassment, Abuse (Want help)     -1\n",
              "5     0.369  0.476  ...        Govt clears building of 6 attack submarines     -1\n",
              "6     0.000  0.748  ...  Tamil Nadu : AIADMK co-coordinator Palaniswami...      1\n",
              "...     ...    ...  ...                                                ...    ...\n",
              "1042  0.340  0.660  ...  Delhi hospital revokes ban on talking in Malay...     -1\n",
              "1044  0.219  0.707  ...  An app that swiftly sends CPR volunteers to he...     -1\n",
              "1046  0.073  0.927  ...  Jammu & Kashmir: A 124-year-old woman from Shr...     -1\n",
              "1048  0.000  0.863  ...  A million people signed up for Obamacare. Many...      1\n",
              "1050  0.293  0.707  ...  'Black Fungus' Infection Adds To India's COVID...     -1\n",
              "\n",
              "[546 rows x 6 columns]"
            ]
          },
          "metadata": {
            "tags": []
          },
          "execution_count": 37
        }
      ]
    },
    {
      "cell_type": "code",
      "metadata": {
        "id": "InirXlMxhULi"
      },
      "source": [
        "X_test = df2.headline\n",
        "y_test = df2.label"
      ],
      "execution_count": 38,
      "outputs": []
    },
    {
      "cell_type": "code",
      "metadata": {
        "colab": {
          "base_uri": "https://localhost:8080/"
        },
        "id": "stIbtJAwhxUa",
        "outputId": "81889b40-24df-4ab0-9ef4-bf38de45fb9d"
      },
      "source": [
        "X_test_vect = vect.transform(X_test)\n",
        "\n",
        "y_pred = nb.predict(X_test_vect)\n",
        "\n",
        "y_pred"
      ],
      "execution_count": 39,
      "outputs": [
        {
          "output_type": "execute_result",
          "data": {
            "text/plain": [
              "array([-1, -1, -1, -1,  1,  1,  1, -1, -1,  1,  1, -1, -1,  1,  1, -1,  1,\n",
              "        1,  1,  1,  1, -1, -1,  1,  1, -1, -1, -1,  1, -1,  1, -1,  1, -1,\n",
              "        1,  1, -1, -1,  1, -1, -1,  1, -1, -1, -1,  1, -1,  1,  1,  1, -1,\n",
              "       -1,  1, -1,  1,  1,  1, -1,  1,  1, -1, -1,  1, -1, -1,  1,  1, -1,\n",
              "        1,  1,  1, -1,  1, -1,  1, -1, -1,  1,  1,  1,  1, -1, -1,  1,  1,\n",
              "       -1,  1,  1,  1, -1,  1,  1, -1,  1,  1,  1,  1,  1,  1,  1,  1,  1,\n",
              "        1, -1, -1,  1, -1,  1,  1,  1, -1, -1, -1, -1,  1, -1,  1, -1,  1,\n",
              "       -1,  1,  1, -1,  1, -1, -1, -1, -1,  1,  1, -1, -1,  1, -1,  1,  1,\n",
              "       -1, -1, -1,  1, -1,  1, -1, -1,  1,  1, -1,  1, -1, -1, -1,  1,  1,\n",
              "        1,  1, -1, -1,  1, -1,  1, -1, -1,  1,  1,  1,  1, -1, -1, -1,  1,\n",
              "        1, -1, -1, -1,  1, -1, -1,  1, -1, -1,  1,  1, -1,  1,  1, -1, -1,\n",
              "       -1, -1,  1, -1, -1, -1, -1,  1, -1,  1, -1,  1,  1,  1, -1,  1,  1,\n",
              "       -1, -1,  1,  1, -1,  1, -1, -1,  1, -1, -1, -1,  1, -1,  1,  1, -1,\n",
              "       -1, -1,  1,  1, -1,  1, -1,  1, -1, -1,  1,  1, -1, -1, -1, -1, -1,\n",
              "        1, -1, -1,  1,  1,  1,  1,  1,  1,  1, -1,  1,  1, -1,  1,  1,  1,\n",
              "        1,  1,  1,  1, -1, -1, -1,  1, -1,  1,  1,  1,  1, -1,  1,  1,  1,\n",
              "       -1,  1,  1, -1,  1,  1,  1, -1, -1, -1, -1, -1,  1, -1, -1,  1, -1,\n",
              "        1,  1, -1, -1,  1,  1,  1,  1,  1,  1,  1, -1, -1, -1,  1, -1, -1,\n",
              "       -1, -1,  1,  1, -1,  1,  1,  1, -1,  1, -1,  1,  1, -1, -1,  1, -1,\n",
              "        1,  1, -1,  1, -1,  1,  1,  1, -1,  1, -1, -1,  1, -1,  1,  1,  1,\n",
              "       -1,  1, -1, -1, -1,  1,  1, -1, -1, -1, -1,  1, -1, -1,  1,  1, -1,\n",
              "       -1,  1,  1,  1, -1,  1,  1,  1, -1,  1, -1,  1, -1, -1,  1,  1,  1,\n",
              "       -1,  1,  1, -1, -1, -1, -1,  1, -1, -1, -1, -1,  1,  1, -1, -1,  1,\n",
              "        1,  1, -1, -1, -1, -1, -1, -1,  1,  1,  1, -1,  1, -1, -1, -1,  1,\n",
              "       -1, -1,  1,  1,  1,  1,  1,  1, -1,  1, -1,  1, -1,  1, -1,  1,  1,\n",
              "        1, -1,  1,  1, -1, -1, -1, -1,  1, -1, -1,  1,  1, -1,  1,  1,  1,\n",
              "       -1, -1,  1, -1,  1,  1,  1, -1,  1, -1, -1,  1,  1,  1, -1,  1,  1,\n",
              "       -1,  1,  1,  1,  1,  1,  1,  1, -1, -1,  1,  1, -1, -1, -1,  1, -1,\n",
              "        1,  1,  1, -1, -1, -1,  1,  1, -1, -1,  1,  1,  1,  1,  1, -1, -1,\n",
              "        1,  1, -1,  1, -1,  1, -1,  1,  1, -1, -1,  1, -1,  1,  1, -1,  1,\n",
              "        1,  1,  1, -1,  1,  1,  1,  1,  1,  1,  1, -1, -1,  1,  1,  1,  1,\n",
              "       -1,  1, -1,  1, -1, -1, -1, -1, -1,  1,  1, -1, -1, -1, -1, -1, -1,\n",
              "        1,  1])"
            ]
          },
          "metadata": {
            "tags": []
          },
          "execution_count": 39
        }
      ]
    },
    {
      "cell_type": "code",
      "metadata": {
        "colab": {
          "base_uri": "https://localhost:8080/"
        },
        "id": "Z3iOaEAKiru4",
        "outputId": "52c423d9-4bf8-408a-b613-12e4c067801f"
      },
      "source": [
        "from sklearn.metrics import accuracy_score, f1_score, confusion_matrix\n",
        "\n",
        "print(\"Accuracy: {:.2f}%\".format(accuracy_score(y_test, y_pred) * 100))\n",
        "print(\"\\nF1 Score: {:.2f}\".format(f1_score(y_test, y_pred) * 100))\n",
        "print(\"\\nCOnfusion Matrix:\\n\", confusion_matrix(y_test, y_pred))"
      ],
      "execution_count": 40,
      "outputs": [
        {
          "output_type": "stream",
          "text": [
            "Accuracy: 77.29%\n",
            "\n",
            "F1 Score: 76.06\n",
            "\n",
            "COnfusion Matrix:\n",
            " [[225  94]\n",
            " [ 30 197]]\n"
          ],
          "name": "stdout"
        }
      ]
    },
    {
      "cell_type": "code",
      "metadata": {
        "id": "Xiho1BjSjQ2y"
      },
      "source": [
        ""
      ],
      "execution_count": null,
      "outputs": []
    }
  ]
}